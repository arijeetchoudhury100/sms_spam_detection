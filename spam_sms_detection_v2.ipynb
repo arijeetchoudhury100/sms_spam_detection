{
  "nbformat": 4,
  "nbformat_minor": 0,
  "metadata": {
    "colab": {
      "name": "spam_sms_detection_v2.ipynb",
      "provenance": [],
      "collapsed_sections": [],
      "authorship_tag": "ABX9TyM2cicQEgOdccdsvlhEz3Eb",
      "include_colab_link": true
    },
    "kernelspec": {
      "name": "python3",
      "display_name": "Python 3"
    }
  },
  "cells": [
    {
      "cell_type": "markdown",
      "metadata": {
        "id": "view-in-github",
        "colab_type": "text"
      },
      "source": [
        "<a href=\"https://colab.research.google.com/github/arijeetchoudhury100/sms_spam_detection/blob/master/spam_sms_detection_v2.ipynb\" target=\"_parent\"><img src=\"https://colab.research.google.com/assets/colab-badge.svg\" alt=\"Open In Colab\"/></a>"
      ]
    },
    {
      "cell_type": "code",
      "metadata": {
        "id": "7IPT0TFTbErd",
        "colab_type": "code",
        "colab": {}
      },
      "source": [
        "import numpy as np\n",
        "import csv\n",
        "import re\n",
        "import string\n",
        "import nltk"
      ],
      "execution_count": 0,
      "outputs": []
    },
    {
      "cell_type": "code",
      "metadata": {
        "id": "Cgymta2abqfz",
        "colab_type": "code",
        "colab": {}
      },
      "source": [
        "#load the data\n",
        "data = []\n",
        "labels = []\n",
        "with open('spam.csv','r',encoding='latin-1') as csvfile:\n",
        "  reader = csv.reader(csvfile,delimiter=',')\n",
        "  for row in reader:\n",
        "    labels.append(row[0])\n",
        "    data.append(row[1])"
      ],
      "execution_count": 0,
      "outputs": []
    },
    {
      "cell_type": "code",
      "metadata": {
        "id": "YFDVBWUhbv_S",
        "colab_type": "code",
        "outputId": "252772ed-a8ba-4c43-9376-d8ea2ba44a76",
        "colab": {
          "base_uri": "https://localhost:8080/",
          "height": 35
        }
      },
      "source": [
        "print('No. of examples: ',len(data))"
      ],
      "execution_count": 110,
      "outputs": [
        {
          "output_type": "stream",
          "text": [
            "No. of examples:  5573\n"
          ],
          "name": "stdout"
        }
      ]
    },
    {
      "cell_type": "code",
      "metadata": {
        "id": "CeGlud1zd7hc",
        "colab_type": "code",
        "colab": {}
      },
      "source": [
        "def convert_binary(x):\n",
        "  if x == 'spam':\n",
        "    return 1\n",
        "  else:\n",
        "    return 0"
      ],
      "execution_count": 0,
      "outputs": []
    },
    {
      "cell_type": "code",
      "metadata": {
        "id": "sSOCnY2DvzsV",
        "colab_type": "code",
        "colab": {}
      },
      "source": [
        "def remove_punctuation(text): \n",
        "    translator = str.maketrans(' ', ' ', string.punctuation) \n",
        "    return text.translate(translator)"
      ],
      "execution_count": 0,
      "outputs": []
    },
    {
      "cell_type": "code",
      "metadata": {
        "id": "oo8Q9n1dv-dg",
        "colab_type": "code",
        "colab": {}
      },
      "source": [
        "def remove_whitespace(text): \n",
        "    return  \" \".join(text.split()) "
      ],
      "execution_count": 0,
      "outputs": []
    },
    {
      "cell_type": "code",
      "metadata": {
        "id": "BBOj_C33e1PB",
        "colab_type": "code",
        "colab": {}
      },
      "source": [
        "#convert labels 'ham' and 'spam' to 0 and 1 respectively\n",
        "blabels = list(map(convert_binary,labels))"
      ],
      "execution_count": 0,
      "outputs": []
    },
    {
      "cell_type": "code",
      "metadata": {
        "id": "vQQZR0b6fGfj",
        "colab_type": "code",
        "outputId": "1a4dbc2f-7928-4c16-c434-36b4b0194513",
        "colab": {
          "base_uri": "https://localhost:8080/",
          "height": 89
        }
      },
      "source": [
        "#remove column headers\n",
        "data = data[1:]\n",
        "blabels = blabels[1:]\n",
        "print(len(data))\n",
        "print(len(blabels))\n",
        "print(data[0])\n",
        "print(blabels[0])"
      ],
      "execution_count": 116,
      "outputs": [
        {
          "output_type": "stream",
          "text": [
            "5572\n",
            "5572\n",
            "Go until jurong point, crazy.. Available only in bugis n great world la e buffet... Cine there got amore wat...\n",
            "0\n"
          ],
          "name": "stdout"
        }
      ]
    },
    {
      "cell_type": "code",
      "metadata": {
        "id": "4gIio_l7fWqq",
        "colab_type": "code",
        "colab": {}
      },
      "source": [
        "#preprocess the messages\n",
        "\n",
        "#convert messages to lowercase\n",
        "data = [msg.strip().lower() for msg in data]\n",
        "\n",
        "#convert links to 'httpaddr'\n",
        "data = [re.sub('http[s]?://\\S+', 'httpaddr',msg) for msg in data]\n",
        "\n",
        "#convert all numbers to 'number'\n",
        "data = [re.sub('[\\d]+','number',msg) for msg in data]\n",
        "\n",
        "#convert $ sign to 'dollar\n",
        "data = [re.sub('[$]+','dollar',msg) for msg in data]\n",
        "\n",
        "#convert email addresses to 'emailaddr'\n",
        "data = [re.sub('\\S+@\\S+','emailaddr',msg) for msg in data]\n",
        "\n",
        "#remove punctuations and extra whitespaces\n",
        "data = [remove_punctuation(msg) for msg in data]\n",
        "data = [remove_whitespace(msg) for msg in data]"
      ],
      "execution_count": 0,
      "outputs": []
    },
    {
      "cell_type": "code",
      "metadata": {
        "id": "V6Zj_qd3J5IN",
        "colab_type": "code",
        "outputId": "3fe8ac34-af58-4e2d-9d91-9f3500899303",
        "colab": {
          "base_uri": "https://localhost:8080/",
          "height": 89
        }
      },
      "source": [
        "print(len(data))\n",
        "print(len(blabels))\n",
        "print(data[0])\n",
        "print(blabels[0])"
      ],
      "execution_count": 118,
      "outputs": [
        {
          "output_type": "stream",
          "text": [
            "5572\n",
            "5572\n",
            "go until jurong point crazy available only in bugis n great world la e buffet cine there got amore wat\n",
            "0\n"
          ],
          "name": "stdout"
        }
      ]
    },
    {
      "cell_type": "code",
      "metadata": {
        "id": "_2zkhIB9u4ue",
        "colab_type": "code",
        "colab": {}
      },
      "source": [
        "from nltk.stem.porter import PorterStemmer\n",
        "import nltk.corpus as nc"
      ],
      "execution_count": 0,
      "outputs": []
    },
    {
      "cell_type": "code",
      "metadata": {
        "id": "6hCenK_SvQ7j",
        "colab_type": "code",
        "outputId": "bc91ade0-0b45-4a41-a57f-4d31d156275b",
        "colab": {
          "base_uri": "https://localhost:8080/",
          "height": 53
        }
      },
      "source": [
        "#download stopwords\n",
        "nltk.download('stopwords')\n",
        "stopwords = nc.stopwords.words('english')"
      ],
      "execution_count": 120,
      "outputs": [
        {
          "output_type": "stream",
          "text": [
            "[nltk_data] Downloading package stopwords to /root/nltk_data...\n",
            "[nltk_data]   Package stopwords is already up-to-date!\n"
          ],
          "name": "stdout"
        }
      ]
    },
    {
      "cell_type": "code",
      "metadata": {
        "id": "-5EPmzq8vVDf",
        "colab_type": "code",
        "colab": {}
      },
      "source": [
        "def tokenize_and_stem(data,stopwords):\n",
        "  '''\n",
        "  This function tokenizes the data, removes stopwords and performs stemming\n",
        "  parameters:\n",
        "  data-> list of messages\n",
        "  stopwords-> list of english stopwords\n",
        "  '''\n",
        "  tokenized_data = []\n",
        "  stemmer = PorterStemmer()\n",
        "  for msg in data:\n",
        "    split_data = [word for word in msg.split() if word not in stopwords]\n",
        "    stemmed_data = [stemmer.stem(split_word) for split_word in split_data]\n",
        "    tokenized_data.append(stemmed_data)\n",
        "  return tokenized_data"
      ],
      "execution_count": 0,
      "outputs": []
    },
    {
      "cell_type": "code",
      "metadata": {
        "id": "-o2W6W4OvtjY",
        "colab_type": "code",
        "colab": {}
      },
      "source": [
        "tokenized_data = tokenize_and_stem(data,stopwords)"
      ],
      "execution_count": 0,
      "outputs": []
    },
    {
      "cell_type": "code",
      "metadata": {
        "id": "vOxS1wbqHFhc",
        "colab_type": "code",
        "outputId": "9474665f-ae40-4e88-fdc9-dd69846ade83",
        "colab": {
          "base_uri": "https://localhost:8080/",
          "height": 91
        }
      },
      "source": [
        "print(len(tokenized_data))\n",
        "print(tokenized_data[0])\n",
        "print(blabels[0])"
      ],
      "execution_count": 123,
      "outputs": [
        {
          "output_type": "stream",
          "text": [
            "5572\n",
            "['go', 'jurong', 'point', 'crazi', 'avail', 'bugi', 'n', 'great', 'world', 'la', 'e', 'buffet', 'cine', 'got', 'amor', 'wat']\n",
            "0\n"
          ],
          "name": "stdout"
        }
      ]
    },
    {
      "cell_type": "code",
      "metadata": {
        "id": "22UcJOA_H9_2",
        "colab_type": "code",
        "colab": {}
      },
      "source": [
        "def join_words(tokenized_data):\n",
        "  tokenized_text = []\n",
        "  for tokenized_sentence in tokenized_data:\n",
        "    text = \" \".join([word for word in tokenized_sentence])\n",
        "    tokenized_text.append(text)\n",
        "  return tokenized_text"
      ],
      "execution_count": 0,
      "outputs": []
    },
    {
      "cell_type": "code",
      "metadata": {
        "id": "sIFJur2PLYC6",
        "colab_type": "code",
        "colab": {}
      },
      "source": [
        "tokenized_text = join_words(tokenized_data)"
      ],
      "execution_count": 0,
      "outputs": []
    },
    {
      "cell_type": "code",
      "metadata": {
        "id": "fJ0MocHdLcMI",
        "colab_type": "code",
        "outputId": "fa51191d-35aa-42de-a31b-4aaa228c74a1",
        "colab": {
          "base_uri": "https://localhost:8080/",
          "height": 71
        }
      },
      "source": [
        "print(len(tokenized_text))\n",
        "print(tokenized_text[0])\n",
        "print(blabels[0])"
      ],
      "execution_count": 126,
      "outputs": [
        {
          "output_type": "stream",
          "text": [
            "5572\n",
            "go jurong point crazi avail bugi n great world la e buffet cine got amor wat\n",
            "0\n"
          ],
          "name": "stdout"
        }
      ]
    },
    {
      "cell_type": "code",
      "metadata": {
        "id": "rpFgSV1vLmuJ",
        "colab_type": "code",
        "colab": {}
      },
      "source": [
        "from sklearn.feature_extraction.text import TfidfVectorizer"
      ],
      "execution_count": 0,
      "outputs": []
    },
    {
      "cell_type": "code",
      "metadata": {
        "id": "37nJtiIaMKc4",
        "colab_type": "code",
        "colab": {}
      },
      "source": [
        "#extract features from the text using TF-IDF vectors\n",
        "tfv = TfidfVectorizer()\n",
        "tfv.fit(tokenized_text)"
      ],
      "execution_count": 0,
      "outputs": []
    },
    {
      "cell_type": "code",
      "metadata": {
        "id": "kPvtDjNVWlHS",
        "colab_type": "code",
        "colab": {}
      },
      "source": [
        "X = tfv.transform(tokenized_text).toarray() #final data"
      ],
      "execution_count": 0,
      "outputs": []
    },
    {
      "cell_type": "code",
      "metadata": {
        "id": "MybdHhEwXHa1",
        "colab_type": "code",
        "outputId": "4bfea4e5-4386-4165-f161-ceb91079c032",
        "colab": {
          "base_uri": "https://localhost:8080/",
          "height": 35
        }
      },
      "source": [
        "print(X.shape)"
      ],
      "execution_count": 130,
      "outputs": [
        {
          "output_type": "stream",
          "text": [
            "(5572, 7302)\n"
          ],
          "name": "stdout"
        }
      ]
    },
    {
      "cell_type": "code",
      "metadata": {
        "id": "sjEq1gdNXjjV",
        "colab_type": "code",
        "colab": {}
      },
      "source": [
        "from sklearn import svm\n",
        "from sklearn.naive_bayes import MultinomialNB\n",
        "from sklearn.model_selection import train_test_split\n",
        "from sklearn.metrics import classification_report\n",
        "from sklearn.metrics import confusion_matrix\n",
        "from sklearn.metrics import precision_recall_fscore_support\n",
        "from sklearn.metrics import cohen_kappa_score"
      ],
      "execution_count": 0,
      "outputs": []
    },
    {
      "cell_type": "code",
      "metadata": {
        "id": "YMPR2_LgX2V8",
        "colab_type": "code",
        "outputId": "c511cb7c-2411-4dae-cf5d-5f6263101cc7",
        "colab": {
          "base_uri": "https://localhost:8080/",
          "height": 71
        }
      },
      "source": [
        "#split data into train and test sets\n",
        "X_train,X_test,y_train,y_test = train_test_split(X,blabels,test_size=0.3)\n",
        "print('No. of training examples: ',len(X_train))\n",
        "print('No. of tesitng examples: ',len(X_test))\n",
        "print(X_train.shape)"
      ],
      "execution_count": 132,
      "outputs": [
        {
          "output_type": "stream",
          "text": [
            "No. of training examples:  3900\n",
            "No. of tesitng examples:  1672\n",
            "(3900, 7302)\n"
          ],
          "name": "stdout"
        }
      ]
    },
    {
      "cell_type": "code",
      "metadata": {
        "id": "P7YRoNrFX8t_",
        "colab_type": "code",
        "outputId": "c6d5896a-f2af-4728-b1dd-a2a52669c055",
        "colab": {
          "base_uri": "https://localhost:8080/",
          "height": 89
        }
      },
      "source": [
        "#train the SVM model\n",
        "model1 = svm.SVC()\n",
        "model1.fit(X_train,y_train)"
      ],
      "execution_count": 133,
      "outputs": [
        {
          "output_type": "execute_result",
          "data": {
            "text/plain": [
              "SVC(C=1.0, break_ties=False, cache_size=200, class_weight=None, coef0=0.0,\n",
              "    decision_function_shape='ovr', degree=3, gamma='scale', kernel='rbf',\n",
              "    max_iter=-1, probability=False, random_state=None, shrinking=True,\n",
              "    tol=0.001, verbose=False)"
            ]
          },
          "metadata": {
            "tags": []
          },
          "execution_count": 133
        }
      ]
    },
    {
      "cell_type": "code",
      "metadata": {
        "id": "Bco-0V6kYNGh",
        "colab_type": "code",
        "colab": {}
      },
      "source": [
        "#perform predictions\n",
        "predictions = model1.predict(X_test)"
      ],
      "execution_count": 0,
      "outputs": []
    },
    {
      "cell_type": "code",
      "metadata": {
        "id": "euHwQijtabEa",
        "colab_type": "code",
        "outputId": "a4a95f96-fe61-4f2b-f606-29d03c462d6c",
        "colab": {
          "base_uri": "https://localhost:8080/",
          "height": 35
        }
      },
      "source": [
        "p = predictions == y_test\n",
        "print('Accuracy: ',len(p[p == True])/len(p))"
      ],
      "execution_count": 135,
      "outputs": [
        {
          "output_type": "stream",
          "text": [
            "Accuracy:  0.9766746411483254\n"
          ],
          "name": "stdout"
        }
      ]
    },
    {
      "cell_type": "code",
      "metadata": {
        "id": "qj-QbnVsbHPw",
        "colab_type": "code",
        "outputId": "06b22bc2-1d07-4023-c8e4-5658da371ba4",
        "colab": {
          "base_uri": "https://localhost:8080/",
          "height": 179
        }
      },
      "source": [
        "print(classification_report(y_test,predictions))"
      ],
      "execution_count": 136,
      "outputs": [
        {
          "output_type": "stream",
          "text": [
            "              precision    recall  f1-score   support\n",
            "\n",
            "           0       0.98      1.00      0.99      1438\n",
            "           1       0.99      0.85      0.91       234\n",
            "\n",
            "    accuracy                           0.98      1672\n",
            "   macro avg       0.98      0.92      0.95      1672\n",
            "weighted avg       0.98      0.98      0.98      1672\n",
            "\n"
          ],
          "name": "stdout"
        }
      ]
    },
    {
      "cell_type": "code",
      "metadata": {
        "id": "Pmy5wqbobTzU",
        "colab_type": "code",
        "outputId": "04c3e5de-0b31-421f-8e4d-2d6ee60b1e5d",
        "colab": {
          "base_uri": "https://localhost:8080/",
          "height": 71
        }
      },
      "source": [
        "print('Confusion matrix: ')\n",
        "print(confusion_matrix(y_test,predictions))\n",
        "print"
      ],
      "execution_count": 137,
      "outputs": [
        {
          "output_type": "stream",
          "text": [
            "Confusion matrix: \n",
            "[[1435    3]\n",
            " [  36  198]]\n"
          ],
          "name": "stdout"
        }
      ]
    },
    {
      "cell_type": "code",
      "metadata": {
        "id": "Il0l-QfWbpSI",
        "colab_type": "code",
        "outputId": "e4301741-8e7e-446b-944a-23df57d7557f",
        "colab": {
          "base_uri": "https://localhost:8080/",
          "height": 53
        }
      },
      "source": [
        "print(precision_recall_fscore_support(y_test,predictions,average='macro'))\n",
        "print(cohen_kappa_score(y_test,predictions))"
      ],
      "execution_count": 140,
      "outputs": [
        {
          "output_type": "stream",
          "text": [
            "(0.9803007396734884, 0.9220338076388146, 0.9484690793139009, None)\n",
            "0.8970267760701901\n"
          ],
          "name": "stdout"
        }
      ]
    },
    {
      "cell_type": "code",
      "metadata": {
        "id": "LA8t9YLgn6DR",
        "colab_type": "code",
        "outputId": "5ea6f519-5ecb-40af-8500-ad347db8b914",
        "colab": {
          "base_uri": "https://localhost:8080/",
          "height": 35
        }
      },
      "source": [
        "model2 = MultinomialNB(alpha=0.1)\n",
        "model2.fit(X_train,y_train)"
      ],
      "execution_count": 141,
      "outputs": [
        {
          "output_type": "execute_result",
          "data": {
            "text/plain": [
              "MultinomialNB(alpha=0.1, class_prior=None, fit_prior=True)"
            ]
          },
          "metadata": {
            "tags": []
          },
          "execution_count": 141
        }
      ]
    },
    {
      "cell_type": "code",
      "metadata": {
        "id": "ouaaQLr5zAfI",
        "colab_type": "code",
        "colab": {
          "base_uri": "https://localhost:8080/",
          "height": 35
        },
        "outputId": "f6c36f6d-90c0-47ae-dea7-bbb36b467eab"
      },
      "source": [
        "y_pred = model2.predict(X_test)\n",
        "print(cohen_kappa_score(y_test,y_pred))"
      ],
      "execution_count": 142,
      "outputs": [
        {
          "output_type": "stream",
          "text": [
            "0.9178659680252463\n"
          ],
          "name": "stdout"
        }
      ]
    },
    {
      "cell_type": "code",
      "metadata": {
        "id": "h8uIxTllzJp3",
        "colab_type": "code",
        "colab": {
          "base_uri": "https://localhost:8080/",
          "height": 53
        },
        "outputId": "1b0fb3c1-d7fa-43a7-eb04-745478eb1268"
      },
      "source": [
        "print(confusion_matrix(y_test,y_pred))"
      ],
      "execution_count": 143,
      "outputs": [
        {
          "output_type": "stream",
          "text": [
            "[[1422   16]\n",
            " [  17  217]]\n"
          ],
          "name": "stdout"
        }
      ]
    },
    {
      "cell_type": "code",
      "metadata": {
        "id": "QJK6jonhzR74",
        "colab_type": "code",
        "colab": {
          "base_uri": "https://localhost:8080/",
          "height": 53
        },
        "outputId": "b973aa8f-8ea3-47e9-9a7c-6cfe5f5a186d"
      },
      "source": [
        "print(confusion_matrix(y_test,predictions))"
      ],
      "execution_count": 144,
      "outputs": [
        {
          "output_type": "stream",
          "text": [
            "[[1435    3]\n",
            " [  36  198]]\n"
          ],
          "name": "stdout"
        }
      ]
    },
    {
      "cell_type": "code",
      "metadata": {
        "id": "udtCRhSbzZ1-",
        "colab_type": "code",
        "colab": {
          "base_uri": "https://localhost:8080/",
          "height": 179
        },
        "outputId": "8277b325-82ec-4625-d181-7b5416345ddf"
      },
      "source": [
        "print(classification_report(y_test,y_pred))"
      ],
      "execution_count": 146,
      "outputs": [
        {
          "output_type": "stream",
          "text": [
            "              precision    recall  f1-score   support\n",
            "\n",
            "           0       0.99      0.99      0.99      1438\n",
            "           1       0.93      0.93      0.93       234\n",
            "\n",
            "    accuracy                           0.98      1672\n",
            "   macro avg       0.96      0.96      0.96      1672\n",
            "weighted avg       0.98      0.98      0.98      1672\n",
            "\n"
          ],
          "name": "stdout"
        }
      ]
    },
    {
      "cell_type": "code",
      "metadata": {
        "id": "hhDLvQPK0IUb",
        "colab_type": "code",
        "colab": {
          "base_uri": "https://localhost:8080/",
          "height": 89
        },
        "outputId": "aaece891-dd41-488f-fb58-6f8048d553a8"
      },
      "source": [
        "model3 = svm.SVC(kernel='linear')\n",
        "model3.fit(X_train,y_train)"
      ],
      "execution_count": 147,
      "outputs": [
        {
          "output_type": "execute_result",
          "data": {
            "text/plain": [
              "SVC(C=1.0, break_ties=False, cache_size=200, class_weight=None, coef0=0.0,\n",
              "    decision_function_shape='ovr', degree=3, gamma='scale', kernel='linear',\n",
              "    max_iter=-1, probability=False, random_state=None, shrinking=True,\n",
              "    tol=0.001, verbose=False)"
            ]
          },
          "metadata": {
            "tags": []
          },
          "execution_count": 147
        }
      ]
    },
    {
      "cell_type": "code",
      "metadata": {
        "id": "FEb0flLW0foG",
        "colab_type": "code",
        "colab": {
          "base_uri": "https://localhost:8080/",
          "height": 35
        },
        "outputId": "966134c4-b9ef-4318-fcbf-f6685ade6f8a"
      },
      "source": [
        "pp = model3.predict(X_test)\n",
        "print(cohen_kappa_score(y_test,pp))"
      ],
      "execution_count": 148,
      "outputs": [
        {
          "output_type": "stream",
          "text": [
            "0.9141742522756827\n"
          ],
          "name": "stdout"
        }
      ]
    },
    {
      "cell_type": "code",
      "metadata": {
        "id": "USApmU-m0w0S",
        "colab_type": "code",
        "colab": {
          "base_uri": "https://localhost:8080/",
          "height": 179
        },
        "outputId": "9412b5ce-6fdd-4b8b-a33c-07387c21c033"
      },
      "source": [
        "print(classification_report(y_test,pp))"
      ],
      "execution_count": 149,
      "outputs": [
        {
          "output_type": "stream",
          "text": [
            "              precision    recall  f1-score   support\n",
            "\n",
            "           0       0.98      1.00      0.99      1438\n",
            "           1       0.98      0.88      0.93       234\n",
            "\n",
            "    accuracy                           0.98      1672\n",
            "   macro avg       0.98      0.94      0.96      1672\n",
            "weighted avg       0.98      0.98      0.98      1672\n",
            "\n"
          ],
          "name": "stdout"
        }
      ]
    },
    {
      "cell_type": "code",
      "metadata": {
        "id": "mwkvF31A070N",
        "colab_type": "code",
        "colab": {
          "base_uri": "https://localhost:8080/",
          "height": 53
        },
        "outputId": "74436549-f0ad-4726-f31f-cbfd2defc4e4"
      },
      "source": [
        "print(confusion_matrix(y_test,pp))"
      ],
      "execution_count": 150,
      "outputs": [
        {
          "output_type": "stream",
          "text": [
            "[[1434    4]\n",
            " [  29  205]]\n"
          ],
          "name": "stdout"
        }
      ]
    },
    {
      "cell_type": "code",
      "metadata": {
        "id": "SZK4S2mV1A90",
        "colab_type": "code",
        "colab": {}
      },
      "source": [
        ""
      ],
      "execution_count": 0,
      "outputs": []
    }
  ]
}