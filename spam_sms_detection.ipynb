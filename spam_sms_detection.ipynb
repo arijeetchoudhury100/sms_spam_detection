{
  "nbformat": 4,
  "nbformat_minor": 0,
  "metadata": {
    "colab": {
      "name": "spam_sms_detection.ipynb",
      "provenance": [],
      "collapsed_sections": []
    },
    "kernelspec": {
      "name": "python3",
      "display_name": "Python 3"
    }
  },
  "cells": [
    {
      "cell_type": "code",
      "metadata": {
        "id": "7IPT0TFTbErd",
        "colab_type": "code",
        "colab": {}
      },
      "source": [
        "import numpy as np\n",
        "import csv\n",
        "import re\n",
        "import string\n",
        "import nltk"
      ],
      "execution_count": 0,
      "outputs": []
    },
    {
      "cell_type": "code",
      "metadata": {
        "id": "Cgymta2abqfz",
        "colab_type": "code",
        "colab": {}
      },
      "source": [
        "#load the data\n",
        "data = []\n",
        "labels = []\n",
        "with open('spam.csv','r',encoding='latin-1') as csvfile:\n",
        "  reader = csv.reader(csvfile,delimiter=',')\n",
        "  for row in reader:\n",
        "    labels.append(row[0])\n",
        "    data.append(row[1])"
      ],
      "execution_count": 0,
      "outputs": []
    },
    {
      "cell_type": "code",
      "metadata": {
        "id": "YFDVBWUhbv_S",
        "colab_type": "code",
        "outputId": "252772ed-a8ba-4c43-9376-d8ea2ba44a76",
        "colab": {
          "base_uri": "https://localhost:8080/",
          "height": 35
        }
      },
      "source": [
        "print('No. of examples: ',len(data))"
      ],
      "execution_count": 110,
      "outputs": [
        {
          "output_type": "stream",
          "text": [
            "No. of examples:  5573\n"
          ],
          "name": "stdout"
        }
      ]
    },
    {
      "cell_type": "code",
      "metadata": {
        "id": "CeGlud1zd7hc",
        "colab_type": "code",
        "colab": {}
      },
      "source": [
        "def convert_binary(x):\n",
        "  if x == 'spam':\n",
        "    return 1\n",
        "  else:\n",
        "    return 0"
      ],
      "execution_count": 0,
      "outputs": []
    },
    {
      "cell_type": "code",
      "metadata": {
        "id": "sSOCnY2DvzsV",
        "colab_type": "code",
        "colab": {}
      },
      "source": [
        "def remove_punctuation(text): \n",
        "    translator = str.maketrans(' ', ' ', string.punctuation) \n",
        "    return text.translate(translator)"
      ],
      "execution_count": 0,
      "outputs": []
    },
    {
      "cell_type": "code",
      "metadata": {
        "id": "oo8Q9n1dv-dg",
        "colab_type": "code",
        "colab": {}
      },
      "source": [
        "def remove_whitespace(text): \n",
        "    return  \" \".join(text.split()) "
      ],
      "execution_count": 0,
      "outputs": []
    },
    {
      "cell_type": "code",
      "metadata": {
        "id": "BBOj_C33e1PB",
        "colab_type": "code",
        "colab": {}
      },
      "source": [
        "#convert labels 'ham' and 'spam' to 0 and 1 respectively\n",
        "blabels = list(map(convert_binary,labels))"
      ],
      "execution_count": 0,
      "outputs": []
    },
    {
      "cell_type": "code",
      "metadata": {
        "id": "vQQZR0b6fGfj",
        "colab_type": "code",
        "outputId": "1a4dbc2f-7928-4c16-c434-36b4b0194513",
        "colab": {
          "base_uri": "https://localhost:8080/",
          "height": 89
        }
      },
      "source": [
        "#remove column headers\n",
        "data = data[1:]\n",
        "blabels = blabels[1:]\n",
        "print(len(data))\n",
        "print(len(blabels))\n",
        "print(data[0])\n",
        "print(blabels[0])"
      ],
      "execution_count": 116,
      "outputs": [
        {
          "output_type": "stream",
          "text": [
            "5572\n",
            "5572\n",
            "Go until jurong point, crazy.. Available only in bugis n great world la e buffet... Cine there got amore wat...\n",
            "0\n"
          ],
          "name": "stdout"
        }
      ]
    },
    {
      "cell_type": "code",
      "metadata": {
        "id": "4gIio_l7fWqq",
        "colab_type": "code",
        "colab": {}
      },
      "source": [
        "#preprocess the messages\n",
        "\n",
        "#convert messages to lowercase\n",
        "data = [msg.strip().lower() for msg in data]\n",
        "\n",
        "#convert links to 'httpaddr'\n",
        "data = [re.sub('http[s]?://\\S+', 'httpaddr',msg) for msg in data]\n",
        "\n",
        "#convert all numbers to 'number'\n",
        "data = [re.sub('[\\d]+','number',msg) for msg in data]\n",
        "\n",
        "#convert $ sign to 'dollar\n",
        "data = [re.sub('[$]+','dollar',msg) for msg in data]\n",
        "\n",
        "#convert email addresses to 'emailaddr'\n",
        "data = [re.sub('\\S+@\\S+','emailaddr',msg) for msg in data]\n",
        "\n",
        "#remove punctuations and extra whitespaces\n",
        "data = [remove_punctuation(msg) for msg in data]\n",
        "data = [remove_whitespace(msg) for msg in data]"
      ],
      "execution_count": 0,
      "outputs": []
    },
    {
      "cell_type": "code",
      "metadata": {
        "id": "V6Zj_qd3J5IN",
        "colab_type": "code",
        "outputId": "3fe8ac34-af58-4e2d-9d91-9f3500899303",
        "colab": {
          "base_uri": "https://localhost:8080/",
          "height": 89
        }
      },
      "source": [
        "print(len(data))\n",
        "print(len(blabels))\n",
        "print(data[0])\n",
        "print(blabels[0])"
      ],
      "execution_count": 118,
      "outputs": [
        {
          "output_type": "stream",
          "text": [
            "5572\n",
            "5572\n",
            "go until jurong point crazy available only in bugis n great world la e buffet cine there got amore wat\n",
            "0\n"
          ],
          "name": "stdout"
        }
      ]
    },
    {
      "cell_type": "code",
      "metadata": {
        "id": "_2zkhIB9u4ue",
        "colab_type": "code",
        "colab": {}
      },
      "source": [
        "from nltk.stem.porter import PorterStemmer\n",
        "import nltk.corpus as nc"
      ],
      "execution_count": 0,
      "outputs": []
    },
    {
      "cell_type": "code",
      "metadata": {
        "id": "6hCenK_SvQ7j",
        "colab_type": "code",
        "outputId": "bc91ade0-0b45-4a41-a57f-4d31d156275b",
        "colab": {
          "base_uri": "https://localhost:8080/",
          "height": 53
        }
      },
      "source": [
        "#download stopwords\n",
        "nltk.download('stopwords')\n",
        "stopwords = nc.stopwords.words('english')"
      ],
      "execution_count": 120,
      "outputs": [
        {
          "output_type": "stream",
          "text": [
            "[nltk_data] Downloading package stopwords to /root/nltk_data...\n",
            "[nltk_data]   Package stopwords is already up-to-date!\n"
          ],
          "name": "stdout"
        }
      ]
    },
    {
      "cell_type": "code",
      "metadata": {
        "id": "-5EPmzq8vVDf",
        "colab_type": "code",
        "colab": {}
      },
      "source": [
        "def tokenize_and_stem(data,stopwords):\n",
        "  '''\n",
        "  This function tokenizes the data, removes stopwords and performs stemming\n",
        "  parameters:\n",
        "  data-> list of messages\n",
        "  stopwords-> list of english stopwords\n",
        "  '''\n",
        "  tokenized_data = []\n",
        "  stemmer = PorterStemmer()\n",
        "  for msg in data:\n",
        "    split_data = [word for word in msg.split() if word not in stopwords]\n",
        "    stemmed_data = [stemmer.stem(split_word) for split_word in split_data]\n",
        "    tokenized_data.append(stemmed_data)\n",
        "  return tokenized_data"
      ],
      "execution_count": 0,
      "outputs": []
    },
    {
      "cell_type": "code",
      "metadata": {
        "id": "-o2W6W4OvtjY",
        "colab_type": "code",
        "colab": {}
      },
      "source": [
        "tokenized_data = tokenize_and_stem(data,stopwords)"
      ],
      "execution_count": 0,
      "outputs": []
    },
    {
      "cell_type": "code",
      "metadata": {
        "id": "vOxS1wbqHFhc",
        "colab_type": "code",
        "outputId": "9474665f-ae40-4e88-fdc9-dd69846ade83",
        "colab": {
          "base_uri": "https://localhost:8080/",
          "height": 91
        }
      },
      "source": [
        "print(len(tokenized_data))\n",
        "print(tokenized_data[0])\n",
        "print(blabels[0])"
      ],
      "execution_count": 123,
      "outputs": [
        {
          "output_type": "stream",
          "text": [
            "5572\n",
            "['go', 'jurong', 'point', 'crazi', 'avail', 'bugi', 'n', 'great', 'world', 'la', 'e', 'buffet', 'cine', 'got', 'amor', 'wat']\n",
            "0\n"
          ],
          "name": "stdout"
        }
      ]
    },
    {
      "cell_type": "code",
      "metadata": {
        "id": "22UcJOA_H9_2",
        "colab_type": "code",
        "colab": {}
      },
      "source": [
        "def join_words(tokenized_data):\n",
        "  tokenized_text = []\n",
        "  for tokenized_sentence in tokenized_data:\n",
        "    text = \" \".join([word for word in tokenized_sentence])\n",
        "    tokenized_text.append(text)\n",
        "  return tokenized_text"
      ],
      "execution_count": 0,
      "outputs": []
    },
    {
      "cell_type": "code",
      "metadata": {
        "id": "sIFJur2PLYC6",
        "colab_type": "code",
        "colab": {}
      },
      "source": [
        "tokenized_text = join_words(tokenized_data)"
      ],
      "execution_count": 0,
      "outputs": []
    },
    {
      "cell_type": "code",
      "metadata": {
        "id": "fJ0MocHdLcMI",
        "colab_type": "code",
        "outputId": "fa51191d-35aa-42de-a31b-4aaa228c74a1",
        "colab": {
          "base_uri": "https://localhost:8080/",
          "height": 71
        }
      },
      "source": [
        "print(len(tokenized_text))\n",
        "print(tokenized_text[0])\n",
        "print(blabels[0])"
      ],
      "execution_count": 126,
      "outputs": [
        {
          "output_type": "stream",
          "text": [
            "5572\n",
            "go jurong point crazi avail bugi n great world la e buffet cine got amor wat\n",
            "0\n"
          ],
          "name": "stdout"
        }
      ]
    },
    {
      "cell_type": "code",
      "metadata": {
        "id": "rpFgSV1vLmuJ",
        "colab_type": "code",
        "colab": {}
      },
      "source": [
        "from sklearn.feature_extraction.text import TfidfVectorizer"
      ],
      "execution_count": 0,
      "outputs": []
    },
    {
      "cell_type": "code",
      "metadata": {
        "id": "37nJtiIaMKc4",
        "colab_type": "code",
        "outputId": "0dd2691a-3be7-4044-b13e-e764741d6d9b",
        "colab": {
          "base_uri": "https://localhost:8080/",
          "height": 73
        }
      },
      "source": [
        "#extract features from the text using TF-IDF vectors\n",
        "tfv = TfidfVectorizer()\n",
        "tfv.fit(tokenized_text)\n",
        "print(tfv.vocabulary_)\n",
        "print(tfv.idf_)"
      ],
      "execution_count": 128,
      "outputs": [
        {
          "output_type": "stream",
          "text": [
            "{'go': 2354, 'jurong': 3114, 'point': 4813, 'crazi': 1282, 'avail': 401, 'bugi': 791, 'great': 2442, 'world': 7051, 'la': 3249, 'buffet': 789, 'cine': 1064, 'got': 2407, 'amor': 211, 'wat': 6841, 'ok': 4445, 'lar': 3283, 'joke': 3080, 'wif': 6956, 'oni': 4475, 'free': 2175, 'entri': 1832, 'number': 4128, 'wkli': 7002, 'comp': 1161, 'win': 6969, 'fa': 1952, 'cup': 1330, 'final': 2053, 'tkt': 6372, 'numberst': 4323, 'may': 3634, 'text': 6233, 'receiv': 5133, 'questionstd': 5048, 'txt': 6550, 'ratetc': 5093, 'appli': 284, 'numberovernumb': 4277, 'dun': 1709, 'say': 5398, 'earli': 1724, 'hor': 2723, 'alreadi': 184, 'nah': 3920, 'dont': 1633, 'think': 6301, 'goe': 2364, 'usf': 6677, 'live': 3401, 'around': 323, 'though': 6317, 'freemsg': 2182, 'hey': 2632, 'darl': 1384, 'week': 6879, 'word': 7040, 'back': 440, 'id': 2816, 'like': 3370, 'fun': 2235, 'still': 5942, 'tb': 6176, 'xxx': 7165, 'std': 5919, 'chg': 1014, 'send': 5469, 'numbernumb': 4245, 'rcv': 5104, 'even': 1880, 'brother': 762, 'speak': 5817, 'treat': 6489, 'aid': 135, 'patent': 4646, 'per': 4680, 'request': 5210, 'mell': 3668, 'oru': 4532, 'minnaminungint': 3737, 'nurungu': 4386, 'vettam': 6728, 'set': 5493, 'callertun': 850, 'caller': 849, 'press': 4915, 'copi': 1234, 'friend': 2202, 'winner': 6975, 'valu': 6702, 'network': 3987, 'custom': 1341, 'select': 5458, 'receivea': 5134, 'prize': 4945, 'reward': 5247, 'claim': 1071, 'call': 843, 'code': 1122, 'klnumber': 3212, 'valid': 6700, 'hour': 2737, 'mobil': 3793, 'month': 3826, 'entitl': 1830, 'updat': 6639, 'latest': 3298, 'colour': 1140, 'camera': 873, 'co': 1111, 'im': 2841, 'gonna': 2380, 'home': 2697, 'soon': 5776, 'want': 6826, 'talk': 6148, 'stuff': 6003, 'anymor': 256, 'tonight': 6428, 'ive': 3001, 'cri': 1293, 'enough': 1825, 'today': 6389, 'six': 5645, 'chanc': 967, 'cash': 923, 'pound': 4865, 'cshnumber': 1312, 'cost': 1245, 'numberpday': 4281, 'numberday': 4159, 'tsandc': 6517, 'repli': 5203, 'hl': 2665, 'info': 2891, 'urgent': 6659, 'membership': 3673, 'jackpot': 3013, 'tc': 6178, 'wwwdbuknet': 7111, 'lccltd': 3309, 'pobox': 4795, 'numberldnwnumberanumberrwnumb': 4203, 'search': 5436, 'right': 5258, 'thank': 6248, 'breather': 735, 'promis': 4977, 'wont': 7031, 'take': 6142, 'help': 2609, 'grant': 2431, 'fulfil': 2231, 'wonder': 7030, 'bless': 628, 'time': 6352, 'date': 1392, 'sunday': 6050, 'xxxmobilemovieclub': 7166, 'use': 6674, 'credit': 1289, 'click': 1087, 'wap': 6829, 'link': 3385, 'next': 4002, 'messag': 3695, 'httpaddr': 2758, 'xxxmobilemovieclubcomnqjkgighjjgcbl': 7167, 'oh': 4438, 'kim': 3182, 'watch': 6842, 'eh': 1770, 'rememb': 5188, 'spell': 5828, 'name': 3926, 'ye': 7191, 'naughti': 3947, 'make': 3569, 'wet': 6916, 'fine': 2058, 'thatåõ': 6265, 'way': 6853, 'feel': 2019, 'gota': 2408, 'england': 1818, 'macedonia': 3537, 'miss': 3752, 'goalsteam': 2357, 'news': 3997, 'ur': 6656, 'nation': 3941, 'team': 6188, 'eg': 1762, 'trywal': 6515, 'scotland': 5419, 'numbertxtì¼numbernumb': 4345, 'poboxoxnumberwnumberwq': 4804, 'serious': 5489, 'tri': 6495, 'ha': 2505, 'pay': 4655, 'first': 2074, 'da': 1354, 'stock': 5946, 'comin': 1152, 'aft': 103, 'finish': 2064, 'lunch': 3514, 'str': 5967, 'lor': 3450, 'ard': 304, 'smth': 5716, 'ffffffffff': 2032, 'alright': 186, 'meet': 3657, 'sooner': 5778, 'forc': 2134, 'eat': 1738, 'slice': 5676, 'realli': 5120, 'hungri': 2777, 'tho': 6313, 'suck': 6026, 'mark': 3600, 'get': 2310, 'worri': 7056, 'know': 3218, 'sick': 5601, 'turn': 6535, 'pizza': 4757, 'lol': 3431, 'alway': 196, 'convinc': 1224, 'catch': 932, 'bu': 782, 'fri': 2198, 'egg': 1764, 'tea': 6184, 'mom': 3810, 'left': 3325, 'dinner': 1550, 'love': 3472, 'amp': 213, 'pack': 4582, 'car': 898, 'ill': 2839, 'let': 3343, 'there': 6282, 'room': 5294, 'ahhh': 127, 'work': 7045, 'vagu': 6696, 'wait': 6803, 'that': 6257, 'clear': 1083, 'sure': 6076, 'sarcast': 5379, 'doesnt': 1605, 'us': 6670, 'yeah': 7192, 'apologet': 274, 'fallen': 1976, 'actin': 55, 'spoilt': 5853, 'child': 1029, 'caught': 934, 'till': 6350, 'badli': 446, 'cheer': 997, 'tell': 6203, 'anyth': 259, 'fear': 2010, 'faint': 1966, 'housework': 2742, 'quick': 5049, 'cuppa': 1332, 'subscript': 6020, 'rington': 5265, 'uk': 6577, 'charg': 974, 'numbermonth': 4226, 'pleas': 4777, 'confirm': 1196, 'yup': 7269, 'look': 3442, 'msg': 3860, 'xuhui': 7161, 'learn': 3318, 'numbernd': 4238, 'lesson': 3342, 'numberam': 4132, 'oop': 4496, 'roommat': 5296, 'done': 1630, 'see': 5448, 'letter': 3344, 'decid': 1438, 'hello': 2604, 'how': 2743, 'saturday': 5392, 'youd': 7234, 'tomo': 6413, 'invit': 2944, 'pl': 4758, 'ahead': 125, 'watt': 6851, 'weekend': 6881, 'abiola': 14, 'forget': 2140, 'need': 3966, 'crave': 1281, 'sweet': 6102, 'arabian': 301, 'steed': 5925, 'mmmmmm': 3778, 'yummi': 7263, 'rodger': 5285, 'burn': 805, 'sm': 5691, 'nokia': 4057, 'camcord': 871, 'deliveri': 1466, 'tomorrow': 6416, 'hope': 2720, 'man': 3577, 'well': 6894, 'endow': 1811, 'ltgt': 3498, 'inch': 2864, 'callsmessagesmiss': 865, 'didnt': 1527, 'hep': 2617, 'immunis': 2851, 'nigeria': 4013, 'fair': 1967, 'tyler': 6559, 'cant': 889, 'could': 1252, 'mayb': 3635, 'ask': 346, 'bit': 611, 'stubborn': 5994, 'hospit': 2729, 'kept': 3160, 'weak': 6860, 'sucker': 6027, 'saw': 5397, 'class': 1077, 'gram': 2425, 'usual': 6685, 'run': 5330, 'half': 2522, 'eighth': 1773, 'smarter': 5697, 'almost': 180, 'whole': 6946, 'second': 5440, 'fyi': 2248, 'ride': 5257, 'morn': 3834, 'he': 2574, 'crash': 1280, 'place': 4759, 'wow': 7072, 'never': 3989, 'realiz': 5119, 'embarass': 1796, 'accomod': 38, 'thought': 6318, 'sinc': 5623, 'best': 571, 'seem': 5452, 'happi': 2544, 'cave': 936, 'sorri': 5787, 'give': 2335, 'offer': 4422, 'ac': 27, 'sptv': 5873, 'new': 3992, 'jersey': 3055, 'devil': 1506, 'detroit': 1502, 'red': 5149, 'wing': 6974, 'play': 4770, 'ice': 2811, 'hockey': 2683, 'correct': 1239, 'incorrect': 2872, 'end': 1809, 'mallika': 3576, 'sherawat': 5538, 'yesterday': 7214, 'find': 2057, 'lturlgt': 3502, 'congrat': 1201, 'year': 7194, 'special': 5819, 'cinema': 1065, 'pass': 4637, 'suprman': 6074, 'matrixnumb': 3623, 'starwarsnumb': 5911, 'etc': 1866, 'bxnumberipnumbernumberw': 826, 'numberpm': 4284, 'later': 3296, 'reach': 5108, 'yesgauti': 7206, 'sehwag': 5457, 'odi': 4417, 'seri': 5487, 'pick': 4733, 'dollarnumb': 1622, 'burger': 802, 'move': 3849, 'pain': 4589, 'kill': 3180, 'good': 2384, 'girl': 2329, 'situat': 5642, 'seeker': 5451, 'part': 4628, 'check': 991, 'iq': 2955, 'took': 6432, 'forev': 2137, 'come': 1145, 'doubl': 1645, 'hair': 2517, 'dresser': 1673, 'said': 5349, 'wun': 7100, 'cut': 1343, 'short': 5572, 'nice': 4006, 'advis': 88, 'follow': 2122, 'recent': 5135, 'review': 5245, 'mob': 3790, 'award': 417, 'bonu': 670, 'song': 5771, 'dedic': 1444, 'day': 1401, 'valuabl': 6703, 'frnd': 2209, 'rpli': 5307, 'complimentari': 1175, 'trip': 6497, 'eurodisinc': 1872, 'trav': 6484, 'acoentrynumb': 51, 'di': 1515, 'numbernumberå': 4269, 'numbernumbermorefrmmob': 4252, 'shracomorsglsupltnumb': 5588, 'lsnumber': 3488, 'numberaj': 4131, 'hear': 2584, 'divorc': 1586, 'barbi': 475, 'ken': 3157, 'plane': 4764, 'wah': 6796, 'lucki': 3506, 'save': 5396, 'money': 3816, 'hee': 2597, 'hi': 2638, 'babe': 432, 'wanna': 6823, 'someth': 5758, 'xx': 7162, 'kkwhere': 3209, 'youhow': 7237, 'perform': 4685, 'machan': 3539, 'cool': 1228, 'gentleman': 2301, 'digniti': 1542, 'respect': 5224, 'peopl': 4679, 'much': 3875, 'shi': 5541, 'pa': 4580, 'oper': 4499, 'job': 3071, 'ta': 6128, 'earn': 1728, 'ah': 123, 'stop': 5954, 'urgnt': 6663, 'real': 5115, 'yo': 7224, 'ticket': 6341, 'one': 4472, 'jacket': 3012, 'multi': 3884, 'start': 5907, 'came': 872, 'bed': 531, 'coin': 1127, 'factori': 1960, 'gotta': 2412, 'nitro': 4036, 'ela': 1778, 'kanoil': 3137, 'download': 1653, 'wen': 6900, 'don': 1628, 'stand': 5900, 'close': 1091, 'you': 7230, 'll': 3406, 'anoth': 244, 'night': 4015, 'spent': 5830, 'late': 3292, 'afternoon': 105, 'casualti': 930, 'mean': 3642, 'havent': 2567, 'stuffnumbermoro': 6005, 'includ': 2867, 'sheet': 5533, 'smile': 5704, 'pleasur': 4780, 'troubl': 6502, 'pour': 4866, 'rain': 5069, 'sumnumb': 6046, 'hurt': 2787, 'becoz': 529, 'someon': 5753, 'servic': 5492, 'repres': 5208, 'numberamnumberpm': 4133, 'guarante': 2478, 'plan': 4763, 'buy': 818, 'lido': 3355, 'show': 5584, 'collect': 1136, 'simpli': 5620, 'password': 4642, 'mix': 3769, 'verifi': 6725, 'usher': 6679, 'britney': 753, 'fml': 2115, 'telugu': 6207, 'moviewat': 3851, 'abt': 23, 'load': 3415, 'loan': 3416, 'wk': 6998, 'hol': 2687, 'forgot': 2143, 'hairdress': 2519, 'appoint': 287, 'four': 2158, 'shower': 5585, 'beforehand': 543, 'caus': 935, 'prob': 4950, 'ham': 2528, 'noth': 4086, 'els': 1790, 'okay': 4446, 'price': 4928, 'long': 3438, 'legal': 3328, 'ave': 408, 'am': 198, 'gone': 2377, 'numberth': 4337, 'drive': 1678, 'test': 6229, 'yet': 7215, 'your': 7247, 'guess': 2486, 'gave': 2274, 'boston': 688, 'men': 3677, 'chang': 968, 'locat': 3419, 'nyc': 4396, 'cuz': 1349, 'signin': 5610, 'page': 4586, 'umma': 6584, 'life': 3357, 'vava': 6713, 'lot': 3458, 'dear': 1421, 'wish': 6984, 'birthday': 609, 'truli': 6510, 'memor': 3675, 'aight': 137, 'hit': 2657, 'would': 7068, 'ip': 2949, 'address': 68, 'consid': 1207, 'comput': 1180, 'isnt': 2970, 'minecraft': 3734, 'server': 5491, 'grumpi': 2471, 'old': 4462, 'better': 579, 'lie': 3356, 'busi': 810, 'plural': 4789, 'noun': 4096, 'research': 5213, 'dinnermsg': 1551, 'thing': 6299, 'scare': 5407, 'mah': 3560, 'loud': 3467, 'gent': 2299, 'contact': 1212, 'last': 3290, 'draw': 1664, 'knumber': 3224, 'numberhr': 4192, 'numberppm': 4296, 'wa': 6792, 'openin': 4498, 'sentenc': 5480, 'formal': 2147, 'anyway': 264, 'juz': 3118, 'tt': 6523, 'eatin': 1740, 'puttin': 5030, 'weighthaha': 6886, 'anythin': 261, 'happen': 2541, 'enter': 1826, 'cabin': 832, 'bday': 518, 'boss': 687, 'felt': 2025, 'askd': 347, 'apart': 267, 'went': 6903, 'holiday': 2693, 'flight': 2097, 'inc': 2863, 'numberpmin': 4286, 'goodo': 2398, 'must': 3899, 'friday': 2199, 'eggpotato': 1765, 'ratio': 5095, 'tortilla': 6449, 'hmmmi': 2675, 'uncl': 6590, 'inform': 2892, 'school': 5413, 'directli': 1557, 'food': 2127, 'privat': 4942, 'account': 42, 'statement': 5914, 'unredeem': 6627, 'identifi': 2822, 'expir': 1933, 'numbernumbernumb': 4256, 'landlin': 3270, 'boxnumberwrnumberc': 708, 'applespairsal': 283, 'malarki': 3573, 'voda': 6773, 'match': 3616, 'quot': 5058, 'standard': 5901, 'rate': 5092, 'app': 276, 'sao': 5373, 'mu': 3874, 'ìï': 7292, 'predict': 4897, 'ìll': 7291, 'knowyetund': 3223, 'hasnt': 2558, 'sent': 5478, 'bother': 690, 'involv': 2947, 'shouldnt': 5581, 'impos': 2857, 'apologis': 275, 'del': 1459, 'bak': 453, 'sum': 6042, 'lucyxx': 3511, 'kkhow': 3203, 'tmorrowpl': 6377, 'answer': 246, 'question': 5047, 'sunshin': 6058, 'quiz': 5054, 'top': 6441, 'soni': 5772, 'dvd': 1718, 'player': 4771, 'countri': 1259, 'algarv': 164, 'ansr': 245, 'sptyron': 5874, 'laid': 3262, 'dog': 1607, 'direct': 1556, 'join': 3077, 'largest': 3287, 'bt': 775, 'txting': 6554, 'gravel': 2436, 'nt': 4117, 'ecnumbera': 1744, 'emailaddr': 1795, 'haf': 2511, 'msn': 3868, 'befor': 542, 'activ': 57, 'youll': 7241, 'chat': 982, 'svc': 6089, 'hardcor': 2549, 'age': 112, 'yr': 7261, 'lazi': 3308, 'type': 6560, 'lect': 3323, 'pouch': 4864, 'sir': 5632, 'mail': 3563, 'swt': 6117, 'nver': 4390, 'tire': 6361, 'littl': 3400, 'lovabl': 3471, 'person': 4696, 'cozsomtim': 1271, 'occupi': 4411, 'biggest': 595, 'heart': 2587, 'gud': 2480, 'ninumb': 4030, 'open': 4497, 'ya': 7175, 'dot': 1644, 'what': 6922, 'staff': 5893, 'randi': 5083, 'sexi': 5499, 'femal': 2026, 'local': 3418, 'luv': 3520, 'netcollex': 3983, 'ltd': 3493, 'numberp': 4279, 'ummmawil': 6585, 'inour': 2908, 'begin': 547, 'qatar': 5035, 'pray': 4891, 'hard': 2548, 'ki': 3173, 'delet': 1461, 'sindu': 5625, 'birla': 605, 'soft': 5741, 'wine': 6973, 'flow': 2107, 'thk': 6307, 'plaza': 4776, 'typic': 6562, 'everywher': 1894, 'dirt': 1559, 'floor': 2104, 'window': 6972, 'shirt': 5550, 'sometim': 5760, 'mouth': 3848, 'dream': 1667, 'without': 6992, 'chore': 1052, 'joy': 3094, 'tv': 6537, 'exist': 1923, 'hail': 2516, 'mist': 3761, 'becom': 528, 'aaooooright': 3, 'leav': 3322, 'hous': 2739, 'interview': 2933, 'boy': 709, 'mear': 3647, 'annonc': 238, 'arrang': 327, 'keep': 3154, 'safe': 5345, 'envi': 1838, 'everyon': 1889, 'parentsi': 4621, 'hand': 2531, 'excit': 1915, 'spend': 5829, 'bootydeli': 680, 'numberf': 4168, 'yesnumb': 7211, 'nonumb': 4067, 'wwwsmsacubootydeli': 7134, 'bangbab': 467, 'order': 4519, 'content': 1214, 'goto': 2411, 'bangb': 466, 'internetservic': 2932, 'menu': 3683, 'cultur': 1327, 'modul': 3804, 'snumber': 5733, 'avoid': 414, 'missunderstd': 3760, 'wit': 6988, 'belov': 560, 'escap': 1856, 'fanci': 1983, 'bridg': 739, 'lager': 3261, 'complet': 1172, 'formclark': 2150, 'also': 190, 'utter': 6688, 'wast': 6840, 'axi': 424, 'bank': 469, 'hmmm': 2672, 'hop': 2719, 'muz': 3905, 'discuss': 1572, 'liao': 3348, 'bloodi': 639, 'hell': 2602, 'believ': 553, 'surnam': 6080, 'mr': 3854, 'clue': 1103, 'spanish': 5812, 'bath': 493, 'goodfin': 2388, 'youv': 7254, 'carlo': 912, 'mall': 3575, 'stay': 5917, 'til': 6349, 'smoke': 5708, 'dollar': 1621, 'worth': 7062, 'log': 3423, 'spoke': 5854, 'maneesha': 3584, 'wed': 6872, 'satisfi': 5388, 'experi': 1930, 'toll': 6409, 'lift': 3365, 'especi': 1859, 'approach': 289, 'studi': 5999, 'grnumber': 2456, 'trust': 6512, 'guy': 2497, 'greatby': 2444, 'handsom': 2534, 'toward': 6461, 'net': 3982, 'mummi': 3890, 'where': 6933, 'boytoy': 713, 'haha': 2512, 'awesom': 419, 'minut': 3744, 'freephon': 2187, 'xma': 7155, 'radio': 5063, 'ju': 3101, 'si': 5597, 'uniqu': 6614, 'august': 391, 'wwwareyouuniquecouk': 7102, 'leagu': 3316, 'touch': 6457, 'deal': 1417, 'cours': 1263, 'howev': 2747, 'suggest': 6038, 'abl': 16, 'or': 4513, 'everi': 1884, 'stool': 5953, 'settl': 5494, 'wishin': 6985, 'mrng': 3856, 'hav': 2565, 'stori': 5965, 'hamster': 2530, 'dead': 1415, 'tmr': 6378, 'orchard': 4518, 'mrt': 3857, 'kate': 3143, 'babyjontet': 437, 'found': 2157, 'enc': 1808, 'buck': 783, 'darlin': 1385, 'colleg': 1137, 'refil': 5159, 'success': 6025, 'inr': 2911, 'ltdecimalgt': 3494, 'keralacircl': 3162, 'prepaid': 4903, 'balanc': 456, 'rs': 5311, 'transact': 6476, 'kr': 3237, 'goodmorn': 2392, 'sleep': 5668, 'ga': 2249, 'alter': 192, 'dat': 1390, 'ericsson': 1844, 'oso': 4535, 'cannot': 887, 'oredi': 4521, 'straight': 5968, 'dogg': 1609, 'connect': 1203, 'refund': 5165, 'bill': 597, 'shoot': 5564, 'big': 593, 'readi': 5113, 'bruv': 770, 'break': 729, 'semest': 5465, 'kkgoodstudi': 3202, 'noe': 4047, 'leh': 3330, 'sound': 5798, 'head': 2575, 'slept': 5675, 'past': 4644, 'easi': 1731, 'ahsen': 132, 'exam': 1911, 'march': 3595, 'gt': 2475, 'atm': 372, 'regist': 5170, 'os': 4533, 'ubandu': 6564, 'instal': 2918, 'diskyou': 1574, 'import': 2855, 'file': 2047, 'system': 6127, 'repair': 5199, 'shop': 5565, 'romant': 5291, 'nite': 4034, 'sceneri': 5410, 'todayfrom': 6392, 'wwwnumbertcbiz': 7125, 'numberoptout': 4275, 'numbernumbergbpmtmsgnumb': 4247, 'appreci': 288, 'partner': 4633, 'career': 904, 'flyng': 2114, 'horo': 2726, 'star': 5903, 'sign': 5607, 'ari': 314, 'compani': 1162, 'elama': 1781, 'po': 4794, 'mudyadhu': 3880, 'strict': 5980, 'teacher': 6186, 'bcoz': 514, 'teach': 6185, 'conduct': 1191, 'gandhipuram': 2261, 'walk': 6811, 'cross': 1303, 'road': 5278, 'side': 5603, 'street': 5974, 'rubber': 5320, 'batteri': 497, 'die': 1531, 'yesher': 7208, 'flirt': 2101, 'sam': 5361, 'penc': 4673, 'print': 4936, 'upstair': 6652, 'closer': 1094, 'youwhen': 7256, 'wil': 6963, 'theori': 6280, 'argument': 313, 'lose': 3454, 'argu': 312, 'kick': 3175, 'secret': 5442, 'admir': 75, 'ufind': 6568, 'rreveal': 5310, 'specialcal': 5820, 'tomarrow': 6411, 'laptop': 3282, 'case': 922, 'pleassssssseeeee': 4779, 'tel': 6200, 'avent': 410, 'sportsx': 5862, 'shine': 5547, 'meant': 3645, 'although': 194, 'told': 6405, 'baig': 451, 'face': 1955, 'fr': 2164, 'thanx': 6253, 'everyth': 1891, 'uve': 6692, 'commerci': 1157, 'websit': 6870, 'slipper': 5680, 'kalli': 3129, 'bat': 490, 'inning': 2904, 'goodnight': 2394, 'fix': 2081, 'wake': 6808, 'dearli': 1424, 'congratul': 1202, 'cd': 942, 'voucher': 6783, 'numbergift': 4181, 'music': 3898, 'tnc': 6381, 'wwwldewcomnumberwinnumberppmxnumberagenumb': 7118, 'ranjith': 5088, 'cal': 838, 'drpd': 1686, 'deeraj': 1450, 'deepak': 1447, 'numbermin': 4217, 'hold': 2689, 'bcum': 516, 'angri': 231, 'wid': 6954, 'dnt': 1594, 'coz': 1269, 'childish': 1030, 'true': 6507, 'deep': 1446, 'affect': 94, 'care': 902, 'kettoda': 3164, 'manda': 3580, 'doinghow': 1615, 'up': 6637, 'ship': 5549, 'numberwk': 4363, 'usp': 6684, 'lag': 3259, 'bribe': 738, 'nipost': 4032, 'lemm': 3334, 'necessarili': 3962, 'expect': 1928, 'headin': 2577, 'mmm': 3775, 'jolt': 3085, 'suzi': 6088, 'lover': 3476, 'video': 6737, 'handset': 2533, 'anytim': 263, 'min': 3727, 'unlimit': 6622, 'park': 4625, 'mini': 3735, 'disturb': 1581, 'luton': 3519, 'ring': 5263, 'horni': 2724, 'nake': 3923, 'hot': 2733, 'unsubscrib': 6633, 'dint': 1553, 'wana': 6822, 'sometm': 5762, 'clubnumbermobilescom': 1102, 'choos': 1049, 'club': 1100, 'numberpwk': 4307, 'clubnumb': 1101, 'boxnumb': 701, 'mknumber': 3772, 'numberwt': 4368, 'evo': 1900, 'flash': 2089, 'jealou': 3043, 'singl': 5628, 'chart': 979, 'qualiti': 5042, 'sort': 5792, 'narcot': 3934, 'sunni': 6053, 'ray': 5098, 'blue': 646, 'bay': 499, 'hmv': 2680, 'genuin': 2304, 'infowwwnumberpercentrealcom': 2894, 'might': 3717, 'object': 4406, 'bf': 585, 'rob': 5281, 'mack': 3543, 'gf': 2318, 'theater': 6268, 'celebr': 948, 'full': 2232, 'swing': 6110, 'tool': 6434, 'far': 1986, 'oki': 4451, 'ahold': 131, 'anybodi': 254, 'throw': 6328, 'babi': 434, 'cruisin': 1309, 'fone': 2126, 'jenni': 3050, 'ge': 2288, 'dearshal': 1430, 'tonitebusi': 6430, 'streetshal': 5975, 'toniteth': 6431, 'okvarunnathu': 4457, 'edukkukaye': 1753, 'raksha': 5078, 'ollubut': 4463, 'sens': 5474, 'gautham': 2273, 'stupid': 6008, 'cam': 870, 'buzi': 820, 'accident': 35, 'resend': 5214, 'tmobil': 6376, 'phone': 4722, 'upgrad': 6642, 'sim': 5616, 'card': 899, 'loyalti': 3487, 'numberoff': 4272, 'numberthfebtc': 4338, 'unless': 6620, 'gurl': 2495, 'appropri': 290, 'teas': 6190, 'plz': 4791, 'rose': 5297, 'grave': 2435, 'bslvyl': 771, 'coffe': 1124, 'tomoc': 6414, 'somebodi': 5750, 'high': 2643, 'diesel': 1532, 'shit': 5551, 'shock': 5561, 'scari': 5408, 'imagin': 2844, 'def': 1451, 'somewher': 5764, 'taxi': 6171, 'fridg': 2201, 'meal': 3641, 'womdarful': 7026, 'actor': 59, 'blind': 631, 'numberu': 4346, 'roddsnumb': 5284, 'numberm': 4209, 'aberdeen': 11, 'unit': 6616, 'kingdom': 3187, 'acwicmbnumbercktznumberrnumbernumb': 61, 'hide': 2641, 'remb': 5187, 'book': 673, 'jo': 3069, 'friendship': 2205, 'hang': 2535, 'thread': 6322, 'themob': 6273, 'newest': 3994, 'game': 2259, 'tone': 6421, 'gossip': 2405, 'sport': 5861, 'fit': 2078, 'funki': 2241, 'garag': 2265, 'key': 3165, 'arent': 307, 'bookshelf': 676, 'accept': 32, 'dayu': 1411, 'sister': 5636, 'dearnumb': 1427, 'bestnumb': 573, 'closnumb': 1096, 'lvblefrnd': 3526, 'jstfrnd': 3099, 'cutefrnd': 1345, 'lifpartnr': 3364, 'belovd': 561, 'swtheart': 6118, 'bstfrnd': 774, 'enemi': 1812, 'smart': 5695, 'weekli': 6882, 'nowtc': 4113, 'winnersclub': 6976, 'box': 700, 'mnumber': 3783, 'numberuz': 4354, 'gbpnumbernumberweek': 2282, 'definit': 1454, 'normal': 4077, 'waythi': 6855, 'uniquei': 6615, 'rest': 5228, 'mylif': 3909, 'wot': 7064, 'lost': 3457, 'made': 3548, 'kkadvanc': 3196, 'pongal': 4829, 'kb': 3149, 'power': 4868, 'yoga': 7225, 'dunno': 1711, 'tahan': 6137, 'anot': 243, 'lo': 3414, 'dude': 1702, 'afraid': 100, 'decemb': 1437, 'numbermth': 4235, 'cake': 836, 'merri': 3690, 'christma': 1056, 'kiss': 3192, 'cud': 1323, 'ppl': 4870, 'gona': 2376, 'lnumber': 3411, 'buse': 808, 'gon': 2375, 'waitin': 6805, 'pete': 4703, 'guild': 2490, 'bristol': 751, 'problem': 4952, 'dahow': 1364, 'track': 6467, 'record': 5143, 'read': 5111, 'women': 7027, 'light': 3366, 'kkapo': 3198, 'kgood': 3171, 'movi': 3850, 'return': 5241, 'immedi': 2850, 'germani': 2309, 'line': 3379, 'via': 6730, 'access': 33, 'prepay': 4905, 'evapor': 1876, 'violat': 6754, 'privaci': 4941, 'steal': 5922, 'employ': 1803, 'paperwork': 4609, 'report': 5206, 'supervisor': 6064, 'valentin': 6699, 'lifetim': 3362, 'numberpmsg': 4287, 'rcvd': 5105, 'custcarenumb': 1340, 'tadaaaaa': 6135, 'dine': 1547, 'sleepingand': 5671, 'surf': 6077, 'post': 4855, 'wiv': 6996, 'carolin': 914, 'favourit': 2008, 'stranger': 5971, 'interest': 2927, 'two': 6549, 'round': 5299, 'gudnitetcpractic': 2484, 'yiju': 7220, 'huim': 2770, 'num': 4126, 'small': 5693, 'prestig': 4918, 'shag': 5513, 'dointerest': 1617, 'sextextukcom': 5501, 'xxuk': 7164, 'jeremiah': 3051, 'iphon': 2952, 'apeshit': 269, 'ever': 1883, 'misbehav': 3747, 'slap': 5666, 'urself': 6669, 'fault': 2000, 'basic': 486, 'figur': 2046, 'alcohol': 157, 'jay': 3035, 'weed': 6877, 'ish': 2965, 'ago': 119, 'wtf': 7093, 'callingforgot': 853, 'onam': 4469, 'sirjii': 5634, 'met': 3705, 'insur': 2923, 'personmeet': 4697, 'insha': 2913, 'allahrakhesh': 175, 'ex': 1908, 'tata': 6165, 'aig': 136, 'tisscotays': 6365, 'cashbal': 924, 'current': 1335, 'maxim': 3629, 'cashin': 926, 'cc': 939, 'hgsuitenumbernumberland': 2635, 'rowwnumberjnumberhl': 5304, 'unemploy': 6604, 'moment': 3811, 'st': 5889, 'andrewsboy': 228, 'cold': 1130, 'chikku': 1020, 'chikkudb': 1023, 'audrey': 389, 'statu': 5916, 'forward': 2155, 'dawn': 1400, 'refresh': 5164, 'aliv': 170, 'breath': 733, 'air': 139, 'updatenow': 6640, 'motorola': 3845, 'sonyericsson': 5774, 'bluetooth': 647, 'orang': 4515, 'mobileupdnumb': 3796, 'callnumberoptoutfnumberq': 855, 'discount': 1570, 'rpnumber': 5308, 'wwwregalportfoliocouk': 7128, 'uniform': 6612, 'geeee': 2290, 'woke': 7023, 'cuddl': 1324, 'spoil': 5852, 'agre': 121, 'will': 6967, 'refer': 5156, 'tnumber': 6382, 'gbp': 2280, 'seen': 5453, 'mei': 3663, 'didt': 1530, 'recognis': 5142, 'lindsay': 3378, 'sigh': 5605, 'bar': 474, 'ptbo': 5005, 'heron': 2626, 'payasam': 4656, 'rinu': 5270, 'bring': 748, 'taught': 6168, 'becau': 526, 'project': 4973, 'prabu': 4878, 'mistak': 3762, 'bodi': 660, 'quit': 5052, 'slow': 5687, 'guid': 2488, 'ovul': 4568, 'relax': 5178, 'reason': 5124, 'followin': 2123, 'coupl': 1260, 'wallet': 6815, 'callnumberoptoutnnumberdx': 860, 'owl': 4572, 'lick': 3354, 'mm': 3774, 'rental': 5197, 'mobilesdirect': 3794, 'ornumberstoptxt': 4530, 'huh': 2768, 'sat': 5384, 'intro': 2938, 'pilat': 4743, 'kickbox': 3176, 'offic': 4424, 'lap': 3280, 'shut': 5596, 'bout': 696, 'numbernumberish': 4248, 'calcul': 839, 'monthnot': 3828, 'period': 4689, 'actual': 60, 'rock': 5283, 'put': 5029, 'pictur': 4736, 'ass': 352, 'facebook': 1957, 'al': 151, 'salam': 5353, 'wahleykkumshar': 6801, 'newsbi': 3998, 'grace': 2422, 'god': 2359, 'tayseertissco': 6175, 'joinedhop': 3078, 'fineinshah': 2060, 'allahmeet': 174, 'sometimerakheshvisitor': 5761, 'india': 2879, 'hmmmkbut': 2676, 'field': 2037, 'quickli': 5050, 'dai': 1365, 'administr': 74, 'poli': 4818, 'numberxå': 4376, 'numberpw': 4306, 'eå': 1951, 'nd': 3953, 'chechi': 990, 'cream': 1285, 'none': 4064, 'yep': 7202, 'loxahatche': 3485, 'tree': 6492, 'stoner': 5952, 'slightli': 5678, 'disastr': 1566, 'pm': 4792, 'fav': 2003, 'wld': 7006, 'drink': 1675, 'busetop': 809, 'messagesom': 3700, 'sendernam': 5471, 'sentdat': 5479, 'fullonsmscom': 2233, 'iron': 2959, 'yan': 7182, 'jiu': 3066, 'skip': 5656, 'den': 1471, 'blah': 620, 'wendi': 6901, 'boxnumbersknumberch': 706, 'whatsup': 6924, 'goal': 2356, 'competit': 1167, 'wwwtxttowincouk': 7147, 'logo': 3425, 'namenumb': 3928, 'mobno': 3797, 'adam': 63, 'eve': 1877, 'yahoo': 7178, 'poboxnumberwnumberwq': 4803, 'txtno': 6556, 'ad': 62, 'yesfrom': 7205, 'poboxnumbernnumbertfnumberp': 4799, 'siva': 5643, 'hostel': 2731, 'aha': 124, 'land': 3269, 'voic': 6776, 'express': 1941, 'numberchildish': 4147, 'numbernaughti': 4237, 'numbersenti': 4317, 'numberrowdi': 4315, 'attitud': 380, 'numberromant': 4314, 'numbershi': 4318, 'numberattract': 4136, 'numberfunni': 4173, 'irrit': 2960, 'shell': 5536, 'aathiwher': 5, 'urin': 6665, 'esplanad': 1861, 'mind': 3730, 'wnt': 7011, 'bmw': 653, 'urgentlyit': 6661, 'vri': 6787, 'urgentbut': 6660, 'hv': 2792, 'shortag': 5573, 'lacsther': 3255, 'sourc': 5801, 'arng': 320, 'amt': 217, 'lacsthat': 3254, 'fifteen': 2041, 'fuck': 2224, 'respond': 5226, 'vari': 6707, 'bcmnumber': 511, 'ldn': 3310, 'wcnumbernnumberxx': 6858, 'hillsborough': 2648, 'th': 6244, 'askin': 348, 'shoul': 5578, 'iouri': 2948, 'ten': 6213, 'applebe': 282, 'txtjourney': 6555, 'gdnow': 2286, 'yesh': 7207, 'greatbhaji': 2443, 'cricket': 1295, 'sachin': 5338, 'worldveri': 7054, 'tough': 6458, 'suppos': 6072, 'oic': 4442, 'tot': 6454, 'din': 1546, 'group': 2464, 'wereth': 6909, 'monkeespeopl': 3819, 'monkeyaround': 3821, 'howdi': 2746, 'gorgeou': 2403, 'blimey': 630, 'exercis': 1919, 'kinda': 3184, 'hmm': 2670, 'concentr': 1185, 'hank': 2538, 'lotsli': 3461, 'kkwhat': 3207, 'detail': 1499, 'transferacc': 6479, 'optimist': 4509, 'improv': 2861, 'purpos': 5024, 'homeown': 2702, 'tenant': 6214, 'welcom': 6893, 'previous': 4926, 'refus': 5167, 'oreo': 4522, 'truffl': 6509, 'ami': 204, 'ure': 6657, 'beauti': 523, 'intellig': 2924, 'woman': 7025, 'donåõt': 1637, 'result': 5236, 'consist': 1208, 'kind': 3183, 'practicum': 4881, 'ear': 1723, 'ttyl': 6524, 'bad': 444, 'thru': 6331, 'differ': 1535, 'feelingwav': 2021, 'decis': 1440, 'cope': 1233, 'individualtim': 2884, 'heal': 2580, 'upgrdcentr': 6643, 'juli': 3106, 'optout': 4512, 'bye': 828, 'railway': 5068, 'princess': 4935, 'oral': 4514, 'doggi': 1610, 'style': 6010, 'fave': 2004, 'posit': 4851, 'enjoy': 1820, 'slipperi': 5681, 'bike': 596, 'mani': 3587, 'languag': 3275, 'okmail': 4452, 'dave': 1397, 'notic': 4089, 'tenerif': 6216, 'sae': 5343, 'cwnumberwx': 1350, 'scream': 5425, 'remov': 5193, 'flat': 2090, 'transfer': 6478, 'differb': 1536, 'numberja': 4198, 'moan': 3789, 'numbernyt': 4270, 'broken': 758, 'cum': 1328, 'infront': 2896, 'wise': 6983, 'numbert': 4332, 'aathilov': 4, 'tension': 6218, 'ahwhat': 134, 'machiani': 3540, 'whenr': 6931, 'mcr': 3640, 'sec': 5439, 'tast': 6163, 'fb': 2009, 'jaykwon': 3037, 'thuglyf': 6335, 'falconerf': 1974, 'term': 6220, 'condit': 1189, 'visit': 6763, 'wwwnumbercom': 7124, 'depend': 1479, 'fade': 1961, 'glori': 2344, 'ralph': 5080, 'dri': 1674, 'trade': 6469, 'sorryin': 5791, 'reunion': 5242, 'nowcan': 4101, 'meh': 3662, 'nope': 4072, 'monday': 3813, 'accentur': 31, 'jackson': 3014, 'rec': 5129, 'center': 951, 'numberish': 4196, 'fight': 2044, 'either': 1776, 'fightng': 2045, 'somenumb': 5752, 'dificult': 1539, 'nuerologist': 4125, 'lolnic': 3432, 'fish': 2075, 'water': 6846, 'bnumber': 654, 'tcsstop': 6183, 'bore': 682, 'outsid': 4557, 'westshor': 6915, 'hyde': 2797, 'villag': 6752, 'near': 3955, 'anthoni': 250, 'fee': 2017, 'rent': 5196, 'signific': 5609, 'opinion': 4500, 'jada': 3016, 'kusruthi': 3244, 'silent': 5613, 'spl': 5844, 'charact': 973, 'matur': 3627, 'stylish': 6011, 'simpl': 5618, 'gs': 2472, 'scroung': 5428, 'ammo': 208, 'ak': 148, 'prabhaim': 4877, 'sorydarealyfrm': 5795, 'sori': 5786, 'forgiven': 2142, 'nojst': 4055, 'tat': 6164, 'numbergb': 4176, 'ipod': 2954, 'mpnumber': 3852, 'ibhltd': 2803, 'ldnwnumberh': 3311, 'numberpmtmsgrcvdnumb': 4292, 'sno': 5725, 'boltblu': 666, 'mono': 3823, 'polynumb': 4824, 'cha': 959, 'slide': 5677, 'jamz': 3024, 'toxic': 6464, 'renew': 5195, 'pin': 4748, 'tgxxrz': 6243, 'transport': 6481, 'less': 3340, 'problemat': 4953, 'no': 4042, 'unconsci': 6594, 'children': 1032, 'adult': 84, 'behav': 550, 'abnorm': 17, 'ebay': 1741, 'elsewher': 1791, 'shall': 5519, 'pickl': 4734, 'taco': 6132, 'rude': 5321, 'campu': 876, 'attempt': 376, 'boxnumberqu': 705, 'savamob': 5395, 'member': 3672, 'cs': 1311, 'sub': 6013, 'unsub': 6632, 'pretti': 4922, 'ladi': 3257, 'reciev': 5140, 'within': 6991, 'channel': 969, 'teletext': 6202, 'pg': 4709, 'doublefaggot': 1646, 'todaysundaysunday': 6395, 'holidayso': 2694, 'lnumberr': 3412, 'malaria': 3572, 'bani': 468, 'lead': 3313, 'passion': 4639, 'across': 52, 'sea': 5435, 'probabl': 4951, 'lt': 3492, 'fat': 1995, 'finger': 2063, 'button': 817, 'ummmmmaah': 6586, 'tirupur': 6364, 'wwwapplausestorecom': 7101, 'maxnumbermonth': 3632, 'tcsc': 6182, 'web': 6865, 'agenumb': 115, 'numberstop': 4327, 'famou': 1981, 'develop': 1504, 'abil': 13, 'listen': 3394, 'uncondit': 6593, 'temper': 6211, 'self': 5459, 'confid': 1194, 'marri': 3604, 'oclock': 4414, 'mine': 3732, 'bash': 485, 'recoveri': 5145, 'rather': 5094, 'coop': 1230, 'hotel': 2734, 'cali': 840, 'english': 1819, 'bloke': 634, 'weddin': 6873, 'omw': 4468, 'btw': 780, 'alibi': 169, 'sink': 5629, 'pace': 4581, 'cage': 835, 'cock': 1119, 'surround': 6083, 'remind': 5192, 'own': 4573, 'cuck': 1322, 'hurri': 2785, 'weeddefici': 6878, 'three': 6324, 'acknowledg': 48, 'astoundingli': 361, 'tactless': 6134, 'gener': 2297, 'faggi': 1962, 'demand': 1470, 'blood': 637, 'oath': 4402, 'fo': 2118, 'warm': 6831, 'milk': 3722, 'magic': 3558, 'loos': 3448, 'weight': 6885, 'pan': 4595, 'it': 2973, 'cheap': 987, 'perhap': 4687, 'silli': 5614, 'isn': 2969, 'uv': 6691, 'mutat': 3904, 'sunscreen': 6057, 'essenti': 1863, 'theseday': 6288, 'lunchyou': 3516, 'onlinewhi': 4479, 'pic': 4732, 'aiyo': 146, 'fast': 1991, 'workin': 7048, 'bao': 473, 'sugardad': 6037, 'ahge': 126, 'meim': 3664, 'browni': 764, 'geeeee': 2291, 'bare': 477, 'numbermrw': 4234, 'ninish': 4028, 'icki': 2814, 'american': 203, 'freek': 2179, 'callin': 852, 'jen': 3048, 'oooh': 4493, 'ridden': 5256, 'ey': 1948, 'gym': 2501, 'whatev': 6923, 'daddi': 1360, 'dick': 1522, 'missi': 3754, 'yar': 7183, 'mum': 3887, 'sch': 5411, 'clean': 1082, 'lab': 3250, 'goggl': 2365, 'door': 1639, 'callnumb': 854, 'arngd': 321, 'marriag': 3605, 'walkin': 6813, 'unfortuntli': 6608, 'snake': 5718, 'bite': 613, 'danc': 1372, 'frnt': 2214, 'sayin': 5401, 'izzit': 3005, 'textand': 6234, 'exwif': 1947, 'kid': 3178, 'jjc': 3067, 'tendenc': 6215, 'headach': 2576, 'jazz': 3039, 'yogasana': 7226, 'em': 1793, 'meiv': 3665, 'hardli': 2552, 'gotani': 2409, 'srsli': 5884, 'yi': 7218, 'spree': 5869, 'tsc': 6518, 'wwwtxtnumbershopcom': 7146, 'custcar': 1339, 'numberxnumberpwk': 4370, 'ag': 108, 'promo': 4978, 'grand': 2427, 'prix': 4943, 'nitz': 4038, 'announc': 239, 'exhaust': 1921, 'train': 6472, 'pie': 4738, 'present': 4911, 'ar': 299, 'blastin': 625, 'tsunami': 6522, 'occur': 4412, 'rajnik': 5076, 'swim': 6108, 'indian': 2880, 'oceand': 4413, 'noon': 4069, 'numbermorow': 4228, 'soire': 5744, 'zouk': 7283, 'nichol': 4008, 'parisfre': 4623, 'bridgwat': 740, 'banter': 471, 'neva': 3988, 'imma': 2849, 'somethin': 5759, 'euronumb': 1873, 'daili': 1366, 'que': 5044, 'suit': 6039, 'bestrpli': 574, 'thanxnumb': 6254, 'cer': 954, 'often': 4434, 'soonc': 5777, 'himthen': 2650, 'futur': 2245, 'hundr': 2774, 'aunti': 393, 'shuhui': 5594, 'leona': 3338, 'reaction': 5110, 'famili': 1978, 'snow': 5728, 'weather': 6864, 'togeth': 6398, 'grow': 2465, 'dismay': 1576, 'alex': 162, 'concern': 1186, 'pub': 5008, 'bud': 784, 'offici': 4429, 'paid': 4588, 'market': 3601, 'tootsi': 6440, 'pop': 4840, 'longer': 3439, 'darren': 1387, 'textbuddi': 6236, 'area': 306, 'postcod': 4858, 'gaytextbuddycom': 2277, 'vodafon': 6774, 'seventeen': 5496, 'seven': 5495, 'ml': 3773, 'ûò': 7300, 'holder': 2690, 'pc': 4662, 'applynumb': 286, 'funni': 2242, 'sweetheart': 6104, 'biola': 603, 'login': 3424, 'dad': 1359, 'fetch': 2029, 'restock': 5230, 'thanksgiv': 6249, 'effect': 1759, 'brighten': 743, 'wee': 6876, 'thursday': 6337, 'allo': 178, 'brave': 723, 'taken': 6144, 'triumph': 6500, 'we': 6859, 'jolli': 3084, 'cartoon': 921, 'templ': 6212, 'church': 1061, 'uncomfort': 6592, 'email': 1794, 'rstm': 5314, 'swnumber': 6113, 'numberss': 4322, 'gentl': 2300, 'sonetim': 5770, 'rough': 5298, 'panic': 4599, 'tuesday': 6526, 'wesley': 6910, 'town': 6462, 'bet': 575, 'hella': 2603, 'drug': 1687, 'dealer': 1418, 'impati': 2853, 'sun': 6049, 'earth': 1729, 'cloud': 1098, 'river': 5275, 'evng': 1899, 'wikipediacom': 6962, 'premium': 4902, 'lay': 3307, 'envelop': 1837, 'paper': 4608, 'repent': 5201, 'de': 1414, 'prepar': 4904, 'kama': 3131, 'sutra': 6086, 'en': 1806, 'nang': 3931, 'bakra': 454, 'kalstiyathen': 3130, 'teacoffe': 6187, 'carlosl': 913, 'lakh': 3264, 'ho': 2682, 'belli': 557, 'laugh': 3300, 'sunnumb': 6054, 'helloy': 2608, 'opt': 4508, 'ditto': 1583, 'peac': 4664, 'knw': 3225, 'wetherspoon': 6917, 'piggi': 4742, 'awak': 416, 'freaki': 2173, 'yell': 7197, 'scrappi': 5423, 'lone': 3436, 'hex': 2631, 'explain': 1936, 'sdrybnumberi': 5433, 'xy': 7174, 'sue': 6031, 'lapdanc': 3281, 'sex': 5498, 'bedroom': 534, 'textoper': 6240, 'gnumber': 2352, 'numberda': 4158, 'numberppmsg': 4298, 'king': 3186, 'build': 792, 'map': 3591, 'imprtant': 2862, 'tomorw': 6419, 'dearm': 1426, 'cherthalain': 1008, 'cochin': 1118, 'bfore': 587, 'starti': 5909, 'accordinglyor': 41, 'comingtmorow': 1154, 'engag': 1815, 'an': 220, 'torch': 6447, 'bold': 663, 'numberpleas': 4283, 'farm': 1987, 'numberd': 4157, 'law': 3305, 'purchas': 5020, 'poop': 4836, 'gpu': 2420, 'entrepreneur': 1831, 'corpor': 1237, 'gap': 2264, 'ku': 3241, 'prevent': 4923, 'dehydr': 1458, 'fluid': 2109, 'weird': 6888, 'idea': 2819, 'deari': 1423, 'soso': 5796, 'smsd': 5711, 'away': 418, 'trek': 6493, 'harri': 2556, 'drivin': 1680, 'fantast': 1985, 'ngage': 4003, 'deck': 1441, 'wwwcnupdatescomnewslett': 7109, 'alert': 159, 'height': 2599, 'aeronaut': 90, 'professor': 4968, 'wer': 6905, 'calld': 847, 'sit': 5637, 'aeroplan': 91, 'aftr': 107, 'ws': 7090, 'student': 5997, 'dey': 1508, 'saidif': 5350, 'shitstorm': 5556, 'attribut': 383, 'stress': 5976, 'dorm': 1640, 'sell': 5463, 'uu': 6689, 'tcsbcmnumberwcnumbernnumberxx': 6181, 'callcost': 845, 'mobilesvari': 3795, 'maxå': 3633, 'numb': 4127, 'sth': 5936, 'spec': 5818, 'pxnumber': 5033, 'macha': 3538, 'upseti': 6650, 'assum': 357, 'mindsetbeliev': 3731, 'uslet': 6680, 'againcal': 109, 'sfine': 5506, 'wondar': 7028, 'flim': 2098, 'cooki': 1227, 'jelli': 3047, 'stillmayb': 5943, 'sameso': 5365, 'itor': 2989, 'admiti': 78, 'madthen': 3553, 'correctionor': 1240, 'lifeand': 3358, 'worldmay': 7053, 'runninglet': 5331, 'scrumptiou': 5429, 'ba': 429, 'dao': 1378, 'halfnumberth': 2523, 'exactli': 1910, 'jide': 3065, 'alertfrom': 160, 'jeri': 3052, 'stewarts': 5934, 'numberkbsubject': 4201, 'lowcost': 3483, 'prescripiton': 4908, 'drvgsto': 1693, 'spring': 5870, 'yay': 7188, 'steak': 5921, 'convincingjust': 1225, 'twice': 6543, 'neglect': 3974, 'itjust': 2981, 'tonit': 6429, 'opportunityal': 4504, 'fastpl': 1994, 'add': 64, 'prayer': 4892, 'dearrakhesh': 1428, 'offerth': 4423, 'nokianumb': 4058, 'txtauction': 6551, 'numbertctxt': 4334, 'numberpmtmsg': 4291, 'rite': 5273, 'gd': 2285, 'faster': 1992, 'gal': 2253, 'attach': 374, 'glad': 2338, 'hadnt': 2509, 'clock': 1090, 'shout': 5582, 'realis': 5117, 'wahay': 6798, 'shorter': 5575, 'gaze': 2278, 'eye': 1949, 'subscrib': 6018, 'helplin': 2610, 'weve': 6918, 'spoken': 5855, 'gist': 2333, 'thousand': 6320, 'tattoo': 6166, 'premier': 4901, 'gimm': 2326, 'lip': 3390, 'caveboy': 937, 'librari': 3353, 'reali': 5116, 'sorryi': 5790, 'confus': 1200, 'holla': 2695, 'anyon': 257, 'spare': 5813, 'faith': 1968, 'possiblehop': 4854, 'worklov': 7049, 'beautifulmay': 524, 'christmasmerri': 1057, 'youcarlo': 7232, 'isar': 2963, 'vibrat': 6732, 'act': 54, 'pari': 4622, 'numbertsc': 4342, 'grandma': 2429, 'hungov': 2776, 'unclaim': 6591, 'closingdatenumbernumbernumb': 1095, 'claimcod': 1072, 'mnumbermnumb': 3785, 'numbernumberpmmorefrommobilenumberbremovedmobypoboxnumberlsnumberyf': 4262, 'gua': 2476, 'mt': 3870, 'faber': 1954, 'yest': 7213, 'ma': 3532, 'advanc': 85, 'citi': 1066, 'summer': 6044, 'store': 5963, 'skilgm': 5649, 'tscsnumberwinawkagenumb': 6520, 'numbernumberperwksub': 4259, 'goin': 2367, 'meetin': 3659, 'ti': 6339, 'theyr': 6294, 'dramat': 1662, 'appar': 277, 'anywher': 265, 'damn': 1369, 'hunt': 2784, 'drunkard': 1691, 'idc': 2817, 'weasel': 6863, 'row': 5302, 'space': 5807, 'trash': 6482, 'beg': 545, 'sing': 5626, 'slave': 5667, 'punish': 5016, 'beerag': 540, 'randomlli': 5086, 'couldnt': 1254, 'she': 5532, 'diff': 1534, 'perfect': 4684, 'commun': 1160, 'numberpsm': 4302, 'polyphon': 4827, 'toppoli': 6445, 'tune': 6532, 'subpoli': 6017, 'pole': 4817, 'fondli': 2125, 'bein': 552, 'thot': 6315, 'ywhere': 7271, 'dogbreath': 1608, 'jan': 3025, 'omg': 4467, 'weigh': 6884, 'woohoo': 7035, 'uncount': 6596, 'dictionari': 1524, 'piec': 4739, 'numberthmarch': 4339, 'availa': 402, 'petey': 4705, 'wherear': 6934, 'friendsar': 2204, 'thekingshead': 6271, 'canlov': 885, 'nic': 4005, 'poboxnumb': 4796, 'mnumberuz': 3786, 'appt': 293, 'lttimegt': 3500, 'mate': 3617, 'wwwgetzedcouk': 7115, 'wnumberwq': 7018, 'normnumberpton': 4078, 'cashto': 927, 'getstop': 2315, 'php': 4728, 'rgnumber': 5250, 'numberjx': 4199, 'dled': 1591, 'imp': 2852, 'aint': 138, 'smokin': 5709, 'boooo': 677, 'bec': 525, 'ugh': 6570, 'ssnervou': 5888, 'costum': 1247, 'gift': 2323, 'yowif': 7259, 'hint': 2651, 'borrow': 686, 'bag': 448, 'outbid': 4547, 'simonwatsonnumb': 5617, 'shinco': 5545, 'plyr': 4790, 'bid': 592, 'acsmsreward': 53, 'notif': 4090, 'model': 3801, 'youi': 7238, 'galileo': 2255, 'dobbi': 1596, 'boo': 671, 'enjoyin': 1821, 'yourjob': 7249, 'gettin': 2316, 'hunnyhop': 2781, 'oktak': 4455, 'iåõllspeak': 3007, 'soonlot': 5779, 'lovem': 3475, 'xxxx': 7168, 'starshin': 5906, 'ach': 44, 'sip': 5630, 'cappuccino': 896, 'smsservic': 5714, 'yourinclus': 7248, 'wwwcomuknet': 7110, 'numberqxjnumb': 4309, 'extra': 1944, 'numbercomuk': 4151, 'numbercmnumb': 4149, 'numbera': 4129, 'alfi': 163, 'moon': 3830, 'chariti': 975, 'zed': 7276, 'profit': 4970, 'hahahaus': 2513, 'brain': 717, 'green': 2448, 'burial': 804, 'mojibiola': 3807, 'reveal': 5243, 'recd': 5130, 'cust': 1338, 'rv': 5334, 'havenåõt': 2569, 'roadsrvx': 5279, 'skype': 5662, 'kz': 3248, 'sura': 6075, 'given': 2336, 'ultimatum': 6582, 'countin': 1257, 'aburo': 25, 'five': 2080, 'inconsider': 2870, 'nag': 3918, 'recess': 5137, 'henc': 2615, 'voucherstext': 6784, 'nowsavamobmemb': 4109, 'soo': 5775, 'understand': 6599, 'numbermorrow': 4230, 'comprehens': 1177, 'prashanthettan': 4890, 'mother': 3840, 'ibiza': 2804, 'await': 415, 'sknumber': 5658, 'numberwp': 4365, 'ppm': 4873, 'kkwhen': 3208, 'meanwhil': 3646, 'xavier': 7152, 'warn': 6832, 'samantha': 5363, 'guitar': 2492, 'impress': 2860, 'doug': 1650, 'stomach': 5949, 'trauma': 6483, 'swear': 6099, 'officewhat': 4428, 'mattermsg': 3625, 'nowi': 4102, 'shoe': 5562, 'wan': 6821, 'inner': 2903, 'tigress': 6346, 'version': 6726, 'poor': 4837, 'babyhop': 436, 'urfeel': 6658, 'bettersn': 580, 'probthat': 4959, 'overdos': 4563, 'spk': 5843, 'sn': 5717, 'lovejen': 3474, 'fall': 1975, 'discreet': 1571, 'vip': 6757, 'hai': 2515, 'ana': 221, 'sathi': 5386, 'rto': 5317, 'spoon': 5859, 'tampa': 6155, 'geniu': 2298, 'whenev': 6929, 'lotta': 3462, 'corvett': 1243, 'suppli': 6067, 'virgin': 6759, 'mysteri': 3913, 'wwwsmsconet': 7139, 'numbernumberpm': 4260, 'approx': 292, 'wall': 6814, 'bunker': 800, 'matter': 3624, 'xxxxxx': 7170, 'posh': 4849, 'bird': 604, 'chap': 970, 'user': 6676, 'trial': 6496, 'prod': 4964, 'champney': 966, 'dob': 1595, 'asap': 338, 'philosoph': 4716, 'hole': 2691, 'goodno': 2396, 'problembut': 4954, 'drop': 1684, 'nap': 3933, 'atleast': 371, 'otherwis': 4538, 'shakespear': 5518, 'shesil': 5539, 'numberk': 4200, 'travel': 6485, 'ntt': 4120, 'crnumberbt': 1300, 'fixedlin': 2083, 'castor': 929, 'liverpool': 3403, 'mid': 3714, 'numberstopsmsnumb': 4328, 'mymobi': 3910, 'knew': 3215, 'woul': 7067, 'curfew': 1333, 'gibe': 2322, 'midnight': 3716, 'getsleep': 2314, 'studdi': 5996, 'massag': 3610, 'oil': 4443, 'sup': 6060, 'yoyyooo': 7260, 'permiss': 4692, 'mac': 3536, 'usb': 6671, 'gibb': 2321, 'unsoldmik': 6630, 'hussey': 2789, 'fail': 1964, 'sad': 5342, 'unbeliev': 6589, 'faglord': 1963, 'wifehow': 6959, 'murder': 3895, 'nutter': 4389, 'cutter': 1348, 'ctter': 1320, 'cttergg': 1321, 'cttargg': 1319, 'ctargg': 1316, 'ctagg': 1315, 'ie': 2827, 'thu': 6334, 'superb': 6062, 'grate': 2434, 'opportun': 4503, 'happier': 2545, 'agent': 114, 'due': 1704, 'sever': 5497, 'outstand': 4558, 'invoic': 2946, 'possibl': 4853, 'smell': 5701, 'tobacco': 6385, 'derek': 1484, 'taylor': 6174, 'worst': 7061, 'charl': 976, 'lastest': 3291, 'stereophon': 5929, 'marley': 3602, 'dizze': 1589, 'racal': 5060, 'libertin': 3352, 'stroke': 5986, 'nookii': 4068, 'bookmark': 675, 'plu': 4785, 'grinul': 2454, 'greet': 2450, 'white': 6943, 'fudg': 2227, 'januari': 3029, 'male': 3574, 'sale': 5355, 'gay': 2275, 'cheaper': 988, 'numbernumberpmin': 4261, 'peak': 4666, 'zaher': 7273, 'ym': 7221, 'nauseou': 3948, 'piss': 4753, 'pig': 4741, 'diet': 1533, 'chip': 1043, 'iam': 2801, 'addict': 67, 'msging': 3861, 'wrong': 7086, 'photo': 4726, 'yck': 7189, 'ashley': 342, 'avalarr': 405, 'hollalat': 2696, 'attend': 378, 'todaybut': 6390, 'websitenow': 6871, 'blog': 633, 'magicalsongsblogspotcom': 3559, 'chikkuil': 1025, 'ate': 366, 'kvb': 3245, 'acc': 29, 'numbermillion': 4216, 'pptnumberxnumbernorm': 4875, 'wnumbertnumberji': 7017, 'fridayhop': 2200, 'alternativehop': 193, 'ore': 4520, 'mo': 3788, 'owo': 4575, 'fro': 2215, 'wherev': 6936, 'samu': 5366, 'shoulder': 5579, 'matthew': 3626, 'numberlux': 4208, 'ppmnumber': 4874, 'sknumberxh': 5659, 'wear': 6862, 'jean': 3044, 'fever': 2030, 'vomitin': 6781, 'kkare': 3199, 'hpnumber': 2752, 'numberyf': 4378, 'stuf': 6002, 'bleh': 627, 'least': 3319, 'writh': 7079, 'ton': 6420, 'paypal': 4661, 'voila': 6778, 'pocket': 4808, 'medic': 3653, 'folk': 2121, 'sorta': 5793, 'blown': 644, 'score': 5417, 'sopha': 5784, 'secondari': 5441, 'applic': 285, 'ogunrind': 4437, 'expens': 1929, 'tcrwnumber': 6180, 'lodg': 3422, 'chk': 1045, 'ms': 3859, 'dict': 1523, 'shb': 5530, 'truth': 6513, 'graviti': 2438, 'heavi': 2594, 'bowl': 699, 'filthi': 2051, 'ull': 6580, 'brand': 720, 'simpler': 5619, 'welp': 6899, 'retir': 5239, 'natwest': 3946, 'validnumberhr': 6701, 'chad': 961, 'gymnast': 2502, 'site': 5638, 'christian': 1055, 'backa': 441, 'necklac': 3964, 'token': 6403, 'youthat': 7251, 'wife': 6957, 'likingb': 3372, 'seeno': 5454, 'thatdont': 6259, 'aptitud': 297, 'hors': 2728, 'race': 5061, 'earlier': 1725, 'chicken': 1017, 'rice': 5253, 'wrongli': 7087, 'crap': 1279, 'borin': 683, 'boggi': 661, 'biatch': 591, 'nxt': 4394, 'il': 2837, 'hesit': 2630, 'notebook': 4085, 'salari': 5354, 'chocol': 1047, 'daysh': 1406, 'potenti': 4862, 'talent': 6147, 'reckon': 5141, 'eightish': 1774, 'carpark': 916, 'numberg': 4174, 'videophon': 6740, 'videochat': 6738, 'java': 3034, 'dload': 1593, 'polyph': 4826, 'nolin': 4060, 'rentl': 5198, 'fuckin': 2225, 'yun': 7265, 'ahth': 133, 'ubi': 6565, 'tomorrowcal': 6417, 'ireneer': 2957, 'busnumbernumbernumbernumbernumbernumb': 811, 'cresubi': 1292, 'tech': 6191, 'parknumberph': 4627, 'numberwkg': 4364, 'daysì': 1409, 'sd': 5431, 'butt': 815, 'sore': 5785, 'parti': 4629, 'stripe': 5984, 'skirt': 5657, 'miracl': 3745, 'jesu': 3057, 'escal': 1855, 'yetund': 7217, 'quiet': 5051, 'beth': 577, 'aunt': 392, 'charli': 977, 'helen': 2601, 'nobut': 4046, 'heard': 2585, 'syllabu': 6120, 'panason': 4597, 'bluetoothhdset': 648, 'doublemin': 1647, 'doubletxt': 1648, 'contract': 1217, 'poyyarikaturkolathupalayamunjalur': 4869, 'posterod': 4859, 'heroi': 2625, 'apt': 296, 'opportunitypl': 4505, 'ltemailgt': 3497, 'kerala': 3161, 'terribl': 6224, 'fan': 1982, 'meat': 3649, 'suprem': 6073, 'toldsh': 6406, 'dearregret': 1429, 'cudnt': 1325, 'calldrov': 848, 'frm': 2208, 'ctla': 1318, 'homeleft': 2700, 'carent': 907, 'ishtamayoohappi': 2966, 'bakrid': 455, 'exe': 1917, 'knowwait': 3222, 'gloriou': 2345, 'anniversari': 237, 'prey': 4927, 'coax': 1115, 'imag': 2843, 'fond': 2124, 'souveni': 5804, 'cougarpen': 1250, 'secretli': 5444, 'dateboxnumberessexcmnumberxn': 1393, 'pattern': 4651, 'throat': 6327, 'scratch': 5424, 'plm': 4782, 'asleep': 350, 'foreign': 2136, 'stamp': 5899, 'lectur': 3324, 'sheffield': 5534, 'nanni': 3932, 'rais': 5070, 'zoe': 7280, 'shitin': 5553, 'defo': 1456, 'hardest': 2551, 'million': 3725, 'lekdog': 3333, 'fill': 2048, 'loverboy': 3478, 'blanket': 624, 'suffici': 6033, 'thx': 6338, 'nyt': 4398, 'edison': 1749, 'rightli': 5260, 'fool': 2128, 'speechless': 5824, 'viva': 6768, 'gm': 2347, 'atten': 377, 'roast': 5280, 'iåõd': 3006, 'lsnumberhb': 3490, 'educ': 1752, 'doesnåõt': 1606, 'seriou': 5488, 'kickoff': 3177, 'euro': 1871, 'june': 3111, 'numberrd': 4312, 'data': 1391, 'analysi': 223, 'thesi': 6290, 'belliger': 558, 'hiya': 2664, 'april': 294, 'le': 3312, 'rudi': 5322, 'snoringthey': 5727, 'drunk': 1690, 'ink': 2900, 'howr': 2748, 'eastend': 1736, 'flower': 2108, 'compar': 1164, 'violet': 6756, 'tulip': 6530, 'lili': 3374, 'wkentnumberpnumb': 7000, 'technic': 6192, 'support': 6069, 'processnetwork': 4963, 'daysso': 1407, 'finalis': 2054, 'visitne': 6764, 'wwwflirtpartyu': 7112, 'replysnumb': 5205, 'bitch': 612, 'dentist': 1477, 'numberwu': 4369, 'cnumber': 1110, 'xchat': 7153, 'lul': 3513, 'juici': 3104, 'nurs': 4384, 'obes': 4404, 'oyea': 4577, 'oi': 4441, 'parchi': 4617, 'na': 3915, 'kicchu': 3174, 'kaaj': 3119, 'kort': 3234, 'iccha': 2810, 'korch': 3231, 'tul': 6529, 'sculptur': 5430, 'convey': 1223, 'regard': 5169, 'surya': 6085, 'vijay': 6745, 'pokkiri': 4816, 'dearer': 1422, 'dem': 1469, 'attractioni': 382, 'mesh': 3692, 'thoughtsi': 6319, 'hersh': 2627, 'dreamlov': 1668, 'namemi': 3927, 'hermi': 2623, 'heri': 2621, 'herwil': 2629, 'sorrowsi': 5789, 'craziest': 1283, 'herlov': 2622, 'proov': 4984, 'planeti': 4766, 'prais': 4883, 'curri': 1336, 'maki': 3570, 'sambarlif': 5364, 'thenwil': 6278, 'lotwil': 3464, 'frndship': 2210, 'needl': 3970, 'evn': 1898, 'meetitz': 3660, 'numberfew': 4169, 'alwi': 197, 'conect': 1192, 'spatula': 5816, 'sipix': 5631, 'digit': 1541, 'mnumberbp': 3784, 'numberyr': 4379, 'warranti': 6834, 'på': 5034, 'doctor': 1599, 'complex': 1173, 'freeli': 2180, 'tax': 6170, 'outrag': 4555, 'tomorro': 6415, 'ryder': 5336, 'unsoldnow': 6631, 'receipt': 5131, 'elvi': 1792, 'presley': 4913, 'fret': 2197, 'strip': 5983, 'postal': 4856, 'addressul': 69, 'alrightokay': 187, 'cliff': 1088, 'ne': 3954, 'wrking': 7083, 'uni': 6610, 'depress': 1481, 'sittin': 5641, 'wind': 6970, 'black': 615, 'aiyah': 144, 'onumb': 4487, 'onto': 4485, 'surpris': 6081, 'hen': 2614, 'onlin': 4478, 'italian': 2974, 'grin': 2452, 'math': 3618, 'sfirst': 5507, 'timedhoni': 6353, 'teju': 6199, 'hourish': 2738, 'nothi': 4087, 'groundamla': 2463, 'durban': 1713, 'conveni': 1220, 'evalu': 1875, 'speed': 5825, 'speedchat': 5826, 'swap': 6093, 'chatter': 986, 'chatnumb': 985, 'rcd': 5102, 'cancel': 882, 'cheyyamoand': 1012, 'okok': 4453, 'okthenwhat': 4456, 'aiyar': 145, 'survey': 6084, 'wwwtxtnumbercom': 7145, 'numbernumberp': 4257, 'who': 6945, 'hmvnumber': 2681, 'error': 1848, 'difficulti': 1538, 'howz': 2750, 'painhop': 4590, 'tau': 6167, 'sar': 5375, 'piah': 4731, 'numberstchoicecouk': 4324, 'oha': 4439, 'film': 2049, 'hgsuitenumbernumberlandsrowwnumberjnumberhl': 2636, 'shade': 5511, 'notifi': 4091, 'luck': 3505, 'station': 5915, 'tank': 6156, 'numberfil': 4170, 'sexual': 5502, 'cute': 1344, 'numberå': 4383, 'sitter': 5640, 'kaitlyn': 3124, 'danger': 1377, 'peep': 4669, 'comment': 1156, 'veggi': 6718, 'neighbor': 3976, 'computerless': 1181, 'balloon': 459, 'passthey': 4641, 'ntswt': 4119, 'drm': 1682, 'wrc': 7074, 'ralli': 5079, 'oz': 4579, 'lucozad': 3509, 'energi': 1813, 'lucozadecoukwrc': 3510, 'itcould': 2976, 'melodi': 3670, 'horribl': 2727, 'toot': 6438, 'bigger': 594, 'nw': 4393, 'hme': 2669, 'island': 2967, 'chennai': 1003, 'velacheri': 6720, 'flippin': 2100, 'cstore': 1314, 'annoy': 240, 'hangin': 2537, 'makin': 3571, 'alivebett': 171, 'shame': 5520, 'quizz': 5057, 'popcorn': 4841, 'jordan': 3089, 'celeb': 946, 'pocketbabecouk': 4809, 'voicemail': 6777, 'thin': 6298, 'faultal': 2001, 'faultf': 2002, 'himso': 2649, 'numbergo': 4182, 'thanxxx': 6255, 'neft': 3972, 'beneficiari': 566, 'natuit': 3944, 'choic': 1048, 'wwwldewcomsubsnumbernumberwinnumberppmxnumb': 7120, 'semi': 5466, 'deliv': 1464, 'exp': 1927, 'numberapr': 4135, 'strong': 5987, 'arm': 317, 'maaaan': 3533, 'guessin': 2487, 'walmart': 6818, 'ilol': 2840, 'wuldnt': 7099, 'mite': 3765, 'creepi': 1291, 'lunchtim': 3515, 'organis': 4524, 'kkim': 3204, 'finewhen': 2062, 'passabl': 4638, 'phd': 4713, 'numberyear': 4377, 'easier': 1732, 'nok': 4056, 'txtin': 6553, 'numberpton': 4304, 'numberinfo': 4195, 'prakesh': 4886, 'rofl': 5286, 'betta': 578, 'invest': 2942, 'anti': 251, 'product': 4965, 'delay': 1460, 'accommod': 36, 'variou': 6708, 'global': 2343, 'wwwphbnumbercom': 7127, 'phnumberp': 4720, 'submit': 6016, 'wwwtextcompcom': 7142, 'snatch': 5721, 'purs': 5025, 'edrunk': 1751, 'iff': 2828, 'pthi': 5006, 'senrddnot': 5473, 'dancc': 1373, 'drum': 1689, 'basqihav': 489, 'numbernhit': 4240, 'ro': 5277, 'xxxxxxx': 7171, 'reliev': 5181, 'westonzoyland': 6914, 'europ': 1874, 'nobodi': 4045, 'chines': 1040, 'doc': 1597, 'havin': 2570, 'goinnumberb': 2368, 'onlynumbermor': 4484, 'mc': 3637, 'hun': 2773, 'numbernitetel': 4243, 'everynumb': 1888, 'ava': 400, 'goodtimeoli': 2399, 'rang': 5087, 'melnit': 3669, 'ifink': 2829, 'sortedbut': 5794, 'everythin': 1892, 'monlnumberrsx': 3822, 'flip': 2099, 'shun': 5595, 'bian': 590, 'glass': 2341, 'exhibit': 1922, 'el': 1777, 'nino': 4029, 'chikkugo': 1024, 'cbe': 938, 'honey': 2708, 'jd': 3041, 'execut': 1918, 'parent': 4619, 'downstem': 1655, 'wahala': 6797, 'inperialmus': 2909, 'listeningnumberth': 3395, 'weirdest': 6889, 'byåóleafcutt': 829, 'johnåósound': 3076, 'insect': 2912, 'molestedsomeon': 3809, 'plumbingremix': 4788, 'evil': 1897, 'acid': 47, 'didntgiv': 1528, 'bellearli': 556, 'hunni': 2780, 'exact': 1909, 'numbermoro': 4227, 'jane': 3027, 'callså': 867, 'numberminmoremobsemspoboxnumberponumberwa': 4220, 'tee': 6194, 'cheeri': 998, 'cell': 949, 'tht': 6333, 'dough': 1651, 'control': 1219, 'numberbiz': 4141, 'weirdo': 6891, 'mode': 3800, 'stalk': 5898, 'profil': 4969, 'jerri': 3054, 'drinkin': 1676, 'other': 4537, 'heygreat': 2633, 'dealfarm': 1419, 'tour': 6460, 'dollarnumberpax': 1624, 'deposit': 1480, 'jap': 3031, 'disappear': 1563, 'birthdat': 608, 'certif': 958, 'publish': 5011, 'nydc': 4397, 'wheellock': 6927, 'destin': 1497, 'fifti': 2043, 'favour': 2007, 'happenin': 2543, 'ola': 4458, 'cocksuck': 1120, 'ipad': 2950, 'worthless': 7063, 'garbag': 2266, 'novelti': 4097, 'item': 2977, 'tshirt': 6521, 'fran': 2166, 'broke': 757, 'knacker': 3213, 'janx': 3030, 'ps': 4998, 'design': 1490, 'softwar': 5742, 'jamster': 3021, 'videosound': 6741, 'gold': 2370, 'videosoundsnumb': 6742, 'logosmusicnew': 3429, 'jamstercouk': 3022, 'numberonli': 4273, 'lion': 3387, 'lionm': 3388, 'lionp': 3389, 'wwwringtonescouk': 7130, 'origin': 4527, 'numbergbp': 4177, 'jokin': 3083, 'spirit': 5840, 'bb': 500, 'shatter': 5528, 'alrit': 188, 'idiot': 2823, 'girli': 2332, 'darker': 1382, 'whenevr': 6930, 'gray': 2439, 'remembr': 5190, 'listn': 3396, 'watevr': 6848, 'whileamp': 6940, 'ûïharri': 7299, 'potter': 4863, 'phoenix': 4721, 'among': 209, 'reader': 5112, 'shd': 5531, 'minu': 3743, 'paragraph': 4614, 'coveragd': 1268, 'vasai': 6710, 'numbero': 4271, 'retard': 5238, 'bathroom': 494, 'sang': 5369, 'uptown': 6654, 'februari': 2015, 'rush': 5333, 'icic': 2812, 'syria': 6125, 'canada': 879, 'heartsnot': 2590, 'goodnoon': 2397, 'gaug': 2272, 'patti': 4652, 'mondaynxt': 3814, 'vl': 6771, 'ax': 423, 'chill': 1034, 'surgic': 6078, 'emerg': 1799, 'unfold': 6606, 'fren': 2192, 'korean': 3232, 'fredericksburg': 2174, 'pase': 4636, 'un': 6587, 'buen': 787, 'tiempo': 6342, 'chillin': 1036, 'super': 6061, 'freenumberday': 2186, 'georg': 2306, 'jordantxt': 3090, 'sauci': 5394, 'celebnumb': 947, 'tmrw': 6379, 'compass': 1165, 'soul': 5797, 'worldgnun': 7052, 'waynumbersmscom': 6854, 'baaaaab': 431, 'misss': 3758, 'youuuuu': 7253, 'ned': 3965, 'witot': 6994, 'main': 3566, 'sweeti': 6105, 'blackberri': 617, 'buyer': 819, 'melik': 3667, 'pple': 4871, 'becz': 530, 'undrstndng': 6603, 'chain': 962, 'suffer': 6032, 'whn': 6944, 'arrest': 328, 'suntec': 6059, 'steamboat': 5924, 'moji': 3806, 'forgiv': 2141, 'messeng': 3703, 'tp': 6466, 'fantasi': 1984, 'croydon': 1305, 'crnumber': 1299, 'numberwb': 4358, 'bbq': 506, 'everyso': 1890, 'panick': 4600, 'outhav': 4552, 'write': 7078, 'numbercov': 4153, 'screen': 5426, 'numberpress': 4301, 'bear': 521, 'nick': 4009, 'tom': 6410, 'fact': 1959, 'upload': 6645, 'huai': 2762, 'juan': 3102, 'linerent': 3381, 'callnumberoptoutlfnumb': 859, 'tlk': 6373, 'ideal': 2820, 'path': 4647, 'appear': 279, 'front': 2219, 'shot': 5577, 'reserv': 5216, 'thirunelvali': 6305, 'tirunelvali': 6363, 'evei': 1879, 'netno': 3986, 'availablei': 403, 'tackl': 6131, 'storm': 5966, 'phne': 4718, 'wt': 7091, 'margaret': 3597, 'girlfrnd': 2331, 'grahmbel': 2424, 'invnt': 2945, 'telphon': 6206, 'moralon': 3833, 'numberget': 4178, 'tonght': 6426, 'plough': 4783, 'pile': 4744, 'chinki': 1041, 'wi': 6950, 'nz': 4400, 'unsold': 6629, 'geelat': 2292, 'aust': 394, 'bk': 614, 'cafe': 834, 'recharg': 5138, 'papa': 4607, 'shld': 5559, 'stretch': 5978, 'sinco': 5624, 'paye': 4658, 'icicibankcom': 2813, 'urn': 6668, 'bewar': 583, 'fraud': 2171, 'share': 5527, 'disclos': 1568, 'vote': 6782, 'loser': 3455, 'kaiez': 3122, 'tuition': 6528, 'gee': 2289, 'option': 4511, 'beta': 576, 'practic': 4880, 'kkani': 3197, 'noncomitt': 4063, 'beneath': 565, 'pale': 4593, 'goodnit': 2395, 'numberpmsgrcvdhgsuitenumbernumberlandsrowwnumberjnumberhl': 4289, 'snicker': 5724, 'total': 6455, 'chord': 1051, 'nofew': 4048, 'beforew': 544, 'rem': 5185, 'silver': 5615, 'lmao': 3408, 'silenc': 5612, 'wwwldewcom': 7117, 'winnumberppmxnumberagenumb': 6977, 'revis': 5246, 'boyf': 710, 'interviw': 2934, 'exet': 1920, 'worriedx': 7057, 'spreadsheet': 5868, 'whose': 6948, 'determin': 1501, 'entir': 1829, 'arsen': 331, 'dartboard': 1388, 'trebl': 6491, 'coat': 1114, 'everybodi': 1885, 'alon': 181, 'intrepid': 2937, 'duo': 1712, 'sen': 5468, 'missin': 3755, 'guilti': 2491, 'aiya': 143, 'cardiff': 900, 'addi': 66, 'tue': 6525, 'breez': 736, 'bright': 742, 'fresh': 2195, 'twitter': 6548, 'yago': 7176, 'restaur': 5229, 'textpod': 6241, 'pod': 4810, 'wwwtextpodnet': 7143, 'duck': 1701, 'chinchilla': 1039, 'function': 2236, 'headstart': 2579, 'desper': 1494, 'earlierw': 1726, 'rummer': 5328, 'fli': 2096, 'monkey': 3820, 'certainli': 957, 'optin': 4510, 'bbc': 501, 'thanksnumb': 6250, 'rajini': 5073, 'stupidit': 6009, 'helpnumb': 2611, 'spi': 5831, 'clair': 1073, 'numbernit': 4242, 'bought': 693, 'yalru': 7180, 'lyfu': 3528, 'astn': 360, 'innu': 2906, 'mundh': 3892, 'lyf': 3527, 'ali': 167, 'halla': 2525, 'ke': 3152, 'bilo': 600, 'marriageprogram': 3606, 'edha': 1748, 'ovr': 4567, 'chikkuali': 1021, 'vargu': 6706, 'meow': 3685, 'meowd': 3686, 'twelv': 6541, 'aah': 1, 'numberxxxxxxxxx': 4375, 'prone': 4982, 'wordcollect': 7041, 'tcllc': 6179, 'nyusa': 4399, 'numberpmt': 4290, 'msgrcvdnumber': 3863, 'luci': 3504, 'hubbi': 2763, 'cumin': 1329, 'numberminmobsmorelkpoboxnumberhpnumberfl': 4219, 'natur': 3945, 'dose': 1642, 'tablet': 6130, 'incomm': 2869, 'blake': 621, 'waitshould': 6806, 'lotr': 3460, 'googl': 2401, 'browsin': 767, 'compulsori': 1179, 'puriti': 5022, 'messageit': 3696, 'musthu': 3901, 'investig': 2943, 'wwwnumberbiz': 7123, 'vomit': 6780, 'moneya': 3817, 'youmoney': 7243, 'thinghow': 6300, 'sha': 5510, 'vitamin': 6767, 'centr': 952, 'crucial': 1306, 'jsco': 3097, 'numberchannel': 4146, 'leadership': 3314, 'skill': 5650, 'psychic': 5003, 'wquestion': 7073, 'hostbas': 2730, 'idp': 2825, 'linux': 3386, 'dawhat': 1398, 'convert': 1222, 'along': 182, 'karaok': 3140, 'sayi': 5400, 'except': 1913, 'nit': 4033, 'petei': 4704, 'leannewhat': 3317, 'eight': 1772, 'format': 2149, 'disc': 1567, 'internet': 2931, 'champ': 964, 'glasgow': 2340, 'kall': 3128, 'bestcongrat': 572, 'lovin': 3479, 'arriv': 329, 'shortli': 5576, 'brows': 765, 'artist': 334, 'corect': 1235, 'spele': 5827, 'sarcasm': 5378, 'forum': 2154, 'ron': 5293, 'hict': 2639, 'employe': 1804, 'nike': 4023, 'sooo': 5781, 'dang': 1376, 'unfortun': 6607, 'airport': 141, 'numberi': 4193, 'auction': 385, 'rowwnumberjhl': 5303, 'difficult': 1537, 'earliest': 1727, 'nordstrom': 4075, 'konw': 3230, 'waht': 6802, 'rael': 5064, 'gving': 2499, 'yuo': 7267, 'exmpel': 1924, 'jsut': 3100, 'ese': 1857, 'tih': 6347, 'evrey': 1903, 'splle': 5850, 'wrnog': 7085, 'sitll': 5639, 'ra': 5059, 'wihtuot': 6961, 'ayn': 426, 'mitsak': 3766, 'sleepsweet': 5673, 'confer': 1193, 'wwworangecoukow': 7126, 'degre': 1457, 'financ': 2055, 'prospect': 4991, 'bleak': 626, 'shant': 5525, 'jia': 3063, 'bishan': 610, 'nearer': 3957, 'sux': 6087, 'raiden': 5067, 'buff': 788, 'south': 5802, 'prefer': 4898, 'kegger': 3155, 'tote': 6456, 'pierr': 4740, 'cardin': 901, 'rhythm': 5252, 'establish': 1864, 'truro': 6511, 'ext': 1942, 'gang': 2263, 'adventur': 86, 'worryus': 7059, 'cloth': 1097, 'packalso': 4584, 'sunroof': 6056, 'excel': 1912, 'wifi': 6960, 'blank': 623, 'noi': 4050, 'rumour': 5329, 'kalainar': 3126, 'officethenampet': 4426, 'nosi': 4083, 'idk': 2824, 'react': 5109, 'freak': 2172, 'satan': 5385, 'impost': 2859, 'mene': 3678, 'priceso': 4929, 'itmay': 2986, 'destini': 1498, 'companion': 1163, 'chef': 1002, 'organ': 4523, 'boyfriend': 711, 'sympathet': 6122, 'athlet': 367, 'courag': 1262, 'psychologist': 5004, 'pest': 4702, 'extermin': 1943, 'psychiatrist': 5002, 'healer': 2581, 'stylist': 6012, 'driver': 1679, 'aaniy': 2, 'pudunga': 5012, 'venaam': 6723, 'brotha': 761, 'chase': 980, 'chez': 1013, 'jule': 3105, 'hhahhaahahah': 2637, 'nig': 4012, 'leonardo': 3339, 'ltnumber': 3499, 'john': 3075, 'strain': 5969, 'dime': 1544, 'withdraw': 6989, 'anyhow': 255, 'smeon': 5702, 'miller': 3724, 'fire': 2068, 'spark': 5814, 'flame': 2088, 'rawr': 5097, 'xoxo': 7159, 'somewhr': 5766, 'crush': 1310, 'honeymoon': 2711, 'outfit': 4549, 'propos': 4989, 'blame': 622, 'chequ': 1006, 'olymp': 4466, 'leo': 3337, 'kthen': 3239, 'donew': 1631, 'haul': 2563, 'wildlif': 6966, 'wantnumbercom': 6827, 'thatnumberworzel': 6264, 'wizzl': 6997, 'dippeditinadew': 1555, 'lovingli': 3480, 'itwhichturnedinto': 2995, 'tomeandsaidthi': 6412, 'shanghai': 5523, 'instead': 2921, 'cya': 1351, 'freez': 2191, 'rtking': 5315, 'pro': 4949, 'redeem': 5150, 'wwwringtonekingcouk': 7129, 'thnx': 6312, 'sef': 5455, 'anji': 233, 'batch': 491, 'fring': 2207, 'flaki': 2087, 'sooooo': 5783, 'tooo': 6436, 'nte': 4118, 'doesn': 1604, 'wate': 6845, 'british': 752, 'london': 3435, 'bx': 824, 'swnumberss': 6114, 'anim': 232, 'buzz': 821, 'ador': 79, 'eeri': 1757, 'titl': 6366, 'dracula': 1659, 'ghost': 2320, 'addamsfa': 65, 'munster': 3893, 'exorcist': 1926, 'twilight': 6545, 'brought': 763, 'shini': 5548, 'constant': 1210, 'wasnt': 6838, 'french': 2193, 'numberadollarnetwork': 4130, 'allow': 179, 'respons': 5227, 'supplier': 6068, 'comedyc': 1147, 'freemsgfeelin': 2184, 'lnli': 3410, 'jst': 3098, 'mobi': 3792, 'pictxt': 4737, 'msgnumberp': 3862, 'numberrcv': 4311, 'hlp': 2667, 'keen': 3153, 'switch': 6112, 'dammit': 1368, 'wright': 7077, 'somewhat': 5763, 'event': 1881, 'laden': 3256, 'wreck': 7075, 'spontan': 5857, 'goodeven': 2387, 'bagi': 449, 'lei': 3332, 'action': 56, 'wwwmovietriviatv': 7121, 'sif': 5604, 'partnership': 4634, 'rgent': 5249, 'lookin': 3444, 'daytim': 1410, 'busti': 812, 'janinexx': 3028, 'mostli': 3839, 'insid': 2915, 'spageddi': 5809, 'phase': 4712, 'fourth': 2159, 'dimens': 1545, 'yesbut': 7204, 'meaning': 3643, 'compromis': 1178, 'lmaonic': 3409, 'anumb': 253, 'monthli': 3827, 'mobsicom': 3798, 'dub': 1698, 'je': 3042, 'toughest': 6459, 'sight': 5606, 'remain': 5186, 'maintain': 3567, 'shja': 5558, 'squat': 5877, 'cramp': 1278, 'numbermi': 4214, 'ringtoneget': 5267, 'freesend': 2190, 'weekstop': 6883, 'smsnumber': 5713, 'nan': 3930, 'sonathaya': 5769, 'soladha': 5746, 'rape': 5090, 'poker': 4815, 'weightloss': 6887, 'mushi': 3897, 'embarrass': 1797, 'stash': 5912, 'ran': 5082, 'priya': 4944, 'father': 1997, 'messi': 3704, 'kilo': 3181, 'accid': 34, 'tookplac': 6433, 'ghodbandar': 2319, 'rd': 5106, 'traffic': 6471, 'slove': 5686, 'slip': 5679, 'ahnow': 130, 'wkg': 7001, 'wherebtw': 6935, 'nu': 4122, 'sc': 5403, 'specialis': 5821, 'wad': 6794, 'dislik': 1575, 'queen': 5045, 'despar': 1493, 'gotten': 2413, 'stereo': 5928, 'mi': 3711, 'unknown': 6619, 'album': 155, 'vu': 6791, 'bcmnumberwcnumbernnumberxx': 512, 'classmat': 1079, 'firesar': 2071, 'prebook': 4896, 'trackmarqu': 6468, 'missionari': 3757, 'hook': 2717, 'entertain': 1827, 'hugh': 2767, 'lauri': 3302, 'stick': 5938, 'inde': 2877, 'prap': 4887, 'jon': 3086, 'bin': 602, 'spain': 5810, 'dinero': 1548, 'åôrent': 7290, 'jame': 3020, 'hunnywot': 2782, 'bedroomlov': 535, 'maangalyam': 3534, 'alaipayuth': 153, 'complain': 1169, 'mandi': 3583, 'sullivan': 6041, 'hotmix': 2735, 'fmyou': 2116, 'chosen': 1053, 'easter': 1737, 'drawpleas': 1665, 'telephon': 6201, 'finn': 2067, 'bahama': 450, 'callfreefon': 851, 'cruis': 1308, 'ofå': 4435, 'calm': 869, 'downon': 1654, 'theacus': 6267, 'itxt': 2996, 'iwana': 3002, 'wotu': 7065, 'doin': 1613, 'thewend': 6292, 'haventcn': 2568, 'agesr': 117, 'upnumb': 6647, 'neth': 3985, 'satlov': 5389, 'conact': 1184, 'youto': 7252, 'poboxnumbernnumbertfnumb': 4798, 'iåõm': 3008, 'vtire': 6790, 'social': 5739, 'inspect': 2916, 'nurseri': 4385, 'detailsi': 1500, 'youmi': 7242, 'slowli': 5689, 'habit': 2507, 'itmail': 2985, 'panren': 4601, 'paru': 4635, 'chuckin': 1060, 'trainner': 6473, 'carryin': 918, 'bac': 439, 'schedul': 5412, 'gooddhanush': 2385, 'stuck': 5995, 'chikkusimpl': 1027, 'habbahw': 2506, 'dileepthank': 1543, 'muchand': 3876, 'supportveri': 6071, 'hererememb': 2619, 'venugop': 6724, 'mentionedtomorrow': 3681, 'latei': 3294, 'theregoodnight': 6284, 'everytim': 1893, 'mandan': 3581, 'ibh': 2802, 'txtauctiontxt': 6552, 'wordstart': 7044, 'nownumbert': 4104, 'textbook': 6235, 'algorithm': 166, 'edit': 1750, 'bun': 797, 'invad': 2940, 'orig': 4526, 'arcad': 302, 'consol': 1209, 'onumbercoukgam': 4488, 'cronumb': 1301, 'atlanta': 369, 'creat': 1286, 'yessura': 7212, 'tvlol': 6539, 'arun': 336, 'transfr': 6480, 'takin': 6146, 'philosophi': 4717, 'numberui': 4347, 'didnåõt': 1529, 'intend': 2925, 'iwasmarinethatåõ': 3003, 'itriednumbertel': 2991, 'urmomi': 6667, 'careabout': 903, 'foley': 2120, 'wwwwinnumbercouk': 7148, 'fake': 1970, 'iraq': 2956, 'afghanistan': 99, 'stabl': 5891, 'honest': 2705, 'blessget': 629, 'numberaward': 4137, 'pai': 4587, 'seh': 5456, 'beer': 539, 'combin': 1144, 'walsal': 6819, 'terri': 6223, 'jess': 3056, 'sian': 5598, 'ccna': 940, 'shrek': 5589, 'numberdb': 4161, 'dirti': 1560, 'fellow': 2024, 'teresa': 6219, 'packag': 4583, 'dec': 1435, 'yould': 7240, 'bam': 460, 'usml': 6681, 'squishi': 5881, 'mwah': 3907, 'hottest': 2736, 'gnumberga': 2353, 'promin': 4976, 'cheek': 996, 'septemb': 5485, 'husband': 2788, 'hack': 2508, 'backdoor': 442, 'fraction': 2165, 'neonumb': 3979, 'dp': 1657, 'bcm': 510, 'norm': 4076, 'list': 3393, 'joanna': 3070, 'comingdown': 1153, 'dagood': 1362, 'replac': 5202, 'murali': 3894, 'playerwhi': 4772, 'engalnd': 1816, 'telli': 6204, 'mia': 3712, 'elliot': 1788, 'upto': 6653, 'numbernumberpric': 4263, 'xnet': 7156, 'minsnumbertxtmth': 3739, 'btooth': 779, 'numberoptoutdnumberwv': 4276, 'wiproy': 6980, 'matric': 3622, 'toa': 6383, 'payoh': 4660, 'btnationalr': 778, 'payment': 4659, 'fedex': 2016, 'kyou': 3247, 'recept': 5136, 'godi': 2360, 'youclean': 7233, 'bloodsend': 640, 'itplspl': 2990, 'hate': 2561, 'consensu': 1204, 'tag': 6136, 'wednesday': 6875, 'laundri': 3301, 'underwear': 6601, 'bra': 715, 'strewn': 5979, 'pillow': 4745, 'wahe': 6799, 'fathima': 1998, 'mmmm': 3776, 'push': 5026, 'knee': 3214, 'expos': 1940, 'pull': 5013, 'wick': 6951, 'sh': 5509, 'readyal': 5114, 'srt': 5885, 'thnk': 6310, 'psnumber': 5000, 'jontin': 3088, 'prizeto': 4948, 'nearli': 3958, 'ban': 462, 'pen': 4672, 'beyond': 584, 'biro': 606, 'master': 3613, 'unhappi': 6609, 'excus': 1916, 'jog': 3074, 'numberxxxxxxx': 4374, 'abta': 24, 'season': 5437, 'lark': 3288, 'extrem': 1946, 'sic': 5600, 'numbernumbermp': 4253, 'videop': 6739, 'wild': 6964, 'numberprcvd': 4300, 'stopnumberstop': 5959, 'uh': 6572, 'lim': 3375, 'vday': 6715, 'parachut': 4611, 'therer': 6286, 'tabl': 6129, 'lambda': 3265, 'snowman': 5731, 'angel': 230, 'snowbal': 5729, 'ello': 1789, 'ikea': 2834, 'ofic': 4431, 'cn': 1107, 'oficegot': 4432, 'duffer': 1705, 'grr': 2469, 'prescript': 4909, 'pharmaci': 4711, 'cook': 1226, 'electr': 1785, 'rpl': 5306, 'cnl': 1108, 'fffff': 2031, 'kadeem': 3120, 'fujitsu': 2229, 'lifebook': 3359, 'scold': 5415, 'zhong': 7278, 'se': 5434, 'qing': 5040, 'accordingli': 40, 'hypertens': 2798, 'mineal': 3733, 'wud': 7096, 'annoyin': 241, 'prompt': 4980, 'vpod': 6786, 'carri': 917, 'avatar': 406, 'nigro': 4022, 'anyplac': 258, 'upset': 6649, 'prioriti': 4939, 'constantli': 1211, 'ecstasi': 1746, 'aå': 428, 'minapn': 3729, 'lsnumberbb': 3489, 'hittng': 2662, 'reflex': 5161, 'costa': 1246, 'sol': 5745, 'toclaim': 6388, 'stockport': 5947, 'costå': 1248, 'maxnumbermin': 3631, 'kkwhi': 3210, 'lousi': 3469, 'cat': 931, 'woken': 7024, 'hip': 2652, 'adewal': 70, 'aka': 149, 'egbon': 1763, 'minstand': 3740, 'ic': 2809, 'mari': 3599, 'deduct': 1445, 'wrk': 7080, 'asshol': 354, 'grab': 2421, 'payback': 4657, 'honeybe': 2709, 'sweetest': 6103, 'waitu': 6807, 'havnt': 2571, 'moral': 3831, 'crack': 1275, 'gmgngegn': 2348, 'tesco': 6227, 'featheri': 2011, 'bowa': 698, 'infra': 2895, 'nvm': 4391, 'gep': 2307, 'delhi': 1462, 'thinkin': 6302, 'fifa': 2040, 'held': 2600, 'boat': 657, 'shhhhh': 5540, 'relat': 5176, 'arul': 335, 'amk': 206, 'length': 3335, 'distract': 1580, 'santha': 5372, 'corrct': 1238, 'dane': 1375, 'basket': 487, 'proof': 4983, 'rupaul': 5332, 'helpnumberp': 2612, 'provid': 4994, 'tonesnumberyoucouk': 6423, 'practis': 4882, 'curtsey': 1337, 'yeh': 7196, 'memori': 3676, 'mon': 3812, 'themobyo': 6275, 'yoher': 7227, 'ssindia': 5887, 'african': 102, 'soil': 5743, 'major': 3568, 'role': 5288, 'outreach': 4556, 'mel': 3666, 'birth': 607, 'numberlb': 4202, 'numberoz': 4278, 'brilliantli': 745, 'intent': 2926, 'visitor': 6765, 'rule': 5325, 'bend': 564, 'thia': 6297, 'inlud': 2901, 'preview': 4924, 'freefon': 2178, 'ambrithmaduraimet': 202, 'dha': 1511, 'marrgeremembr': 3603, 'kitti': 3194, 'shave': 5529, 'onward': 4490, 'tact': 6133, 'skillgamenumberwinaweek': 5652, 'agenumbernumberppermesssubscript': 116, 'theatr': 6269, 'obvious': 4409, 'eggspert': 1766, 'potato': 4861, 'cram': 1277, 'satsgettin': 5390, 'apolog': 273, 'admit': 77, 'pei': 4671, 'boost': 678, 'subtoitl': 6024, 'jot': 3092, 'storelik': 5964, 'cereal': 955, 'gari': 2268, 'infern': 2889, 'affair': 93, 'boldnumb': 664, 'calicut': 841, 'cast': 928, 'aom': 266, 'gbpnumbermonth': 2281, 'boxnumbermnumb': 703, 'thkin': 6308, 'parco': 4618, 'nb': 3951, 'resub': 5234, 'shadow': 5512, 'breadstick': 728, 'ahmad': 129, 'saeed': 5344, 'hallaq': 2526, 'boxnumbernnumberqp': 704, 'redim': 5151, 'blueu': 649, 'purpleu': 5023, 'pinku': 4750, 'orangei': 4516, 'lyk': 3529, 'greeni': 2449, 'yelowi': 7199, 'bck': 509, 'blackim': 618, 'giv': 2334, 'color': 1139, 'eldest': 1783, 'drugdeal': 1688, 'gender': 2295, 'wither': 6990, 'egnumberf': 1767, 'egnumberg': 1768, 'sleepwellamptak': 5674, 'wondarful': 7029, 'messagestext': 3701, 'nowus': 4114, 'webnumbermobil': 6868, 'txtnumbercom': 6557, 'numbernumberpwk': 4264, 'lanumberwu': 3279, 'txtx': 6558, 'hunonbu': 2783, 'donyt': 1636, 'homebut': 2698, 'latelyxxx': 3295, 'freeringtonerepli': 2189, 'mca': 3638, 'rich': 5254, 'flag': 2085, 'yer': 7203, 'eng': 1814, 'wnumberwx': 7019, 'yor': 7228, 'ownyouv': 4574, 'skalli': 5647, 'jason': 3033, 'soooo': 5782, 'tming': 6375, 'cutest': 1346, 'dice': 1521, 'art': 332, 'inclus': 2868, 'ipnumb': 2953, 'numberw': 4355, 'howda': 2745, 'samachara': 5362, 'audri': 390, 'autocorrect': 398, 'simul': 5622, 'armand': 318, 'andor': 226, 'rub': 5319, 'feet': 2022, 'lara': 3284, 'clever': 1086, 'med': 3652, 'bray': 724, 'wicklow': 6953, 'eir': 1775, 'washob': 6836, 'nob': 4043, 'nickey': 4010, 'platt': 4769, 'ryan': 5335, 'vikki': 6747, 'wwwidewcom': 7116, 'skillgam': 5651, 'numberwinaweek': 4361, 'numberppermesssubscript': 4295, 'mad': 3545, 'argh': 311, 'spotti': 5865, 'provinc': 4995, 'sterl': 5930, 'problemfre': 4955, 'xam': 7151, 'hall': 2524, 'manag': 3578, 'intha': 2935, 'ponnungal': 4831, 'ipaditan': 2951, 'reject': 5174, 'shitload': 5555, 'diamond': 1519, 'tessypl': 6228, 'favor': 2005, 'nimyapl': 4027, 'shija': 5543, 'china': 1037, 'noisi': 4053, 'needa': 3967, 'mcat': 3639, 'sfrom': 5508, 'manual': 3590, 'processit': 4962, 'reset': 5217, 'troubleshoot': 6503, 'bnumberu': 655, 'wc': 6856, 'marsm': 3607, 'wwwbnumberutelecom': 7104, 'strongli': 5989, 'sacrific': 5341, 'creativ': 1287, 'stifl': 5940, 'morphin': 3837, 'requir': 5211, 'stayin': 5918, 'strangersaw': 5972, 'heåõ': 2634, 'nowstil': 4112, 'mrur': 3858, 'numbergetha': 4179, 'buffi': 790, 'pix': 4755, 'qlynnbv': 5041, 'cld': 1081, 'nosh': 4082, 'waaaat': 6793, 'lololo': 3433, 'comei': 1148, 'kindli': 3185, 'document': 1600, 'stapati': 5902, 'mile': 3720, 'cuti': 1347, 'wale': 6809, 'hill': 2647, 'colleagu': 1135, 'sed': 5447, 'mood': 3829, 'latr': 3299, 'caken': 837, 'kidz': 3179, 'sofa': 5740, 'honesti': 2706, 'labor': 3251, 'shakara': 5516, 'beggar': 546, 'smash': 5699, 'dent': 1475, 'crickit': 1296, 'imin': 2848, 'towndontmatt': 6463, 'urgoin': 6664, 'outlnumberr': 4554, 'yavnt': 7185, 'ibuprofen': 2808, 'grown': 2466, 'chinatown': 1038, 'porridg': 4844, 'claypot': 1080, 'yam': 7181, 'fishhead': 2076, 'beehoon': 537, 'tok': 6401, 'specif': 5822, 'jaklin': 3018, 'nearbi': 3956, 'numbernumbermonth': 4251, 'ntwk': 4121, 'bundl': 799, 'avbl': 407, 'callnumberoptoutj': 857, 'mf': 3708, 'ooh': 4492, 'numbergot': 4184, 'moseley': 3838, 'thankyou': 6252, 'pendingi': 4676, 'dayswil': 1408, 'thrurespect': 6332, 'homecheck': 2699, 'affection': 95, 'loveabl': 3473, 'etern': 1867, 'nobl': 4044, 'intim': 2936, 'enam': 1807, 'textin': 6238, 'cousin': 1266, 'rajipl': 5074, 'nimya': 4026, 'leg': 3327, 'neck': 3963, 'amigo': 205, 'progress': 4972, 'continu': 1216, 'holi': 2692, 'werent': 6908, 'arti': 333, 'collag': 1133, 'tryin': 6514, 'billion': 599, 'walik': 6810, 'carton': 920, 'shelv': 5537, 'distanc': 1579, 'mirror': 3746, 'ref': 5155, 'jod': 3073, 'keri': 3163, 'smidgin': 5703, 'collegexx': 1138, 'beliv': 554, 'empti': 1805, 'slot': 5685, 'accordin': 39, 'knock': 3217, 'sicomo': 5602, 'nolistenednumberth': 4061, 'plaid': 4762, 'albumquit': 156, 'gdthe': 2287, 'airnumb': 140, 'hilariousalso': 2646, 'boughtåóbraindanceåóa': 694, 'compofstuff': 1176, 'aphexåõ': 270, 'abel': 10, 'nelson': 3978, 'temp': 6210, 'unmit': 6623, 'display': 1578, 'newspap': 4001, 'soup': 5800, 'yummmm': 7264, 'puzzel': 5031, 'numbergoten': 4185, 'scammer': 5405, 'smartthough': 5698, 'regular': 5173, 'prem': 4899, 'msgsubscript': 3866, 'numbermorro': 4229, 'dena': 1472, 'rnumber': 5276, 'threat': 6323, 'shifad': 5542, 'complaint': 1170, 'numbergodid': 4183, 'loung': 3468, 'lk': 3404, 'lov': 3470, 'splashmobil': 5846, 'subscrit': 6022, 'dust': 1716, 'unumb': 6634, 'numberc': 4143, 'numberend': 4164, 'numberfre': 4171, 'numberpound': 4294, 'watchin': 6843, 'meaningless': 3644, 'all': 172, 'brdget': 726, 'jone': 3087, 'inev': 2886, 'hmmbad': 2671, 'newshyp': 4000, 'studio': 6000, 'takenonli': 6145, 'bedrmdollarnumb': 533, 'unabl': 6588, 'velli': 6721, 'wkend': 6999, 'journey': 3093, 'huge': 2766, 'updnumb': 6641, 'numberstoptx': 4330, 'anni': 236, 'numberhi': 4188, 'mailbox': 3564, 'retriev': 5240, 'vai': 6697, 'hrishi': 2755, 'nothin': 4088, 'hanger': 2536, 'poem': 4811, 'tear': 6189, 'thatll': 6261, 'quizwin': 5056, 'duchess': 1700, 'cornwal': 1236, 'numberunsub': 4350, 'sp': 5806, 'arrow': 330, 'thedailydraw': 6270, 'dozen': 1656, 'prizeswith': 4947, 'waqt': 6830, 'pehl': 4670, 'naseeb': 3936, 'zyada': 7284, 'kisi': 3191, 'ko': 3226, 'kuch': 3242, 'nahi': 3921, 'miltazindgi': 3726, 'wo': 7020, 'hum': 2771, 'socht': 5738, 'zindgi': 7279, 'jeetey': 3045, 'wors': 7060, 'dan': 1370, 'varaya': 6705, 'elaya': 1782, 'numbernnumberqp': 4244, 'anand': 224, 'beach': 519, 'aww': 421, 'deadwel': 1416, 'jez': 3061, 'iscom': 2964, 'todo': 6396, 'workand': 7047, 'whilltak': 6941, 'zogtoriu': 7281, 'iåõv': 3009, 'stare': 5904, 'whether': 6939, 'financi': 2056, 'problemi': 4956, 'alian': 168, 'freenokia': 2185, 'ornumberoptouthvnumberd': 4529, 'posibl': 4850, 'centuri': 953, 'cm': 1104, 'frwd': 2222, 'unnecessarili': 6624, 'restrict': 5231, 'buddi': 785, 'possess': 4852, 'nohe': 4049, 'clarif': 1074, 'spook': 5858, 'halloween': 2527, 'logop': 3428, 'issu': 2972, 'regret': 5172, 'footbal': 2130, 'sky': 5660, 'gamestar': 2260, 'nowski': 4111, 'coimbator': 1126, 'monoc': 3824, 'polyc': 4822, 'stream': 5973, 'categori': 933, 'measur': 3648, 'ethnic': 1868, 'censu': 950, 'transcrib': 6477, 'propsd': 4990, 'gv': 2498, 'lv': 3525, 'lttr': 3501, 'threw': 6325, 'thm': 6309, 'aproach': 295, 'dt': 1696, 'truck': 6506, 'wn': 7009, 'girld': 2330, 'hw': 2794, 'instantli': 2920, 'thi': 6296, 'happili': 2547, 'numbergthr': 4186, 'evrydi': 1905, 'msgsd': 3864, 'paragon': 4613, 'bluff': 650, 'imposs': 2858, 'goodmat': 2391, 'sari': 5380, 'asusualnumb': 365, 'franyxxxxx': 2170, 'batt': 496, 'wwwfullonsmscom': 7113, 'gn': 2350, 'pussi': 5028, 'becausethey': 527, 'wnumberrg': 7016, 'messageno': 3697, 'responcewhat': 5225, 'happend': 2542, 'wiskey': 6987, 'brandi': 721, 'rum': 5326, 'gin': 2328, 'vodka': 6775, 'scotch': 5418, 'shampain': 5521, 'kudiyarasu': 3243, 'dhina': 1512, 'vaazhthukk': 6695, 'gain': 2252, 'kg': 3169, 'sugar': 6036, 'pressur': 4917, 'limit': 3376, 'dumb': 1707, 'thangam': 6246, 'okey': 4450, 'doke': 1618, 'dress': 1672, 'neshanthtel': 3981, 'byatch': 827, 'whassup': 6921, 'kay': 3147, 'roger': 5287, 'cl': 1069, 'nasti': 3937, 'filthyguy': 2052, 'slo': 5682, 'slonumbermsg': 5684, 'chiong': 1042, 'christ': 1054, 'dialogu': 1518, 'reltnship': 5184, 'solv': 5749, 'polic': 4819, 'numberpolic': 4293, 'numberwif': 4360, 'siri': 5633, 'numbercook': 4152, 'numbergarden': 4175, 'veget': 6717, 'numberhousemaid': 4191, 'numberchildren': 4148, 'numberneighbour': 4239, 'brilliant': 744, 'pose': 4848, 'comb': 1143, 'dryer': 1694, 'fp': 2163, 'scienc': 5414, 'madamregret': 3547, 'disturbancemight': 1582, 'dlf': 1592, 'premaricakindli': 4900, 'informedrgdsrakheshkerala': 2893, 'gotto': 2414, 'comuknumbercmnumb': 1182, 'err': 1847, 'bloo': 636, 'kbut': 3150, 'hitteranyway': 2661, 'offlin': 4430, 'anjola': 234, 'ithi': 2979, 'wwwasjesuscom': 7103, 'wrote': 7089, 'swiss': 6111, 'director': 1558, 'lac': 3252, 'crore': 1302, 'taxless': 6172, 'budget': 786, 'lane': 3273, 'supli': 6065, 'citizen': 1067, 'imf': 2847, 'block': 632, 'politician': 4820, 'corrupt': 1242, 'itna': 2987, 'karo': 3142, 'pura': 5019, 'padhegm': 4585, 'torrent': 6448, 'particularli': 4632, 'commit': 1158, 'random': 5084, 'wwwmusictrivianet': 7122, 'rightio': 5259, 'brum': 769, 'donno': 1632, 'scorabl': 5416, 'paranoid': 4615, 'brin': 747, 'properli': 4987, 'kgive': 3170, 'onlybettr': 4481, 'bsnl': 773, 'offc': 4419, 'suganya': 6035, 'dessert': 1496, 'abeg': 9, 'sponsor': 5856, 'onum': 4486, 'candont': 884, 'poet': 4812, 'imaginationmi': 2845, 'carso': 919, 'rr': 5309, 'famamu': 1977, 'pongaldo': 4830, 'sri': 5883, 'furnitur': 2243, 'lock': 3421, 'jenn': 3049, 'easiest': 1733, 'barcelona': 476, 'ru': 5318, 'sppok': 5867, 'complementari': 1171, 'wanumb': 6828, 'numberpx': 4308, 'sender': 5470, 'kdo': 3151, 'daurgent': 1396, 'pansi': 4602, 'jungl': 3112, 'kanji': 3134, 'drinkpa': 1677, 'sr': 5882, 'drizzl': 1681, 'shove': 5583, 'drama': 1660, 'plsi': 4784, 'struggl': 5992, 'strang': 5970, 'placeno': 4761, 'ego': 1769, 'necess': 3960, 'gowait': 2417, 'reppurcuss': 5207, 'releas': 5179, 'cosign': 1244, 'hvae': 2793, 'aclnumberpm': 49, 'hcl': 2572, 'fresher': 2196, 'processexcel': 4961, 'neededsalari': 3968, 'mssuman': 3869, 'indyarockscom': 2885, 'resum': 5237, 'datoday': 1395, 'restuwud': 5232, 'reliant': 5180, 'fwiw': 2247, 'afford': 98, 'kanowhr': 3138, 'maga': 3555, 'sqnumber': 5876, 'yunni': 7266, 'citylink': 1068, 'er': 1842, 'prop': 4985, 'pleasant': 4778, 'poboxnumbernumbertcrwnumb': 4800, 'bognor': 662, 'splendid': 5848, 'yesim': 7209, 'ktv': 3240, 'misplac': 3751, 'mmmmm': 3777, 'medicin': 3654, 'begun': 548, 'registr': 5171, 'perman': 4691, 'resid': 5218, 'plenti': 4781, 'rel': 5175, 'risk': 5272, 'benefit': 567, 'amount': 212, 'hmmmhow': 2674, 'accumul': 43, 'program': 4971, 'belong': 559, 'herwho': 2628, 'fate': 1996, 'shoranur': 5569, 'incid': 2865, 'fuell': 2228, 'prior': 4938, 'grief': 2451, 'violenc': 6755, 'goodenviron': 2386, 'terrif': 6225, 'textnumb': 6239, 'honestli': 2707, 'promptli': 4981, 'burnt': 806, 'advic': 87, 'snap': 5719, 'quizclub': 5055, 'sprwm': 5872, 'phnumber': 4719, 'gmw': 2349, 'someplac': 5756, 'pressi': 4916, 'dr': 1658, 'superior': 6063, 'ultim': 6581, 'tor': 6446, 'motiv': 3843, 'tui': 6527, 'achiev': 46, 'korli': 3233, 'dock': 1598, 'roll': 5289, 'newscast': 3999, 'dabbl': 1357, 'flute': 2112, 'behind': 551, 'wheel': 6926, 'bxnumber': 825, 'amaz': 200, 'picsfreenumb': 4735, 'vid': 6736, 'keyword': 3167, 'ruin': 5324, 'erm': 1845, 'thenumberth': 6277, 'octob': 4415, 'elabor': 1779, 'safeti': 5346, 'aspect': 351, 'tarot': 6161, 'depart': 1478, 'oursso': 4544, 'youani': 7231, 'hr': 2754, 'conform': 1199, 'horniest': 2725, 'instruct': 2922, 'ovarian': 4560, 'cyst': 1353, 'bc': 507, 'shrink': 5590, 'onit': 4477, 'timin': 6359, 'ape': 268, 'death': 1433, 'ibm': 2805, 'hp': 2751, 'toshiba': 6452, 'gosh': 2404, 'spose': 5863, 'usualiam': 6686, 'rimac': 5262, 'arestaur': 308, 'squid': 5880, 'dosometh': 1643, 'ucal': 6566, 'wrki': 7081, 'dabook': 1358, 'nitenumb': 4035, 'eachoth': 1722, 'luckili': 3507, 'madam': 3546, 'wwwtklscom': 7144, 'stoptxtstopå': 5962, 'numbernumberweek': 4267, 'innoc': 2905, 'mental': 3679, 'smoothli': 5710, 'challeng': 963, 'numbermarrow': 4211, 'hon': 2704, 'ppledollarnumb': 4872, 'nightsexcel': 4019, 'breakfast': 731, 'hamper': 2529, 'ccnumberpmin': 941, 'realiti': 5118, 'daal': 1355, 'numbernumberwk': 4268, 'unni': 6625, 'rechargerakhesh': 5139, 'lack': 3253, 'particular': 4631, 'dramastorm': 1661, 'forfeit': 2139, 'digi': 1540, 'fab': 1953, 'coupla': 1261, 'numberxxx': 4372, 'sundayish': 6051, 'prasad': 4888, 'tiwari': 6368, 'rcbbattl': 5101, 'bang': 465, 'kochi': 3227, 'cancer': 883, 'checkup': 995, 'pap': 4606, 'smear': 5700, 'gobi': 2358, 'pandi': 4598, 'technolog': 6193, 'todayh': 6394, 'olowoyey': 4465, 'uscedu': 6673, 'argentina': 310, 'secretari': 5443, 'taxt': 6173, 'massagetiepo': 3611, 'lool': 3445, 'shake': 5517, 'booti': 679, 'timeslil': 6355, 'busyi': 813, 'scarcasim': 5406, 'naal': 3916, 'eruku': 1850, 'chikkuwat': 1028, 'wnumber': 7012, 'numberwq': 4366, 'bro': 754, 'amongst': 210, 'sensibl': 5476, 'when': 6928, 'numberlp': 4207, 'numbernumbermsg': 4254, 'alsoor': 191, 'danalla': 1371, 'obedi': 4403, 'ft': 2223, 'needi': 3969, 'pout': 4867, 'stomp': 5950, 'northampton': 4080, 'abj': 15, 'serv': 5490, 'playng': 4775, 'numbermcflyal': 4213, 'ab': 6, 'sara': 5376, 'jorgeshock': 3091, 'smithswitch': 5707, 'anna': 235, 'nagar': 3919, 'yupz': 7270, 'modelsoni': 3802, 'ericson': 1843, 'der': 1483, 'luk': 3512, 'modl': 3803, 'cheesi': 1000, 'frosti': 2221, 'witin': 6993, 'numbertxtnumberp': 4344, 'sept': 5484, 'banumbernnfwflynumberppm': 472, 'nudist': 4124, 'theme': 6272, 'pump': 5014, 'petrol': 4707, 'feb': 2013, 'ignor': 2831, 'evr': 1902, 'signal': 5608, 'neither': 3977, 'unusu': 6635, 'hug': 2765, 'snog': 5726, 'west': 6911, 'palm': 4594, 'fastest': 1993, 'state': 5913, 'tariff': 6160, 'numberstoptxt': 4331, 'perpetu': 4693, 'dd': 1413, 'steam': 5923, 'reg': 5168, 'pract': 4879, 'flung': 2110, 'housemaid': 2740, 'public': 5010, 'govtinstituit': 2416, 'closedinclud': 1093, 'officeunderstand': 4427, 'process': 4960, 'justbeen': 3115, 'overa': 4561, 'mush': 3896, 'tund': 6531, 'mission': 3756, 'luxuri': 3524, 'canari': 881, 'numbermnumberaq': 4224, 'ûï': 7298, 'lux': 3523, 'ehnumberrr': 1771, 'sleepi': 5669, 'dare': 1380, 'ben': 563, 'mag': 3554, 'avo': 413, 'middl': 3715, 'chachi': 960, 'tiz': 6370, 'kanagu': 3132, 'brat': 722, 'diwali': 1587, 'tick': 6340, 'nowonion': 4106, 'derp': 1485, 'abus': 26, 'lipo': 3391, 'netflix': 3984, 'thgt': 6295, 'clash': 1076, 'arr': 326, 'oscar': 4534, 'rebtel': 5128, 'firefox': 2069, 'lower': 3484, 'bcmsfwcnumbernnumberxx': 513, 'footi': 2132, 'stadium': 5892, 'larg': 3286, 'cocacola': 1116, 'dark': 1381, 'teenag': 6195, 'telugutht': 6208, 'gudk': 2481, 'mittelschmertz': 3767, 'paracetamol': 4610, 'salespe': 5357, 'cthen': 1317, 'enuff': 1835, 'conclus': 1188, 'cover': 1267, 'atyour': 384, 'ûªv': 7297, 'instant': 2919, 'rugbi': 5323, 'affidavit': 97, 'twigg': 6544, 'divis': 1585, 'courtroom': 1265, 'creep': 1290, 'freemsgfav': 2183, 'tonesrepli': 6424, 'lil': 3373, 'golden': 2372, 'breathenumb': 734, 'crazyin': 1284, 'sleepingwith': 5672, 'finest': 2061, 'ymca': 7222, 'getzedcouk': 2317, 'poboxnumberonumberwnumberwq': 4801, 'wtc': 7092, 'weiyi': 6892, 'properti': 4988, 'interflora': 2928, 'åòit': 7288, 'godtaken': 2362, 'teethi': 6197, 'romcapspam': 5292, 'presenc': 4910, 'outgo': 4551, 'maggi': 3557, 'mee': 3656, 'cough': 1251, 'com': 1142, 'bbdpooja': 503, 'pimpleseven': 4747, 'blackand': 616, 'sweatter': 6101, 'nicenicehow': 4007, 'ambiti': 201, 'miiiiiiissssssssss': 3718, 'tunji': 6533, 'iz': 3004, 'yellow': 7198, 'misscal': 3753, 'frndz': 2213, 'numbermiss': 4222, 'freemessag': 2181, 'jamsterget': 3023, 'frog': 2216, 'madnumb': 3549, 'gbpweek': 2284, 'wipro': 6979, 'tall': 6151, 'doubt': 1649, 'handl': 2532, 'note': 4084, 'aveng': 409, 'japanes': 3032, 'proverb': 4993, 'itu': 2994, 'itleav': 2982, 'strike': 5981, 'toss': 6453, 'gudninumb': 2482, 'dancin': 1374, 'explicitli': 1938, 'nora': 4073, 'smith': 5706, 'gayl': 2276, 'crucifi': 1307, 'but': 814, 'freedom': 2176, 'vs': 6788, 'cedar': 944, 'twenti': 6542, 'durham': 1714, 'seat': 5438, 'porn': 4843, 'stopbcm': 5955, 'sf': 5505, 'paint': 4592, 'printer': 4937, 'groovi': 2461, 'harish': 2554, 'acnt': 50, 'nowadayslot': 4100, 'showroomsc': 5587, 'shape': 5526, 'doinat': 1614, 'callon': 864, 'low': 3482, 'swatch': 6096, 'kkyesterday': 3211, 'ganesh': 2262, 'pdatenow': 4663, 'callnumberoptoutyhl': 863, 'configur': 1195, 'ûªm': 7295, 'ûªt': 7296, 'anal': 222, 'pear': 4667, 'helloooo': 2607, 'oooooh': 4494, 'thatnow': 6263, 'resubmit': 5235, 'expiri': 1935, 'weåõv': 6920, 'numbergeva': 4180, 'mint': 3742, 'uxxxx': 6694, 'human': 2772, 'studyn': 6001, 'wuld': 7098, 'everyboy': 1886, 'xxxxxxxx': 7172, 'brilliantnumberthingi': 746, 'answr': 248, 'liquor': 3392, 'flake': 2086, 'loko': 3430, 'tm': 6374, 'fireplac': 2070, 'icon': 2815, 'fifth': 2042, 'woozl': 7038, 'machin': 3541, 'sake': 5351, 'my': 3908, 'bruce': 768, 'down': 1652, 'fletcher': 2094, 'cozi': 1270, 'nightnobodi': 4018, 'buzzzz': 822, 'chest': 1010, 'trend': 6494, 'con': 1183, 'brief': 741, 'descript': 1487, 'nuclear': 4123, 'fusion': 2244, 'histori': 2656, 'iter': 2978, 'jet': 3058, 'nonenowher': 4065, 'ikno': 2835, 'doesdiscountshitinnit': 1603, 'jabo': 3010, 'abi': 12, 'slower': 5688, 'maniac': 3588, 'hadya': 2510, 'sapna': 5374, 'maneg': 3585, 'yday': 7190, 'hogidhechinnu': 2684, 'swalpa': 6090, 'agidhan': 118, 'typelyk': 6561, 'footblcrckt': 2131, 'swell': 6106, 'tim': 6351, 'bollox': 665, 'tol': 6404, 'ingredi': 2898, 'poci': 4806, 'bell': 555, 'non': 4062, 'callnumberoptoutnumberqfnumb': 862, 'senor': 5472, 'giggl': 2324, 'personnumberdi': 4698, 'nvq': 4392, 'profession': 4967, 'tiger': 6343, 'wood': 7033, 'reboot': 5127, 'grinder': 2453, 'ptnumber': 5007, 'youkwher': 7239, 'understood': 6600, 'bottom': 692, 'knowh': 3219, 'disconnect': 1569, 'onluy': 4480, 'offcampu': 4420, 'riley': 5261, 'ew': 1907, 'howv': 2749, 'lingo': 3384, 'numberminscal': 4221, 'callnumberoptoutjnumberq': 858, 'medont': 3655, 'lm': 3407, 'hm': 2668, 'numberexit': 4166, 'salon': 5359, 'sankranti': 5370, 'republ': 5209, 'shivratri': 5557, 'ugadi': 6569, 'independ': 2878, 'friendshipmotherfatherteacherschildren': 2206, 'festiv': 2028, 'dasara': 1389, 'rememberi': 5189, 'theseyour': 6289, 'raj': 5071, 'lifei': 3360, 'daywith': 1412, 'somewheresomeon': 5765, 'tosend': 6451, 'selfless': 5462, 'initi': 2899, 'tallent': 6153, 'usc': 6672, 'portal': 4846, 'dontnumbergetnumbertext': 1635, 'lennon': 3336, 'crab': 1274, 'shoreth': 5571, 'wave': 6852, 'footprint': 2133, 'fox': 2162, 'frndsship': 2212, 'dwn': 1720, 'slaaaaav': 5664, 'summon': 6045, 'appendix': 280, 'slob': 5683, 'gudnit': 2483, 'topicsorri': 6443, 'webpag': 6869, 'yeesh': 7195, 'hunk': 2778, 'gopalettan': 2402, 'particip': 4630, 'admin': 73, 'kkfrom': 3201, 'abroad': 19, 'xxsp': 7163, 'visionsmscom': 6762, 'stopcost': 5957, 'goodi': 2390, 'mat': 3615, 'ay': 425, 'satì': 5393, 'andro': 229, 'isaiahd': 2962, 'foot': 2129, 'peni': 4677, 'expert': 1932, 'ssi': 5886, 'thinl': 6304, 'sachinjust': 5339, 'importantli': 2856, 'tightli': 6345, 'wnevr': 7010, 'fal': 1973, 'vth': 6789, 'yen': 7200, 'madodu': 3550, 'nav': 3949, 'pretsorginta': 4920, 'nammanna': 3929, 'pretsovru': 4921, 'alwa': 195, 'eveb': 1878, 'lord': 3451, 'ringsreturn': 5264, 'nowrepli': 4108, 'soundtrack': 5799, 'stdtxtrate': 5920, 'homelov': 2701, 'staffsciencenusedusgphyhcmkteachingpcnumb': 5894, 'emigr': 1800, 'olol': 4464, 'stagwood': 5896, 'winterston': 6978, 'victor': 6734, 'jp': 3095, 'mofo': 3805, 'pathaya': 4648, 'enketa': 1822, 'maraikara': 3593, 'priest': 4931, 'intrud': 2939, 'walkabout': 6812, 'blow': 643, 'phil': 4715, 'nevil': 3990, 'abbey': 7, 'auctionpunj': 386, 'strnumber': 5985, 'classic': 1078, 'nokianumberp': 4059, 'polynumberp': 4825, 'thur': 6336, 'pre': 4895, 'sack': 5340, 'lookatm': 3443, 'clip': 1089, 'mmsto': 3780, 'lifethi': 3361, 'twat': 6540, 'dungere': 1710, 'punch': 5015, 'mention': 3680, 'vat': 6711, 'onlydon': 4482, 'grl': 2455, 'hogolo': 2686, 'kodstini': 3228, 'agalla': 111, 'madstini': 3552, 'hogli': 2685, 'mutai': 3903, 'eerulli': 1758, 'kodthini': 3229, 'kano': 3135, 'thasa': 6256, 'mess': 3694, 'upyeh': 6655, 'tex': 6230, 'mecaus': 3651, 'werebor': 6907, 'okden': 4449, 'uin': 6575, 'satsoundåõ': 5391, 'likeyour': 3371, 'grnumberfun': 2457, 'countinlot': 1258, 'xxxxx': 7169, 'count': 1256, 'hdd': 2573, 'describ': 1486, 'asu': 364, 'randomli': 5085, 'reformat': 5163, 'otsid': 4540, 'leu': 3345, 'plumber': 4787, 'tape': 6159, 'wrench': 7076, 'appeal': 278, 'thriller': 6326, 'size': 5646, 'eleph': 1786, 'um': 6583, 'cr': 1273, 'pooki': 4834, 'wouldnt': 7070, 'youdearwith': 7235, 'loverakhesh': 3477, 'nri': 4115, 'xnumber': 7157, 'itåõ': 2999, 'deserv': 1489, 'tight': 6344, 'numberskilgmetscsnumberwinawkagenumberå': 4319, 'diddi': 1525, 'toothpast': 6439, 'av': 399, 'oneta': 4474, 'poke': 4814, 'everyday': 1887, 'deam': 1420, 'curiou': 1334, 'coccoon': 1117, 'auto': 397, 'yeahand': 7193, 'newquaysend': 3996, 'postcard': 4857, 'goneu': 2378, 'numberim': 4194, 'talkin': 6150, 'boutxx': 697, 'bread': 727, 'windi': 6971, 'ynumber': 7223, 'mahal': 3561, 'knowthi': 3221, 'tirunelvai': 6362, 'dusk': 1715, 'puzzl': 5032, 'stair': 5897, 'phew': 4714, 'thangamit': 6247, 'redr': 5152, 'bloodblood': 638, 'heartheart': 2589, 'numbersomenumb': 4321, 'recycl': 5148, 'toledo': 6407, 'ding': 1549, 'tai': 6138, 'feng': 2027, 'swimsuit': 6109, 'necessari': 3961, 'squeeeeez': 5878, 'lik': 3369, 'frndshp': 2211, 'luvd': 3521, 'themp': 6276, 'volcano': 6779, 'erupt': 1851, 'aris': 315, 'hurrican': 2786, 'sway': 6097, 'aroundn': 324, 'disast': 1565, 'lighter': 3367, 'kkit': 3205, 'goodwhen': 2400, 'lasagna': 3289, 'woould': 7037, 'drove': 1685, 'shore': 5570, 'deu': 1503, 'deliveredtomorrow': 1465, 'tap': 6158, 'spile': 5836, 'broad': 755, 'canal': 880, 'engin': 1817, 'onedg': 4473, 'raviyog': 5096, 'peripher': 4690, 'bhayandar': 589, 'east': 1735, 'sunoco': 6055, 'howard': 2744, 'plate': 4768, 'leftov': 3326, 'starv': 5910, 'cheat': 989, 'fatti': 1999, 'badrith': 447, 'chennaii': 1005, 'usno': 6682, 'owe': 4571, 'checkin': 993, 'numberso': 4320, 'ittb': 2993, 'armenia': 319, 'swann': 6092, 'fromm': 2218, 'wyli': 7149, 'justifi': 3116, 'innumb': 2907, 'hava': 2566, 'rct': 5103, 'thnq': 6311, 'adrian': 82, 'rgd': 5248, 'vatian': 6712, 'babysit': 438, 'itll': 2984, 'gonnamissu': 2381, 'muchi': 3877, 'butther': 816, 'abouta': 18, 'merememberin': 3688, 'asther': 358, 'ofsi': 4433, 'breakin': 732, 'yaxx': 7186, 'ee': 1755, 'poortiyagi': 4839, 'odalebeku': 4416, 'hanumanji': 2540, 'numberhanuman': 4187, 'numberbajarangabali': 4139, 'numbermaruti': 4212, 'numberpavanaputra': 4280, 'numbersankatmochan': 4316, 'numberramaduth': 4310, 'numbermahav': 4210, 'janarig': 3026, 'ivatt': 3000, 'kalisidar': 3127, 'olag': 4459, 'ondu': 4471, 'keluviri': 3156, 'maretar': 3596, 'ind': 2876, 'dodda': 1601, 'problum': 4958, 'nalli': 3925, 'siguviri': 5611, 'idu': 2826, 'matra': 3621, 'neglet': 3975, 'easili': 1734, 'ijust': 2833, 'opp': 4501, 'gei': 2293, 'tron': 6501, 'dl': 1590, 'selfish': 5461, 'spif': 5835, 'workag': 7046, 'supos': 6066, 'therexx': 6287, 'embassi': 1798, 'lightli': 3368, 'checkbox': 992, 'sac': 5337, 'hundredh': 2775, 'batsman': 495, 'yetti': 7216, 'jiayin': 3064, 'poboxnumberwnumbertgnumberp': 4802, 'forgotten': 2144, 'revers': 5244, 'mathemat': 3619, 'numberwaxsto': 4357, 'yifeng': 7219, 'theyll': 6293, 'slurp': 5690, 'minimum': 3736, 'numbermil': 4215, 'ing': 2897, 'brainless': 719, 'dolld': 1625, 'vehicl': 6719, 'sariyag': 5382, 'madok': 3551, 'barolla': 481, 'postpon': 4860, 'elain': 1780, 'tiim': 6348, 'afternon': 104, 'resiz': 5219, 'boxnumbersknumberwpnumberppmnumb': 707, 'oppos': 4506, 'drunken': 1692, 'msgwe': 3867, 'shortcod': 5574, 'refundedthi': 5166, 'somerset': 5757, 'overtim': 4566, 'nigpun': 4021, 'dismissi': 1577, 'screwd': 5427, 'bull': 795, 'float': 2102, 'heehe': 2598, 'arithmet': 316, 'percentag': 4682, 'chillaxin': 1035, 'iknow': 2836, 'wellda': 6895, 'peril': 4688, 'studentfinanci': 5998, 'crisisspk': 1298, 'monster': 3825, 'ia': 2800, 'obey': 4405, 'uhhhhrmm': 6573, 'mb': 3636, 'gbpsm': 2283, 'deltomorrow': 1467, 'smartcal': 5696, 'subscriptnnumbergbpwk': 6021, 'stoptxt': 5960, 'landlineonli': 3271, 'mth': 3872, 'cameravideo': 874, 'textsweekend': 6242, 'callback': 844, 'orno': 4528, 'fink': 2066, 'carli': 910, 'numberminmobsmor': 4218, 'lkpoboxnumberhpnumberfl': 3405, 'youphon': 7246, 'athom': 368, 'youwanna': 7255, 'jack': 3011, 'sayask': 5399, 'pretend': 4919, 'hypotheticalhuagauahahuagahyuhagga': 2799, 'braini': 718, 'occas': 4410, 'reflect': 5160, 'desir': 1491, 'affectionsamp': 96, 'tradit': 6470, 'cantdo': 890, 'anythingtomorrow': 262, 'mypar': 3911, 'aretak': 309, 'outfor': 4550, 'katexxx': 3144, 'level': 3346, 'gate': 2271, 'ts': 6516, 'lingeri': 3383, 'wwwbridalpetticoatdreamscouk': 7105, 'weddingfriend': 6874, 'board': 656, 'overh': 4565, 'reslov': 5220, 'inst': 2917, 'pend': 4674, 'western': 6912, 'outta': 4559, 'nowaday': 4099, 'notixiqu': 4092, 'laxinorf': 3306, 'bambl': 461, 'entrop': 1833, 'oblising': 4407, 'masteriast': 3614, 'amplikat': 214, 'fidalf': 2036, 'champlaxig': 965, 'atroci': 373, 'wotz': 7066, 'junna': 3113, 'knicker': 3216, 'nikiyunumbernet': 4024, 'divert': 1584, 'wadebridgei': 6795, 'vill': 6750, 'orc': 4517, 'bloomberg': 641, 'bloombergcom': 642, 'seek': 5450, 'priscilla': 4940, 'dayexcept': 1402, 'wisdom': 6982, 'wherr': 6938, 'phonenumb': 4724, 'resolut': 5221, 'replyb': 5204, 'frankgood': 2167, 'logoff': 3426, 'parkin': 4626, 'kent': 3159, 'vale': 6698, 'cannt': 888, 'asa': 337, 'wannumb': 6825, 'meetgreet': 3658, 'westlif': 6913, 'numberunbreak': 4348, 'numberuntam': 4351, 'numberunkempt': 4349, 'princ': 4933, 'charm': 978, 'arnt': 322, 'xxxxxxxxxxxxxx': 7173, 'granit': 2430, 'strongbuy': 5988, 'explos': 1939, 'nasdaq': 3935, 'symbol': 6121, 'cdgt': 943, 'dollarnumbernumb': 1623, 'moneeppolum': 3815, 'allalo': 176, 'fundament': 2238, 'numbernumbermega': 4250, 'pixel': 4756, 'numberopt': 4274, 'numberdigit': 4163, 'doom': 1638, 'peteynoiåõm': 4706, 'timehop': 6354, 'alritehav': 189, 'js': 3096, 'amx': 219, 'burgundi': 803, 'captain': 897, 'base': 484, 'placement': 4760, 'amrita': 216, 'bpo': 714, 'didn': 1526, 'nighter': 4016, 'persev': 4694, 'wasnåõt': 6839, 'spous': 5866, 'pmt': 4793, 'sumthin': 6047, 'shldxxxx': 5560, 'thatd': 6258, 'scenario': 5409, 'spunout': 5875, 'wrld': 7084, 'numberppmpoboxnumberbhambnumberx': 4297, 'devour': 1507, 'airtel': 142, 'broadband': 756, 'tens': 6217, 'sprint': 5871, 'prolli': 4974, 'gower': 2418, 'åômorrow': 7289, 'åð': 7286, 'chik': 1019, 'filth': 2050, 'saristar': 5381, 'enumb': 1836, 'numberyt': 4380, 'stopnumb': 5958, 'wirenumbernet': 6981, 'numberstnumberterm': 4325, 'mobcudb': 3791, 'alreadysabarish': 185, 'jaya': 3036, 'jnumber': 3068, 'boxnumbercnumberpm': 702, 'inperson': 2910, 'flea': 2093, 'banneduk': 470, 'itlet': 2983, 'highest': 2644, 'maximum': 3630, 'ny': 4395, 'taj': 6140, 'lesser': 3341, 'known': 3220, 'mumtaz': 3891, 'shahjahan': 5515, 'hari': 2553, 'okcom': 4447, 'wwwrtfsphostingcom': 7131, 'webadr': 6866, 'gete': 2311, 'incred': 2874, 'onumberfwd': 4489, 'numberptxt': 4305, 'passport': 4640, 'multipli': 3886, 'decim': 1439, 'twin': 6546, 'strt': 5990, 'ltdhelpdesk': 3495, 'equal': 1841, 'unev': 6605, 'peski': 4701, 'cyclist': 1352, 'werear': 6906, 'nalla': 3924, 'adi': 71, 'entey': 1828, 'nattil': 3943, 'kittum': 3195, 'kavalan': 3146, 'hire': 2654, 'hitman': 2660, 'cp': 1272, 'outag': 4546, 'conserv': 1206, 'epi': 1839, 'bhaskar': 588, 'dubsack': 1699, 'individu': 2883, 'gong': 2379, 'kaypoh': 3148, 'basketbal': 488, 'outdoor': 4548, 'macho': 3542, 'interfu': 2929, 'hustl': 2790, 'forth': 2152, 'audit': 388, 'harlem': 2555, 'workout': 7050, 'zac': 7272, 'hui': 2769, 'xin': 7154, 'lib': 3351, 'versu': 6727, 'edg': 1747, 'underdtand': 6598, 'itboth': 2975, 'upnot': 6646, 'muchxxlov': 3879, 'locaxx': 3420, 'reschedul': 5212, 'refnumb': 5162, 'skateboard': 5648, 'despit': 1495, 'thrown': 6330, 'bandag': 464, 'mytonecomenjoy': 3914, 'html': 2757, 'mfl': 3709, 'hectic': 2596, 'fell': 2023, 'swoop': 6116, 'wamma': 6820, 'laidwant': 3263, 'doggin': 1611, 'nownyt': 4105, 'langport': 3274, 'virtual': 6760, 'senthil': 5481, 'apnt': 271, 'pant': 4603, 'waiti': 6804, 'gonumbersri': 2383, 'lanka': 3276, 'wordnot': 7042, 'mere': 3687, 'relationshipit': 5177, 'wherevr': 6937, 'forevr': 2138, 'gudnyt': 2485, 'plum': 4786, 'smack': 5692, 'alot': 183, 'attract': 381, 'promot': 4979, 'vega': 6716, 'lou': 3466, 'lancast': 3268, 'neway': 3993, 'couldnåõt': 1255, 'båõday': 830, 'soc': 5737, 'bsn': 772, 'lobbi': 3417, 'eryth': 1853, 'vewi': 6729, 'lubli': 3503, 'rsnumber': 5313, 'sbut': 5402, 'lucknumb': 3508, 'specifi': 5823, 'domain': 1627, 'nusstu': 4387, 'ohi': 4440, 'hahatak': 2514, 'bari': 478, 'hudgi': 2764, 'yorg': 7229, 'pataistha': 4645, 'ertini': 1849, 'hasbroin': 2557, 'jump': 3109, 'hoop': 2718, 'lateso': 3297, 'morningtak': 3836, 'dreamsu': 1670, 'meummifyingby': 3707, 'associ': 356, 'rip': 5271, 'uteru': 6687, 'pool': 4835, 'jacuzzi': 3015, 'colourredtextcolourtxtstar': 1141, 'numbernight': 4241, 'wildest': 6965, 'splwat': 5851, 'whr': 6949, 'aldrin': 158, 'rakhesh': 5077, 'rtm': 5316, 'herepl': 2618, 'callurg': 868, 'neces': 3959, 'witout': 6995, 'hwd': 2795, 'watll': 6849, 'wth': 7094, 'espel': 1860, 'numberwrd': 4367, 'dearlov': 1425, 'wthout': 7095, 'takecar': 6143, 'univ': 6617, 'raja': 5072, 'burrito': 807, 'callcoz': 846, 'terrorist': 6226, 'itz': 2998, 'confirmd': 1197, 'cnn': 1109, 'ibn': 2806, 'stitch': 5945, 'trouser': 6504, 'numbertfnumberp': 4336, 'cheeto': 1001, 'sync': 6124, 'shangela': 5522, 'hppnss': 2753, 'sorrow': 5788, 'goodfriend': 2389, 'againlov': 110, 'poo': 4833, 'gloucesterroad': 2346, 'uup': 6690, 'ouch': 4542, 'glo': 2342, 'snumberxi': 5734, 'yesmum': 7210, 'wlcome': 7005, 'eaten': 1739, 'timi': 6358, 'mila': 3719, 'blond': 635, 'mtalk': 3871, 'numberpptxt': 4299, 'increment': 2875, 'fishrman': 2077, 'ful': 2230, 'stone': 5951, 'strtd': 5991, 'throwin': 6329, 'atlast': 370, 'numberston': 4326, 'moraldont': 3832, 'mobstorequiznumberppm': 3799, 'physic': 4730, 'arpraveesh': 325, 'delici': 1463, 'salad': 5352, 'desert': 1488, 'whore': 6947, 'funk': 2240, 'tonesnumberu': 6422, 'twink': 6547, 'scalli': 5404, 'skin': 5653, 'jock': 3072, 'numbernat': 4236, 'flood': 2103, 'bead': 520, 'wishlist': 6986, 'section': 5445, 'comfort': 1151, 'sold': 5747, 'onionr': 4476, 'petrolr': 4708, 'beerr': 541, 'fakemi': 1971, 'reffer': 5158, 'uif': 6574, 'geti': 2312, 'rsi': 5312, 'weirdi': 6890, 'numberhour': 4190, 'funer': 2239, 'godnot': 2361, 'chikkuk': 1026, 'vivek': 6769, 'brah': 716, 'outif': 4553, 'greec': 2447, 'protect': 4992, 'ethreat': 1869, 'sib': 5599, 'sensit': 5477, 'passwordsatmsm': 4643, 'someday': 5751, 'goodmorningmi': 2393, 'grandfath': 2428, 'expiredso': 1934, 'blu': 645, 'concert': 1187, 'novemb': 4098, 'numbernumbermax': 4249, 'yuou': 7268, 'spot': 5864, 'bunch': 798, 'lotto': 3463, 'authoris': 396, 'honeydid': 2710, 'gimmi': 2327, 'gossx': 2406, 'painit': 4591, 'todaydo': 6391, 'ystrdayic': 7262, 'chile': 1033, 'sublet': 6015, 'febapril': 2014, 'ammaelif': 207, 'steer': 5926, 'rounderso': 5300, 'truekdo': 6508, 'lambu': 3266, 'ji': 3062, 'cometil': 1149, 'batchlor': 492, 'zoom': 7282, 'nowsend': 4110, 'numbercncl': 4150, 'stopc': 5956, 'chees': 999, 'åòharri': 7287, 'pink': 4749, 'ringtonefrom': 5266, 'widelivecomindex': 6955, 'wmlidnumberbnumberanumberecefnumberffnumbernumberfirsttruenumbernumberjulnumb': 7008, 'xafter': 7150, 'cst': 1313, 'pure': 5021, 'hisher': 2655, 'smiley': 5705, 'gail': 2250, 'wrongtak': 7088, 'worryc': 7058, 'lnumbertr': 3413, 'hunlov': 2779, 'yaxxx': 7187, 'theoret': 6279, 'formallypl': 2148, 'prayingwil': 4893, 'multimedia': 3885, 'senthilhsbc': 5482, 'agenc': 113, 'nicki': 4011, 'gumbi': 2493, 'tarpon': 6162, 'cab': 831, 'availablethey': 404, 'step': 5927, 'careumma': 909, 'callnumberoptouthfnumb': 856, 'deartak': 1432, 'radiat': 5062, 'proper': 4986, 'tongu': 6427, 'qi': 5039, 'suddenli': 6029, 'flurri': 2111, 'melt': 3671, 'ground': 2462, 'eek': 1756, 'born': 684, 'freerington': 2188, 'realnumb': 5121, 'pushbutton': 5027, 'dontcha': 1634, 'babygoodby': 435, 'golddigg': 2371, 'webeburnin': 6867, 'nigh': 4014, 'nooooooo': 4070, 'cabl': 833, 'so': 5735, 'playin': 4774, 'guoyang': 2494, 'rahul': 5066, 'dengra': 1473, 'antelop': 249, 'toplay': 6444, 'fieldof': 2038, 'selfindepend': 5460, 'growrandom': 2468, 'gnarl': 2351, 'barkley': 479, 'borderlin': 681, 'nightnight': 4017, 'groov': 2460, 'mise': 3748, 'secur': 5446, 'unsecur': 6628, 'lanr': 3277, 'fakey': 1972, 'eckankar': 1743, 'ph': 4710, 'heater': 2592, 'dodgey': 1602, 'callnumberoptoutnumb': 861, 'faceasssssholeee': 1956, 'ceri': 956, 'rebel': 5126, 'dreamz': 1671, 'ringtonek': 5268, 'nationwid': 3942, 'newport': 3995, 'juliana': 3107, 'nacho': 3917, 'eta': 1865, 'dizzamn': 1588, 'suitem': 6040, 'nimbomson': 4025, 'contin': 1215, 'housew': 2741, 'btnation': 777, 'fiendmak': 2039, 'muchimped': 3878, 'ow': 4570, 'deyi': 1510, 'numbernumberthousadi': 4266, 'sumthinxx': 6048, 'nose': 4081, 'essay': 1862, 'tram': 6474, 'vic': 6733, 'coher': 1125, 'tripl': 6498, 'echo': 1742, 'gran': 2426, 'onlyfound': 4483, 'afew': 92, 'agocusoon': 120, 'honi': 2712, 'dial': 1516, 'univers': 6618, 'southern': 5803, 'california': 842, 'rayan': 5099, 'macleran': 3544, 'ball': 457, 'olav': 4460, 'mandara': 3582, 'trishul': 6499, 'woo': 7032, 'hoo': 2714, 'panti': 4605, 'thout': 6321, 'flatter': 2091, 'pint': 4751, 'carlin': 911, 'liter': 3398, 'ciao': 1062, 'xnumberyour': 7158, 'timey': 6356, 'wknd': 7003, 'yalrigu': 7179, 'heltiniiyo': 2613, 'kothi': 3236, 'meso': 3693, 'meok': 3684, 'chikkub': 1022, 'noic': 4051, 'esaplanad': 1854, 'lanumb': 3278, 'prof': 4966, 'sem': 5464, 'enna': 1823, 'kalaachutaarama': 3125, 'coco': 1121, 'sporad': 5860, 'poboxnumberldnsnumb': 4797, 'tbspersolvo': 6177, 'forå': 2156, 'kath': 3145, 'manchest': 3579, 'youåõr': 7257, 'burden': 801, 'noworriesloanscom': 4107, 'harder': 2550, 'nbme': 3952, 'villa': 6751, 'sathya': 5387, 'gam': 2258, 'religi': 5182, 'hero': 2624, 'tip': 6360, 'muhommad': 3882, 'penni': 4678, 'fite': 2079, 'hwkeep': 2796, 'mj': 3770, 'unconvinc': 6595, 'willpow': 6968, 'absenc': 20, 'answerin': 247, 'åènumber': 7285, 'evey': 1895, 'mnth': 3782, 'prin': 4932, 'ûthank': 7294, 'gsoh': 2474, 'spam': 5811, 'ladiesu': 3258, 'gigolo': 2325, 'oncal': 4470, 'mjzgroup': 3771, 'numbernumberstop': 4265, 'ashwini': 343, 'tomorrowtoday': 6418, 'ukpnumb': 6579, 'jokethet': 3082, 'skinni': 5654, 'liney': 3382, 'elect': 1784, 'shouldn': 5580, 'hlday': 2666, 'camp': 875, 'amrca': 215, 'serena': 5486, 'prescrib': 4907, 'kappa': 3139, 'meatbal': 3650, 'approv': 291, 'panalambut': 4596, 'spjanuari': 5842, 'fortun': 2153, 'allday': 177, 'perf': 4683, 'receipts': 5132, 'ûówel': 7301, 'familiar': 1979, 'infact': 2887, 'simpson': 5621, 'band': 463, 'agreen': 122, 'bblue': 505, 'cred': 1288, 'canåõt': 892, 'isnåõt': 2971, 'shite': 5552, 'kip': 3190, 'hont': 2713, 'amanda': 199, 'subject': 6014, 'perspect': 4699, 'sonot': 5773, 'debat': 1434, 'jb': 3040, 'youso': 7250, 'florida': 2106, 'teeth': 6196, 'hidden': 2640, 'royal': 5305, 'tog': 6397, 'swhrt': 6107, 'deyhop': 1509, 'numberdaylov': 4160, 'misstak': 3759, 'ponumb': 4832, 'numberez': 4167, 'ifwhenhow': 2830, 'dayha': 1403, 'valuemorn': 6704, 'hopeafternoon': 2721, 'faitheven': 1969, 'luvnight': 3522, 'restwish': 5233, 'todaygood': 6393, 'jetton': 3059, 'friendofafriend': 2203, 'cmon': 1106, 'sticki': 5939, 'lunsford': 3517, 'numberxxxxxx': 4373, 'daynumb': 1404, 'prizeawait': 4946, 'kfc': 3168, 'gravi': 2437, 'dahe': 1363, 'daalway': 1356, 'thisdon': 6306, 'messagepandi': 3698, 'mw': 3906, 'tuth': 6536, 'evict': 1896, 'spiral': 5839, 'michael': 3713, 'riddanc': 5255, 'raglan': 5065, 'edward': 1754, 'closebi': 1092, 'dapleas': 1379, 'skye': 5661, 'bookedth': 674, 'hut': 2791, 'drastic': 1663, 'indic': 2882, 'garment': 2269, 'sez': 5504, 'arab': 300, 'evrynumb': 1906, 'eshxxxxxxxxxxx': 1858, 'bimbo': 601, 'ugo': 6571, 'numberlion': 4205, 'porteg': 4847, 'semiobscur': 5467, 'gpr': 2419, 'repeat': 5200, 'loosu': 3449, 'careless': 906, 'myspac': 3912, 'method': 3706, 'blur': 651, 'jewelri': 3060, 'breaker': 730, 'delux': 1468, 'featur': 2012, 'graphic': 2432, 'bbdelux': 502, 'lush': 3518, 'fumbl': 2234, 'daynumberfind': 1405, 'taunton': 6169, 'weekday': 6880, 'haiz': 2521, 'nail': 3922, 'common': 1159, 'asia': 344, 'greatest': 2445, 'defeat': 1452, 'heartgn': 2588, 'stil': 5941, 'tobe': 6386, 'pimpl': 4746, 'natalja': 3940, 'wwwsmsacunatnumb': 7138, 'asthma': 359, 'attack': 375, 'spin': 5837, 'haiyoh': 2520, 'prsn': 4997, 'somtim': 5768, 'sunlight': 6052, 'bcozi': 515, 'loss': 3456, 'audiit': 387, 'reloc': 5183, 'pock': 4807, 'brison': 750, 'cap': 893, 'bullshit': 796, 'gwr': 2500, 'motherfuck': 3841, 'kit': 3193, 'ignumb': 2832, 'oja': 4444, 'thesmszonecom': 6291, 'anonym': 242, 'mask': 3609, 'messagesim': 3699, 'theredo': 6283, 'woodland': 7034, 'avenu': 411, 'parish': 4624, 'magazin': 3556, 'billi': 598, 'awww': 422, 'useless': 6675, 'loo': 3441, 'shelf': 5535, 'swollen': 6115, 'gland': 2339, 'previou': 4925, 'bcaz': 508, 'stu': 5993, 'trubl': 6505, 'evon': 1901, 'mokka': 3808, 'view': 6744, 'dual': 1697, 'hostil': 2732, 'haircut': 2518, 'breezi': 737, 'polyh': 4823, 'numberappledayno': 4134, 'numbertulsi': 4343, 'leafdayno': 3315, 'numberlemondayno': 4204, 'numbercup': 4155, 'milkdayno': 3723, 'bone': 668, 'problm': 4957, 'litr': 3399, 'watrdayno': 6850, 'diseas': 1573, 'snd': 5722, 'lavend': 3304, 'manki': 3589, 'scous': 5421, 'stevelik': 5933, 'homewot': 2703, 'inmind': 2902, 'recreat': 5147, 'epsilon': 1840, 'mesag': 3691, 'judgementali': 3103, 'hidid': 2642, 'waheeda': 6800, 'bot': 689, 'eventu': 1882, 'toler': 6408, 'hellogorg': 2605, 'lst': 3491, 'nitw': 4037, 'texd': 6232, 'hopeu': 2722, 'numberward': 4356, 'cin': 1063, 'jaz': 3038, 'exorc': 1925, 'emili': 1801, 'evri': 1904, 'emot': 1802, 'dsnt': 1695, 'wordsevri': 7043, 'prayr': 4894, 'uothrwis': 6636, 'uso': 6683, 'ujhhhhhhh': 6576, 'sandiago': 5367, 'parantella': 4616, 'sweater': 6100, 'mango': 3586, 'massiv': 3612, 'landmark': 3272, 'bob': 659, 'barri': 483, 'fineabsolutli': 2059, 'consent': 1205, 'form': 2146, 'tonex': 6425, 'wwwclubzedcouk': 7108, 'wwwtcbiz': 7140, 'polo': 4821, 'wnumberj': 7015, 'numberhl': 4189, 'can': 878, 'mathew': 3620, 'tait': 6139, 'anderson': 225, 'haunt': 2564, 'crowd': 1304, 'snowboard': 5730, 'goa': 2355, 'christmassi': 1058, 'recpt': 5146, 'baaaaaaaab': 430, 'shola': 5563, 'academ': 28, 'sagamu': 5347, 'lautech': 3303, 'vital': 6766, 'zealand': 7274, 'qet': 5038, 'browser': 766, 'gb': 2279, 'wellyou': 6898, 'lifey': 3363, 'thati': 6260, 'convers': 1221, 'usget': 6678, 'timeyour': 6357, 'sensesrespect': 5475, 'overemphasiseor': 4564, 'headset': 2578, 'adp': 80, 'intern': 2930, 'extract': 1945, 'godyou': 2363, 'skint': 5655, 'bevieswaz': 582, 'othr': 4539, 'watchng': 6844, 'planet': 4765, 'earthsofa': 1730, 'comfey': 1150, 'leastnumbertim': 3320, 'wudnt': 7097, 'coast': 1113, 'ìïll': 7293, 'ima': 2842, 'frequent': 2194, 'cupboard': 1331, 'rout': 5301, 'numbermro': 4233, 'floppi': 2105, 'snappi': 5720, 'grasp': 2433, 'flavour': 2092, 'lareadi': 3285, 'deni': 1474, 'dom': 1626, 'ffffuuuuuuu': 2033, 'julianaland': 3108, 'oblivi': 4408, 'upsetit': 6651, 'mapquest': 3592, 'dogwood': 1612, 'archiv': 303, 'ukmobiled': 6578, 'mg': 3710, 'behalf': 549, 'stun': 6007, 'visa': 6761, 'gucci': 2479, 'babesozi': 433, 'culdnt': 1326, 'talkbut': 6149, 'wannatel': 6824, 'wenwecan': 6904, 'smsing': 5712, 'effici': 1760, 'explicit': 1937, 'erutupalam': 1852, 'thandiyachu': 6245, 'invent': 2941, 'flyim': 2113, 'noit': 4054, 'lyric': 3530, 'nevr': 3991, 'unrecogn': 6626, 'somon': 5767, 'definitli': 1455, 'undrstnd': 6602, 'ger': 2308, 'toke': 6402, 'syd': 6119, 'lehhaha': 3331, 'khelat': 3172, 'kintu': 3188, 'opponent': 4502, 'dhort': 1514, 'lage': 3260, 'looovvv': 3447, 'warwick': 6835, 'tmw': 6380, 'parad': 4612, 'proze': 4996, 'norcorp': 4074, 'ltdå': 3496, 'numbernumbermtmsgrcvdnumb': 4255, 'chennaibecaus': 1004, 'numbercfcanumbera': 4145, 'grumbl': 2470, 'linear': 3380, 'algebra': 165, 'decor': 1443, 'roomat': 5295, 'graduat': 2423, 'adjust': 72, 'cooper': 1231, 'nottingham': 4094, 'numbermph': 4232, 'clearli': 1085, 'mornin': 3835, 'thanku': 6251, 'string': 5982, 'numbernumberea': 4246, 'otbox': 4536, 'itxx': 2997, 'besid': 570, 'brisk': 749, 'sexiest': 5500, 'dirtiest': 1561, 'steve': 5932, 'tellmiss': 6205, 'contribut': 1218, 'greatli': 2446, 'urgh': 6662, 'coach': 1112, 'duvet': 1717, 'chatim': 983, 'wnumberin': 7014, 'numberutxt': 4353, 'url': 6666, 'beverag': 581, 'vpist': 6785, 'surrend': 6082, 'symptom': 6123, 'rdi': 5107, 'itnow': 2988, 'backward': 443, 'abstract': 22, 'vikkyim': 6748, 'africa': 101, 'avin': 412, 'chitchat': 1044, 'logon': 3427, 'wnumbera': 7013, 'numberzf': 4382, 'quiteamuz': 5053, 'thatåõscool': 6266, 'numbercal': 4144, 'numbertcsbcmnumberwcnumbernnumberxxcallcostnumberppmmobilesvari': 4333, 'fixd': 2082, 'bthmm': 776, 'njan': 4039, 'vilikkamt': 6749, 'sudn': 6030, 'chapter': 972, 'chop': 1050, 'noooooooo': 4071, 'numberstopsmsnumberppm': 4329, 'firsg': 2073, 'split': 5849, 'heat': 2591, 'sumf': 6043, 'subscribenumbergbpmnth': 6019, 'stoptxtstop': 5961, 'hiphop': 2653, 'oxygen': 4576, 'resort': 5223, 'roller': 5290, 'cannam': 886, 'capit': 895, 'australia': 395, 'mquiz': 3853, 'showr': 5586, 'upon': 6648, 'ceil': 945, 'presnt': 4914, 'bcz': 517, 'jeevithathil': 3046, 'irulina': 2961, 'neekunna': 3971, 'prakasamanu': 4885, 'sneham': 5723, 'prakasam': 4884, 'ennal': 1824, 'prabha': 4876, 'mn': 3781, 'islov': 2968, 'firmwar': 2072, 'vijaykanth': 6746, 'comedi': 1146, 'tvhe': 6538, 'anythi': 260, 'wwwclubmobycom': 7107, 'polytruepixringtonesgam': 4828, 'keypad': 3166, 'btwn': 781, 'decad': 1436, 'gover': 2415, 'loyal': 3486, 'spice': 5832, 'prasanth': 4889, 'ettan': 1870, 'appi': 281, 'fizz': 2084, 'contain': 1213, 'genu': 2303, 'robinson': 5282, 'nottel': 4093, 'out': 4545, 'soz': 5805, 'imat': 2846, 'msgsometext': 3865, 'chloe': 1046, 'numberptext': 4303, 'wewa': 6919, 'iriv': 2958, 'bw': 823, 'dajst': 1367, 'hmmmbut': 2673, 'surli': 6079, 'dokey': 1619, 'mmmmmmm': 3779, 'snuggl': 5732, 'whisper': 6942, 'healthi': 2582, 'numberbold': 4142, 'givit': 2337, 'kanoanyway': 3136, 'scrape': 5422, 'barrel': 482, 'misfit': 3750, 'sleepin': 5670, 'clearer': 1084, 'peach': 4665, 'rayman': 5100, 'golf': 2374, 'activnumb': 58, 'termsappli': 6222, 'therel': 6285, 'minor': 3738, 'shindig': 5546, 'minstext': 3741, 'phonebook': 4723, 'keng': 3158, 'ash': 341, 'shijutta': 5544, 'kafter': 3121, 'offens': 4421, 'bbdtht': 504, 'dvg': 1719, 'coldheard': 1131, 'vinobanagar': 6753, 'conditionand': 1190, 'ovulatewhen': 4569, 'woah': 7021, 'orh': 4525, 'nnumber': 4041, 'darlinim': 1386, 'soonxxx': 5780, 'coolmob': 1229, 'frogaxel': 2217, 'akonlon': 150, 'eyeddont': 1950, 'cashbincouk': 925, 'wwwcashbincouk': 7106, 'canteen': 891, 'stressful': 5977, 'ninumberswt': 4031, 'presid': 4912, 'ardìä': 305, 'leastwhich': 3321, 'bedrm': 532, 'hitechn': 2658, 'supportprovid': 6070, 'assist': 355, 'watev': 6847, 'built': 793, 'lonlin': 3440, 'lotz': 3465, 'gailxx': 2251, 'hii': 2645, 'complac': 1168, 'mina': 3728, 'miwa': 3768, 'hsbc': 2756, 'woulda': 7069, 'numberfrom': 4172, 'opposit': 4507, 'heavili': 2595, 'doll': 1620, 'patrick': 4650, 'swayz': 6098, 'santa': 5371, 'callsnumbernumberppm': 866, 'wwwsantacallingcom': 7132, 'miser': 3749, 'quarter': 5043, 'nervou': 3980, 'limp': 3377, 'aa': 0, 'oga': 4436, 'poorli': 4838, 'brb': 725, 'smaller': 5694, 'capac': 894, 'smsshsexnetun': 5715, 'fgkslpopw': 2035, 'fgkslpo': 2034, 'defer': 1453, 'admiss': 76, 'checkmat': 994, 'chess': 1009, 'persian': 4695, 'phrase': 4729, 'shah': 5514, 'maat': 3535, 'rat': 5091, 'pee': 4668, 'photoshop': 4727, 'shoppin': 5566, 'toopray': 6437, 'inshah': 2914, 'allah': 173, 'sthi': 5937, 'increas': 2873, 'wifedont': 6958, 'iti': 2980, 'toolet': 6435, 'north': 4079, 'carolina': 915, 'texa': 6231, 'gre': 2441, 'bomb': 667, 'weapon': 6861, 'lovli': 3481, 'messagethank': 3702, 'numberpmsgrcvd': 4288, 'customercar': 1342, 'playi': 4773, 'cla': 1070, 'lit': 3397, 'loooooool': 3446, 'couch': 1249, 'swashbuckl': 6094, 'numberterror': 4335, 'numbercruel': 4154, 'numberlov': 4206, 'numberdec': 4162, 'joker': 3081, 'dip': 1554, 'geknumb': 2294, 'feelin': 2020, 'nuther': 4388, 'lyricalladienumberf': 3531, 'wwwsmsacuhmmross': 7136, 'happiest': 2546, 'crisi': 1297, 'whenwher': 6932, 'antibiot': 252, 'abdomen': 8, 'gyna': 2503, 'infect': 2888, 'numbertim': 4341, 'chastiti': 981, 'devic': 1505, 'beat': 522, 'gut': 2496, 'tallahasse': 6152, 'ou': 4541, 'taka': 6141, 'nrnumber': 4116, 'numberz': 4381, 'ritten': 5274, 'fold': 2119, 'warner': 6833, 'colin': 1132, 'farrel': 1988, 'swat': 6095, 'popcornjust': 4842, 'kiosk': 3189, 'mre': 3855, 'solihul': 5748, 'nh': 4004, 'mistakeu': 3763, 'bornpleas': 685, 'numberb': 4138, 'terminatedw': 6221, 'inconveni': 2871, 'henri': 2616, 'yard': 7184, 'bergkamp': 569, 'margin': 3598, 'itsnot': 2992, 'parentnot': 4620, 'unintent': 6613, 'nonetheless': 4066, 'hooch': 2715, 'toaday': 6384, 'splat': 5847, 'graze': 2440, 'confirmdeni': 1198, 'hearin': 2586, 'yah': 7177, 'tortur': 6450, 'wasn': 6837, 'sexychat': 5503, 'startedindia': 5908, 'kkcongratul': 3200, 'court': 1264, 'chapel': 971, 'frontiervil': 2220, 'mountain': 3846, 'deer': 1449, 'maili': 3565, 'varma': 6709, 'membershiptak': 3674, 'careinsha': 905, 'fart': 1989, 'ortxt': 4531, 'advisor': 89, 'diall': 1517, 'woot': 7036, 'ahhhhjust': 128, 'uphad': 6644, 'thoso': 6314, 'viveki': 6770, 'dado': 1361, 'experiencehttpaddr': 1931, 'kaila': 3123, 'donat': 1629, 'unicef': 6611, 'asian': 345, 'fund': 2237, 'cme': 1105, 'collaps': 1134, 'jade': 3017, 'paul': 4653, 'barm': 480, 'thinkthi': 6303, 'goldvik': 2373, 'wwwsmsacugoldvik': 7135, 'coulda': 1253, 'phoni': 4725, 'okday': 4448, 'hmph': 2679, 'baller': 458, 'punto': 5017, 'ayo': 427, 'freeentri': 2177, 'xt': 7160, 'toyota': 6465, 'camri': 877, 'olayiwola': 4461, 'mileag': 3721, 'clover': 1099, 'numberpl': 4282, 'idconvey': 2818, 'achanammarakheshqatar': 45, 'rencontr': 5194, 'galsu': 2257, 'nìâte': 4401, 'puppi': 5018, 'nois': 4052, 'sarasota': 5377, 'numberpmeg': 4285, 'codenumberxxnumb': 1123, 'deepest': 1448, 'darkest': 1383, 'nat': 3938, 'vldo': 6772, 'adsens': 83, 'dudett': 1703, 'perumbavoor': 4700, 'stage': 5895, 'cherish': 1007, 'clarifi': 1075, 'prepon': 4906, 'natali': 3939, 'wwwsmsacunatalienumberknumb': 7137, 'younger': 7245, 'wallpap': 6816, 'liver': 3402, 'hmmmstill': 2678, 'loneli': 3437, 'skyve': 5663, 'onword': 4491, 'mtnl': 3873, 'mumbai': 3888, 'accommodationvouch': 37, 'mustprovid': 3902, 'rajitha': 5075, 'ranju': 5089, 'tscsnumber': 6519, 'numberwinawk': 4362, 'numbernumberperweeksub': 4258, 'dearslp': 1431, 'welltak': 6897, 'careswt': 908, 'dreamsmuah': 1669, 'disagre': 1562, 'afterward': 106, 'uawakefeellikw': 6563, 'shitjustfound': 5554, 'alett': 161, 'thatmum': 6262, 'gotmarri': 2410, 'numberthnovbehind': 4340, 'ourback': 4543, 'fuckinniceselfish': 2226, 'rearrang': 5123, 'dormitori': 1641, 'astronom': 363, 'starer': 5905, 'recount': 5144, 'motherinlaw': 3842, 'hitler': 2659, 'eleven': 1787, 'worm': 7055, 'dysentri': 1721, 'andr': 227, 'virgil': 6758, 'lorgoin': 3452, 'gokila': 2369, 'shanilrakhesh': 5524, 'herethanksi': 2620, 'exchang': 1914, 'uncut': 6597, 'stuffleav': 6004, 'dino': 1552, 'kkthi': 3206, 'kote': 3235, 'themobhit': 6274, 'panther': 4604, 'sugabab': 6034, 'zebra': 7275, 'badass': 445, 'hoodi': 2716, 'wallpaperal': 6817, 'resent': 5215, 'queri': 5046, 'hassl': 2559, 'haughaighgtujhyguj': 2562, 'fassyol': 1990, 'blacko': 619, 'londn': 3434, 'numbereva': 4165, 'vco': 6714, 'reassur': 5125, 'aslamalaikkuminsha': 349, 'tohar': 6399, 'beeen': 536, 'muht': 3883, 'albi': 154, 'mufti': 3881, 'mahfuuzmean': 3562, 'enufcredeit': 1834, 'tocallshal': 6387, 'ileav': 2838, 'okor': 4454, 'ibor': 2807, 'zero': 7277, 'goigng': 2366, 'perfum': 4686, 'sday': 5432, 'joinedso': 3079, 'grocer': 2459, 'franki': 2168, 'benni': 568, 'diaper': 1520, 'unlik': 6621, 'patient': 4649, 'turkey': 6534, 'dawher': 1399, 'garden': 2267, 'bulb': 794, 'seed': 5449, 'scotsman': 5420, 'gonumb': 2382, 'notxtcouk': 4095, 'wenev': 6902, 'familymay': 1980, 'stabil': 5890, 'tranquil': 6475, 'vibrant': 6731, 'bawl': 498, 'failur': 1965, 'velusami': 6722, 'facil': 1958, 'karnan': 3141, 'bluray': 652, 'salt': 5360, 'wound': 7071, 'geoenvironment': 2305, 'implic': 2854, 'gentli': 2302, 'fuuuuck': 2246, 'salmon': 5358, 'wrkin': 7082, 'ree': 5154, 'compens': 1166, 'awkward': 420, 'splash': 5845, 'musta': 3900, 'overdid': 4562, 'wwwtelediscountcouk': 7141, 'hiwhat': 2663, 'gastroenter': 2270, 'reduc': 5153, 'chuck': 1059, 'nightsw': 4020, 'port': 4845, 'liaotoo': 3350, 'juswok': 3117, 'boatin': 658, 'spinout': 5838, 'remet': 5191, 'uworld': 6693, 'qbank': 5037, 'assess': 353, 'someonon': 5755, 'tke': 6371, 'temal': 6209, 'vidnot': 6743, 'finishd': 2065, 'mnumberxi': 3787, 'dull': 1706, 'treadmil': 6487, 'craigslist': 1276, 'absolut': 21, 'drmstake': 1683, 'swan': 6091, 'teethif': 6198, 'asapok': 339, 'hellohow': 2606, 'doingwhat': 1616, 'numberwhen': 4359, 'lamp': 3267, 'latebut': 3293, 'kwish': 3246, 'foward': 2160, 'misundrstud': 3764, 'numberunumb': 4352, 'gene': 2296, 'wwwldewcomnumberwinnumberppmxnumberagenumbersubscript': 7119, 'reappli': 5122, 'treatin': 6490, 'treacl': 6486, 'mumha': 3889, 'beendrop': 538, 'theplac': 6281, 'adress': 81, 'moneyi': 3818, 'favorit': 2006, 'oyster': 4578, 'sashimi': 5383, 'rumbl': 5327, 'marandratha': 3594, 'topic': 6442, 'correctli': 1241, 'sirsalam': 5635, 'alaikkumprid': 152, 'shopw': 5568, 'qatarrakhesh': 5036, 'indianpl': 2881, 'numberrespect': 4313, 'galcan': 2254, 'boyi': 712, 'galno': 2256, 'heaven': 2593, 'princegn': 4934, 'pisc': 4752, 'aquariu': 298, 'steyn': 5935, 'wicket': 6952, 'sterm': 5931, 'resolv': 5222, 'jam': 3019, 'hannaford': 2539, 'wheat': 6925, 'chex': 1011, 'pride': 4930, 'grownup': 2467, 'stuffwhi': 6006, 'jerk': 3053, 'stink': 5944, 'textcomp': 6237, 'subsequ': 6023, 'numbercustcar': 4156, 'upcharg': 6638, 'guai': 2477, 'bottl': 691, 'amus': 218, 'astrolog': 362, 'slack': 5665, 'officestil': 4425, 'formsdon': 2151, 'mentor': 3682, 'percent': 4681, 'erot': 1846, 'ecstaci': 1745, 'dept': 1482, 'datingi': 1394, 'coincid': 1128, 'sane': 5368, 'paus': 4654, 'grnumberpr': 2458, 'psp': 5001, 'wktxt': 7004, 'httpwwwgrnumberprizescom': 2760, 'spacebuck': 5808, 'squeez': 5879, 'meremov': 3689, 'numberiåõm': 4197, 'dread': 1666, 'thou': 6316, 'forgt': 2145, 'ajith': 147, 'ooooooh': 4495, 'yovil': 7258, 'mega': 3661, 'asda': 340, 'bff': 586, 'someonethat': 5754, 'seperated': 5483, 'ud': 6567, 'brolli': 759, 'franxx': 2169, 'welli': 6896, 'prometazin': 4975, 'syrup': 6126, 'numberml': 4223, 'feed': 2018, 'shu': 5592, 'singapor': 5627, 'victoria': 6735, 'pocay': 4805, 'wocay': 7022, 'numbermorrowxxxx': 4231, 'broth': 760, 'ramen': 5081, 'fowler': 2161, 'ksri': 3238, 'sivatat': 5644, 'flew': 2095, 'pubcaf': 5009, 'attent': 379, 'tix': 6369, 'fne': 2117, 'youdo': 7236, 'worc': 7039, 'foreg': 2135, 'shrub': 5591, 'getnumberannumberth': 2313, 'legitimat': 3329, 'efreefon': 1761, 'shopth': 5567, 'pendent': 4675, 'toilet': 6400, 'stolen': 5948, 'cop': 1232, 'hu': 2761, 'navig': 3950, 'guidanc': 2489, 'chick': 1016, 'boob': 672, 'sparkl': 5815, 'wwwshortbreaksorguk': 7133, 'gyno': 2504, 'wwwgambtv': 7114, 'treasur': 6488, 'httptm': 2759, 'wmlidnumberadnumberanumberfirsttrueåác': 7007, 'ringtoneåá': 5269, 'neg': 3973, 'hmmmm': 2677, 'dhoni': 1513, 'titleso': 6367, 'command': 1155, 'holbi': 2688, 'li': 3347, 'yeovil': 7201, 'motor': 3844, 'max': 3628, 'rhode': 5251, 'bong': 669, 'ofcours': 4418, 'planettalkinstantcom': 4767, 'loti': 3459, 'marvel': 3608, 'spiderman': 5834, 'spider': 5833, 'numberbal': 4140, 'tamilnaduthen': 6154, 'apo': 272, 'identif': 2821, 'boundari': 695, 'endless': 1810, 'lorw': 3453, 'young': 7244, 'referin': 5157, 'liaoso': 3349, 'saibaba': 5348, 'colani': 1129, 'chic': 1015, 'declar': 1442, 'disappoint': 1564, 'tantrum': 6157, 'compliment': 1174, 'chief': 1018, 'gsex': 2473, 'wcnumbern': 6857, 'numberxx': 4371, 'numbermobil': 4225, 'chatlin': 984, 'inclu': 2866, 'bailiff': 452, 'mous': 3847, 'desk': 1492, 'childporn': 1031, 'jumper': 3110, 'hat': 2560, 'belt': 562, 'cribb': 1294, 'spiritu': 5841, 'sudden': 6028, 'influx': 2890, 'kane': 3133, 'shud': 5593, 'pshewmiss': 4999, 'accent': 30, 'dental': 1476, 'nmde': 4040, 'dump': 1708, 'heap': 2583, 'salesman': 5356, 'nownumb': 4103, 'piti': 4754, 'soani': 5736}\n",
            "[8.93254161 8.23939443 8.93254161 ... 8.93254161 7.67977864 8.93254161]\n"
          ],
          "name": "stdout"
        }
      ]
    },
    {
      "cell_type": "code",
      "metadata": {
        "id": "kPvtDjNVWlHS",
        "colab_type": "code",
        "colab": {}
      },
      "source": [
        "X = tfv.transform(tokenized_text).toarray() #final data"
      ],
      "execution_count": 0,
      "outputs": []
    },
    {
      "cell_type": "code",
      "metadata": {
        "id": "MybdHhEwXHa1",
        "colab_type": "code",
        "outputId": "4bfea4e5-4386-4165-f161-ceb91079c032",
        "colab": {
          "base_uri": "https://localhost:8080/",
          "height": 35
        }
      },
      "source": [
        "print(X.shape)"
      ],
      "execution_count": 130,
      "outputs": [
        {
          "output_type": "stream",
          "text": [
            "(5572, 7302)\n"
          ],
          "name": "stdout"
        }
      ]
    },
    {
      "cell_type": "code",
      "metadata": {
        "id": "sjEq1gdNXjjV",
        "colab_type": "code",
        "colab": {}
      },
      "source": [
        "from sklearn import svm\n",
        "from sklearn.naive_bayes import MultinomialNB\n",
        "from sklearn.model_selection import train_test_split\n",
        "from sklearn.metrics import classification_report\n",
        "from sklearn.metrics import confusion_matrix\n",
        "from sklearn.metrics import precision_recall_fscore_support\n",
        "from sklearn.metrics import cohen_kappa_score"
      ],
      "execution_count": 0,
      "outputs": []
    },
    {
      "cell_type": "code",
      "metadata": {
        "id": "YMPR2_LgX2V8",
        "colab_type": "code",
        "outputId": "c511cb7c-2411-4dae-cf5d-5f6263101cc7",
        "colab": {
          "base_uri": "https://localhost:8080/",
          "height": 71
        }
      },
      "source": [
        "#split data into train and test sets\n",
        "X_train,X_test,y_train,y_test = train_test_split(X,blabels,test_size=0.3)\n",
        "print('No. of training examples: ',len(X_train))\n",
        "print('No. of tesitng examples: ',len(X_test))\n",
        "print(X_train.shape)"
      ],
      "execution_count": 132,
      "outputs": [
        {
          "output_type": "stream",
          "text": [
            "No. of training examples:  3900\n",
            "No. of tesitng examples:  1672\n",
            "(3900, 7302)\n"
          ],
          "name": "stdout"
        }
      ]
    },
    {
      "cell_type": "code",
      "metadata": {
        "id": "P7YRoNrFX8t_",
        "colab_type": "code",
        "outputId": "c6d5896a-f2af-4728-b1dd-a2a52669c055",
        "colab": {
          "base_uri": "https://localhost:8080/",
          "height": 89
        }
      },
      "source": [
        "#train the SVM model\n",
        "model1 = svm.SVC()\n",
        "model1.fit(X_train,y_train)"
      ],
      "execution_count": 133,
      "outputs": [
        {
          "output_type": "execute_result",
          "data": {
            "text/plain": [
              "SVC(C=1.0, break_ties=False, cache_size=200, class_weight=None, coef0=0.0,\n",
              "    decision_function_shape='ovr', degree=3, gamma='scale', kernel='rbf',\n",
              "    max_iter=-1, probability=False, random_state=None, shrinking=True,\n",
              "    tol=0.001, verbose=False)"
            ]
          },
          "metadata": {
            "tags": []
          },
          "execution_count": 133
        }
      ]
    },
    {
      "cell_type": "code",
      "metadata": {
        "id": "Bco-0V6kYNGh",
        "colab_type": "code",
        "colab": {}
      },
      "source": [
        "#perform predictions\n",
        "predictions = model1.predict(X_test)"
      ],
      "execution_count": 0,
      "outputs": []
    },
    {
      "cell_type": "code",
      "metadata": {
        "id": "euHwQijtabEa",
        "colab_type": "code",
        "outputId": "a4a95f96-fe61-4f2b-f606-29d03c462d6c",
        "colab": {
          "base_uri": "https://localhost:8080/",
          "height": 35
        }
      },
      "source": [
        "p = predictions == y_test\n",
        "print('Accuracy: ',len(p[p == True])/len(p))"
      ],
      "execution_count": 135,
      "outputs": [
        {
          "output_type": "stream",
          "text": [
            "Accuracy:  0.9766746411483254\n"
          ],
          "name": "stdout"
        }
      ]
    },
    {
      "cell_type": "code",
      "metadata": {
        "id": "qj-QbnVsbHPw",
        "colab_type": "code",
        "outputId": "06b22bc2-1d07-4023-c8e4-5658da371ba4",
        "colab": {
          "base_uri": "https://localhost:8080/",
          "height": 179
        }
      },
      "source": [
        "print(classification_report(y_test,predictions))"
      ],
      "execution_count": 136,
      "outputs": [
        {
          "output_type": "stream",
          "text": [
            "              precision    recall  f1-score   support\n",
            "\n",
            "           0       0.98      1.00      0.99      1438\n",
            "           1       0.99      0.85      0.91       234\n",
            "\n",
            "    accuracy                           0.98      1672\n",
            "   macro avg       0.98      0.92      0.95      1672\n",
            "weighted avg       0.98      0.98      0.98      1672\n",
            "\n"
          ],
          "name": "stdout"
        }
      ]
    },
    {
      "cell_type": "code",
      "metadata": {
        "id": "Pmy5wqbobTzU",
        "colab_type": "code",
        "outputId": "04c3e5de-0b31-421f-8e4d-2d6ee60b1e5d",
        "colab": {
          "base_uri": "https://localhost:8080/",
          "height": 71
        }
      },
      "source": [
        "print('Confusion matrix: ')\n",
        "print(confusion_matrix(y_test,predictions))\n",
        "print"
      ],
      "execution_count": 137,
      "outputs": [
        {
          "output_type": "stream",
          "text": [
            "Confusion matrix: \n",
            "[[1435    3]\n",
            " [  36  198]]\n"
          ],
          "name": "stdout"
        }
      ]
    },
    {
      "cell_type": "code",
      "metadata": {
        "id": "Il0l-QfWbpSI",
        "colab_type": "code",
        "outputId": "e4301741-8e7e-446b-944a-23df57d7557f",
        "colab": {
          "base_uri": "https://localhost:8080/",
          "height": 53
        }
      },
      "source": [
        "print(precision_recall_fscore_support(y_test,predictions,average='macro'))\n",
        "print(cohen_kappa_score(y_test,predictions))"
      ],
      "execution_count": 140,
      "outputs": [
        {
          "output_type": "stream",
          "text": [
            "(0.9803007396734884, 0.9220338076388146, 0.9484690793139009, None)\n",
            "0.8970267760701901\n"
          ],
          "name": "stdout"
        }
      ]
    },
    {
      "cell_type": "code",
      "metadata": {
        "id": "LA8t9YLgn6DR",
        "colab_type": "code",
        "outputId": "5ea6f519-5ecb-40af-8500-ad347db8b914",
        "colab": {
          "base_uri": "https://localhost:8080/",
          "height": 35
        }
      },
      "source": [
        "model2 = MultinomialNB(alpha=0.1)\n",
        "model2.fit(X_train,y_train)"
      ],
      "execution_count": 141,
      "outputs": [
        {
          "output_type": "execute_result",
          "data": {
            "text/plain": [
              "MultinomialNB(alpha=0.1, class_prior=None, fit_prior=True)"
            ]
          },
          "metadata": {
            "tags": []
          },
          "execution_count": 141
        }
      ]
    },
    {
      "cell_type": "code",
      "metadata": {
        "id": "ouaaQLr5zAfI",
        "colab_type": "code",
        "colab": {
          "base_uri": "https://localhost:8080/",
          "height": 35
        },
        "outputId": "f6c36f6d-90c0-47ae-dea7-bbb36b467eab"
      },
      "source": [
        "y_pred = model2.predict(X_test)\n",
        "print(cohen_kappa_score(y_test,y_pred))"
      ],
      "execution_count": 142,
      "outputs": [
        {
          "output_type": "stream",
          "text": [
            "0.9178659680252463\n"
          ],
          "name": "stdout"
        }
      ]
    },
    {
      "cell_type": "code",
      "metadata": {
        "id": "h8uIxTllzJp3",
        "colab_type": "code",
        "colab": {
          "base_uri": "https://localhost:8080/",
          "height": 53
        },
        "outputId": "1b0fb3c1-d7fa-43a7-eb04-745478eb1268"
      },
      "source": [
        "print(confusion_matrix(y_test,y_pred))"
      ],
      "execution_count": 143,
      "outputs": [
        {
          "output_type": "stream",
          "text": [
            "[[1422   16]\n",
            " [  17  217]]\n"
          ],
          "name": "stdout"
        }
      ]
    },
    {
      "cell_type": "code",
      "metadata": {
        "id": "QJK6jonhzR74",
        "colab_type": "code",
        "colab": {
          "base_uri": "https://localhost:8080/",
          "height": 53
        },
        "outputId": "b973aa8f-8ea3-47e9-9a7c-6cfe5f5a186d"
      },
      "source": [
        "print(confusion_matrix(y_test,predictions))"
      ],
      "execution_count": 144,
      "outputs": [
        {
          "output_type": "stream",
          "text": [
            "[[1435    3]\n",
            " [  36  198]]\n"
          ],
          "name": "stdout"
        }
      ]
    },
    {
      "cell_type": "code",
      "metadata": {
        "id": "udtCRhSbzZ1-",
        "colab_type": "code",
        "colab": {
          "base_uri": "https://localhost:8080/",
          "height": 179
        },
        "outputId": "8277b325-82ec-4625-d181-7b5416345ddf"
      },
      "source": [
        "print(classification_report(y_test,y_pred))"
      ],
      "execution_count": 146,
      "outputs": [
        {
          "output_type": "stream",
          "text": [
            "              precision    recall  f1-score   support\n",
            "\n",
            "           0       0.99      0.99      0.99      1438\n",
            "           1       0.93      0.93      0.93       234\n",
            "\n",
            "    accuracy                           0.98      1672\n",
            "   macro avg       0.96      0.96      0.96      1672\n",
            "weighted avg       0.98      0.98      0.98      1672\n",
            "\n"
          ],
          "name": "stdout"
        }
      ]
    },
    {
      "cell_type": "code",
      "metadata": {
        "id": "hhDLvQPK0IUb",
        "colab_type": "code",
        "colab": {
          "base_uri": "https://localhost:8080/",
          "height": 89
        },
        "outputId": "aaece891-dd41-488f-fb58-6f8048d553a8"
      },
      "source": [
        "model3 = svm.SVC(kernel='linear')\n",
        "model3.fit(X_train,y_train)"
      ],
      "execution_count": 147,
      "outputs": [
        {
          "output_type": "execute_result",
          "data": {
            "text/plain": [
              "SVC(C=1.0, break_ties=False, cache_size=200, class_weight=None, coef0=0.0,\n",
              "    decision_function_shape='ovr', degree=3, gamma='scale', kernel='linear',\n",
              "    max_iter=-1, probability=False, random_state=None, shrinking=True,\n",
              "    tol=0.001, verbose=False)"
            ]
          },
          "metadata": {
            "tags": []
          },
          "execution_count": 147
        }
      ]
    },
    {
      "cell_type": "code",
      "metadata": {
        "id": "FEb0flLW0foG",
        "colab_type": "code",
        "colab": {
          "base_uri": "https://localhost:8080/",
          "height": 35
        },
        "outputId": "966134c4-b9ef-4318-fcbf-f6685ade6f8a"
      },
      "source": [
        "pp = model3.predict(X_test)\n",
        "print(cohen_kappa_score(y_test,pp))"
      ],
      "execution_count": 148,
      "outputs": [
        {
          "output_type": "stream",
          "text": [
            "0.9141742522756827\n"
          ],
          "name": "stdout"
        }
      ]
    },
    {
      "cell_type": "code",
      "metadata": {
        "id": "USApmU-m0w0S",
        "colab_type": "code",
        "colab": {
          "base_uri": "https://localhost:8080/",
          "height": 179
        },
        "outputId": "9412b5ce-6fdd-4b8b-a33c-07387c21c033"
      },
      "source": [
        "print(classification_report(y_test,pp))"
      ],
      "execution_count": 149,
      "outputs": [
        {
          "output_type": "stream",
          "text": [
            "              precision    recall  f1-score   support\n",
            "\n",
            "           0       0.98      1.00      0.99      1438\n",
            "           1       0.98      0.88      0.93       234\n",
            "\n",
            "    accuracy                           0.98      1672\n",
            "   macro avg       0.98      0.94      0.96      1672\n",
            "weighted avg       0.98      0.98      0.98      1672\n",
            "\n"
          ],
          "name": "stdout"
        }
      ]
    },
    {
      "cell_type": "code",
      "metadata": {
        "id": "mwkvF31A070N",
        "colab_type": "code",
        "colab": {
          "base_uri": "https://localhost:8080/",
          "height": 53
        },
        "outputId": "74436549-f0ad-4726-f31f-cbfd2defc4e4"
      },
      "source": [
        "print(confusion_matrix(y_test,pp))"
      ],
      "execution_count": 150,
      "outputs": [
        {
          "output_type": "stream",
          "text": [
            "[[1434    4]\n",
            " [  29  205]]\n"
          ],
          "name": "stdout"
        }
      ]
    },
    {
      "cell_type": "code",
      "metadata": {
        "id": "SZK4S2mV1A90",
        "colab_type": "code",
        "colab": {}
      },
      "source": [
        ""
      ],
      "execution_count": 0,
      "outputs": []
    }
  ]
}